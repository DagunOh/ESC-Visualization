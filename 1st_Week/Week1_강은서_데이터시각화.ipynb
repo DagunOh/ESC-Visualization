{
 "cells": [
  {
   "cell_type": "code",
   "execution_count": 1,
   "metadata": {},
   "outputs": [
    {
     "data": {
      "text/plain": [
       "['C:\\\\Windows\\\\Fonts\\\\ARIALUNI.TTF',\n",
       " 'C:\\\\WINDOWS\\\\Fonts\\\\consola.ttf',\n",
       " 'C:\\\\Users\\\\ddora\\\\AppData\\\\Local\\\\Microsoft\\\\Windows\\\\Fonts\\\\a엄마의편지M.ttf',\n",
       " 'C:\\\\Users\\\\ddora\\\\AppData\\\\Local\\\\Microsoft\\\\Windows\\\\Fonts\\\\NanumBarunGothicBold.ttf',\n",
       " 'C:\\\\WINDOWS\\\\Fonts\\\\cambriaz.ttf',\n",
       " 'C:\\\\WINDOWS\\\\Fonts\\\\segoescb.ttf',\n",
       " 'C:\\\\Windows\\\\Fonts\\\\gulim.ttc',\n",
       " 'C:\\\\Windows\\\\Fonts\\\\BOOKOS.TTF',\n",
       " 'C:\\\\WINDOWS\\\\Fonts\\\\MISTRAL.TTF',\n",
       " 'C:\\\\WINDOWS\\\\Fonts\\\\NanumBarunpenR.ttf',\n",
       " 'C:\\\\WINDOWS\\\\Fonts\\\\tahoma.ttf',\n",
       " 'C:\\\\WINDOWS\\\\Fonts\\\\l_10646.ttf',\n",
       " 'C:\\\\Windows\\\\Fonts\\\\courbd.ttf',\n",
       " 'C:\\\\Windows\\\\Fonts\\\\corbelli.ttf',\n",
       " 'C:\\\\Windows\\\\Fonts\\\\segoeuii.ttf',\n",
       " 'C:\\\\WINDOWS\\\\Fonts\\\\HANBatangExtB.ttf',\n",
       " 'C:\\\\WINDOWS\\\\Fonts\\\\wingding.ttf',\n",
       " 'C:\\\\Windows\\\\Fonts\\\\HMKMAMI.TTF',\n",
       " 'C:\\\\Windows\\\\Fonts\\\\ARIALNB.TTF',\n",
       " 'C:\\\\WINDOWS\\\\Fonts\\\\calibrii.ttf',\n",
       " 'C:\\\\WINDOWS\\\\Fonts\\\\gulim.ttc',\n",
       " 'C:\\\\Windows\\\\Fonts\\\\msjhbd.ttc',\n",
       " 'C:\\\\Windows\\\\Fonts\\\\trebuc.ttf',\n",
       " 'C:\\\\Windows\\\\Fonts\\\\HMFMPYUN.TTF',\n",
       " 'C:\\\\Windows\\\\Fonts\\\\UDDigiKyokashoN-B.ttc',\n",
       " 'C:\\\\Windows\\\\Fonts\\\\HMKMRHD.TTF',\n",
       " 'C:\\\\WINDOWS\\\\Fonts\\\\simsun.ttc',\n",
       " 'C:\\\\Windows\\\\Fonts\\\\HMKMMAG.TTF',\n",
       " 'C:\\\\Users\\\\ddora\\\\AppData\\\\Local\\\\Microsoft\\\\Windows\\\\Fonts\\\\NanumSquareB.ttf',\n",
       " 'C:\\\\WINDOWS\\\\Fonts\\\\HANDotum.ttf',\n",
       " 'C:\\\\WINDOWS\\\\Fonts\\\\NanumSquareB.ttf',\n",
       " 'C:\\\\WINDOWS\\\\Fonts\\\\SitkaZ.ttc',\n",
       " 'C:\\\\Windows\\\\Fonts\\\\seguisbi.ttf',\n",
       " 'C:\\\\WINDOWS\\\\Fonts\\\\georgiab.ttf',\n",
       " 'C:\\\\WINDOWS\\\\Fonts\\\\georgia.ttf',\n",
       " 'C:\\\\Windows\\\\Fonts\\\\timesbd.ttf',\n",
       " 'C:\\\\WINDOWS\\\\Fonts\\\\segoeuil.ttf',\n",
       " 'C:\\\\Users\\\\ddora\\\\AppData\\\\Local\\\\Microsoft\\\\Windows\\\\Fonts\\\\NanumGothicLight.ttf',\n",
       " 'C:\\\\Windows\\\\Fonts\\\\calibrii.ttf',\n",
       " 'C:\\\\Windows\\\\Fonts\\\\l_10646.ttf',\n",
       " 'C:\\\\Users\\\\ddora\\\\AppData\\\\Local\\\\Microsoft\\\\Windows\\\\Fonts\\\\윤고딕310.ttf',\n",
       " 'C:\\\\Windows\\\\Fonts\\\\malgunsl.ttf',\n",
       " 'C:\\\\Windows\\\\Fonts\\\\batang.ttc',\n",
       " 'C:\\\\WINDOWS\\\\Fonts\\\\mmrtext.ttf',\n",
       " 'C:\\\\WINDOWS\\\\Fonts\\\\GARABD.TTF',\n",
       " 'C:\\\\WINDOWS\\\\Fonts\\\\H2MKPB.TTF',\n",
       " 'C:\\\\WINDOWS\\\\Fonts\\\\BOOKOSI.TTF',\n",
       " 'C:\\\\WINDOWS\\\\Fonts\\\\segoeuiz.ttf',\n",
       " 'C:\\\\Windows\\\\Fonts\\\\NanumGothicLight.ttf',\n",
       " 'C:\\\\Users\\\\ddora\\\\AppData\\\\Local\\\\Microsoft\\\\Windows\\\\Fonts\\\\NanumBrush.ttf',\n",
       " 'C:\\\\WINDOWS\\\\Fonts\\\\Candarali.ttf',\n",
       " 'C:\\\\Windows\\\\Fonts\\\\Candarali.ttf',\n",
       " 'C:\\\\Windows\\\\Fonts\\\\NanumGothicExtraBold.ttf',\n",
       " 'C:\\\\WINDOWS\\\\Fonts\\\\REFSAN.TTF',\n",
       " 'C:\\\\WINDOWS\\\\Fonts\\\\ariali.ttf',\n",
       " 'C:\\\\Windows\\\\Fonts\\\\LHANDW.TTF',\n",
       " 'C:\\\\WINDOWS\\\\Fonts\\\\H2GPRM.TTF',\n",
       " 'C:\\\\WINDOWS\\\\Fonts\\\\javatext.ttf',\n",
       " 'C:\\\\Windows\\\\Fonts\\\\KHNPHDRegular.ttf',\n",
       " 'C:\\\\WINDOWS\\\\Fonts\\\\malgunsl.ttf',\n",
       " 'C:\\\\WINDOWS\\\\Fonts\\\\BRADHITC.TTF',\n",
       " 'C:\\\\Windows\\\\Fonts\\\\constani.ttf',\n",
       " 'C:\\\\WINDOWS\\\\Fonts\\\\GOTHICB.TTF',\n",
       " 'C:\\\\WINDOWS\\\\Fonts\\\\HMFMOLD.TTF',\n",
       " 'C:\\\\WINDOWS\\\\Fonts\\\\Inkfree.ttf',\n",
       " 'C:\\\\Windows\\\\Fonts\\\\LEELAWDB.TTF',\n",
       " 'C:\\\\WINDOWS\\\\Fonts\\\\gadugib.ttf',\n",
       " 'C:\\\\Windows\\\\Fonts\\\\H2GTRM.TTF',\n",
       " 'C:\\\\Windows\\\\Fonts\\\\seguibli.ttf',\n",
       " 'C:\\\\Users\\\\ddora\\\\AppData\\\\Local\\\\Microsoft\\\\Windows\\\\Fonts\\\\윤고딕330.ttf',\n",
       " 'C:\\\\WINDOWS\\\\Fonts\\\\corbelz.ttf',\n",
       " 'C:\\\\Windows\\\\Fonts\\\\tahomabd.ttf',\n",
       " 'C:\\\\Windows\\\\Fonts\\\\georgiaz.ttf',\n",
       " 'C:\\\\Windows\\\\Fonts\\\\GOTHICB.TTF',\n",
       " 'C:\\\\Windows\\\\Fonts\\\\Candara.ttf',\n",
       " 'C:\\\\WINDOWS\\\\Fonts\\\\constanb.ttf',\n",
       " 'C:\\\\WINDOWS\\\\Fonts\\\\arialbd.ttf',\n",
       " 'C:\\\\Users\\\\ddora\\\\AppData\\\\Local\\\\Microsoft\\\\Windows\\\\Fonts\\\\윤고딕340.ttf',\n",
       " 'C:\\\\Windows\\\\Fonts\\\\MSUIGHUR.TTF',\n",
       " 'C:\\\\WINDOWS\\\\Fonts\\\\NanumSquareRoundEB.ttf',\n",
       " 'C:\\\\WINDOWS\\\\Fonts\\\\yumindb.ttf',\n",
       " 'C:\\\\Windows\\\\Fonts\\\\NanumMyeongjo.ttf',\n",
       " 'C:\\\\Windows\\\\Fonts\\\\FREESCPT.TTF',\n",
       " 'C:\\\\WINDOWS\\\\Fonts\\\\NanumSquare.ttf',\n",
       " 'C:\\\\WINDOWS\\\\Fonts\\\\himalaya.ttf',\n",
       " 'C:\\\\Windows\\\\Fonts\\\\ANTQUABI.TTF',\n",
       " 'C:\\\\Users\\\\ddora\\\\AppData\\\\Local\\\\Microsoft\\\\Windows\\\\Fonts\\\\KHNPHDotfR.otf',\n",
       " 'C:\\\\WINDOWS\\\\Fonts\\\\NanumMyeongjo-YetHangul.ttf',\n",
       " 'C:\\\\WINDOWS\\\\Fonts\\\\LeelawUI.ttf',\n",
       " 'C:\\\\Windows\\\\Fonts\\\\wingding.ttf',\n",
       " 'C:\\\\WINDOWS\\\\Fonts\\\\REFSPCL.TTF',\n",
       " 'C:\\\\Users\\\\ddora\\\\AppData\\\\Local\\\\Microsoft\\\\Windows\\\\Fonts\\\\윤고딕360.ttf',\n",
       " 'C:\\\\Windows\\\\Fonts\\\\NanumPen.ttf',\n",
       " 'C:\\\\Windows\\\\Fonts\\\\NanumSquareRoundL.ttf',\n",
       " 'C:\\\\Windows\\\\Fonts\\\\WINGDNG2.TTF',\n",
       " 'C:\\\\Windows\\\\Fonts\\\\REFSPCL.TTF',\n",
       " 'C:\\\\Windows\\\\Fonts\\\\NanumBarunGothic-YetHangul.ttf',\n",
       " 'C:\\\\WINDOWS\\\\Fonts\\\\calibrib.ttf',\n",
       " 'C:\\\\WINDOWS\\\\Fonts\\\\LHANDW.TTF',\n",
       " 'C:\\\\WINDOWS\\\\Fonts\\\\msjh.ttc',\n",
       " 'C:\\\\WINDOWS\\\\Fonts\\\\couri.ttf',\n",
       " 'C:\\\\Windows\\\\Fonts\\\\H2PORM.TTF',\n",
       " 'C:\\\\Windows\\\\Fonts\\\\NanumGothicBold.ttf',\n",
       " 'C:\\\\Windows\\\\Fonts\\\\BIZ-UDGothicR.ttc',\n",
       " 'C:\\\\Users\\\\ddora\\\\AppData\\\\Local\\\\Microsoft\\\\Windows\\\\Fonts\\\\210 Chungchunsidae R.ttf',\n",
       " 'C:\\\\WINDOWS\\\\Fonts\\\\NirmalaB.ttf',\n",
       " 'C:\\\\WINDOWS\\\\Fonts\\\\palab.ttf',\n",
       " 'C:\\\\WINDOWS\\\\Fonts\\\\malgun.ttf',\n",
       " 'C:\\\\WINDOWS\\\\Fonts\\\\ntailu.ttf',\n",
       " 'C:\\\\Windows\\\\Fonts\\\\timesbi.ttf',\n",
       " 'C:\\\\Users\\\\ddora\\\\AppData\\\\Local\\\\Microsoft\\\\Windows\\\\Fonts\\\\NanumGothic.ttf',\n",
       " 'C:\\\\WINDOWS\\\\Fonts\\\\symbol.ttf',\n",
       " 'C:\\\\WINDOWS\\\\Fonts\\\\HANBatangB.ttf',\n",
       " 'C:\\\\Windows\\\\Fonts\\\\Candaral.ttf',\n",
       " 'C:\\\\Windows\\\\Fonts\\\\NanumSquareRoundR.ttf',\n",
       " 'C:\\\\WINDOWS\\\\Fonts\\\\PAPYRUS.TTF',\n",
       " 'C:\\\\WINDOWS\\\\Fonts\\\\HanSantteutDotum-Regular.ttf',\n",
       " 'C:\\\\Windows\\\\Fonts\\\\MSUIGHUB.TTF',\n",
       " 'C:\\\\WINDOWS\\\\Fonts\\\\NanumSquareEB.ttf',\n",
       " 'C:\\\\WINDOWS\\\\Fonts\\\\phagspab.ttf',\n",
       " 'C:\\\\Windows\\\\Fonts\\\\seguisym.ttf',\n",
       " 'C:\\\\Windows\\\\Fonts\\\\Gabriola.ttf',\n",
       " 'C:\\\\Windows\\\\Fonts\\\\NanumGothicCoding.ttf',\n",
       " 'C:\\\\WINDOWS\\\\Fonts\\\\BKANT.TTF',\n",
       " 'C:\\\\WINDOWS\\\\Fonts\\\\verdanai.ttf',\n",
       " 'C:\\\\WINDOWS\\\\Fonts\\\\taile.ttf',\n",
       " 'C:\\\\WINDOWS\\\\Fonts\\\\HMFMMUEX.TTC',\n",
       " 'C:\\\\Windows\\\\Fonts\\\\BKANT.TTF',\n",
       " 'C:\\\\WINDOWS\\\\Fonts\\\\YuGothL.ttc',\n",
       " 'C:\\\\WINDOWS\\\\Fonts\\\\NanumBarunGothic.ttf',\n",
       " 'C:\\\\WINDOWS\\\\Fonts\\\\palai.ttf',\n",
       " 'C:\\\\Windows\\\\Fonts\\\\verdanai.ttf',\n",
       " 'C:\\\\WINDOWS\\\\Fonts\\\\ARIALUNI.TTF',\n",
       " 'C:\\\\Windows\\\\Fonts\\\\BOOKOSB.TTF',\n",
       " 'C:\\\\WINDOWS\\\\Fonts\\\\impact.ttf',\n",
       " 'C:\\\\Windows\\\\Fonts\\\\NanumGothicCodingBold.ttf',\n",
       " 'C:\\\\WINDOWS\\\\Fonts\\\\cambria.ttc',\n",
       " 'C:\\\\Windows\\\\Fonts\\\\seguisb.ttf',\n",
       " 'C:\\\\Windows\\\\Fonts\\\\couri.ttf',\n",
       " 'C:\\\\Windows\\\\Fonts\\\\NanumSquare.ttf',\n",
       " 'C:\\\\Windows\\\\Fonts\\\\mmrtext.ttf',\n",
       " 'C:\\\\WINDOWS\\\\Fonts\\\\seguisym.ttf',\n",
       " 'C:\\\\Users\\\\ddora\\\\AppData\\\\Local\\\\Microsoft\\\\Windows\\\\Fonts\\\\NanumSquare.ttf',\n",
       " 'C:\\\\Windows\\\\Fonts\\\\HanSantteutDotum-Bold.ttf',\n",
       " 'C:\\\\WINDOWS\\\\Fonts\\\\arial.ttf',\n",
       " 'C:\\\\WINDOWS\\\\Fonts\\\\segoeui.ttf',\n",
       " 'C:\\\\Windows\\\\Fonts\\\\H2GTRE.TTF',\n",
       " 'C:\\\\Windows\\\\Fonts\\\\NanumGothic.ttf',\n",
       " 'C:\\\\Users\\\\ddora\\\\AppData\\\\Local\\\\Microsoft\\\\Windows\\\\Fonts\\\\NanumBarunGothicLight.ttf',\n",
       " 'C:\\\\Windows\\\\Fonts\\\\palai.ttf',\n",
       " 'C:\\\\Windows\\\\Fonts\\\\LG PC.ttf',\n",
       " 'C:\\\\WINDOWS\\\\Fonts\\\\pala.ttf',\n",
       " 'C:\\\\Windows\\\\Fonts\\\\arialbi.ttf',\n",
       " 'C:\\\\Windows\\\\Fonts\\\\monbaiti.ttf',\n",
       " 'C:\\\\Windows\\\\Fonts\\\\NanumSquareEB.ttf',\n",
       " 'C:\\\\Windows\\\\Fonts\\\\Candaraz.ttf',\n",
       " 'C:\\\\WINDOWS\\\\Fonts\\\\NanumBrush.ttf',\n",
       " 'C:\\\\WINDOWS\\\\Fonts\\\\NanumSquareRoundB.ttf',\n",
       " 'C:\\\\Windows\\\\Fonts\\\\segoesc.ttf',\n",
       " 'C:\\\\WINDOWS\\\\Fonts\\\\framdit.ttf',\n",
       " 'C:\\\\WINDOWS\\\\Fonts\\\\BIZ-UDGothicR.ttc',\n",
       " 'C:\\\\Windows\\\\Fonts\\\\NanumBrush.ttf',\n",
       " 'C:\\\\WINDOWS\\\\Fonts\\\\SitkaB.ttc',\n",
       " 'C:\\\\WINDOWS\\\\Fonts\\\\LEELAWAD.TTF',\n",
       " 'C:\\\\WINDOWS\\\\Fonts\\\\segoepr.ttf',\n",
       " 'C:\\\\WINDOWS\\\\Fonts\\\\HMKMRHD.TTF',\n",
       " 'C:\\\\WINDOWS\\\\Fonts\\\\NanumMyeongjoBold.ttf',\n",
       " 'C:\\\\Windows\\\\Fonts\\\\LEELAWAD.TTF',\n",
       " 'C:\\\\Windows\\\\Fonts\\\\constanb.ttf',\n",
       " 'C:\\\\Windows\\\\Fonts\\\\BOOKOSI.TTF',\n",
       " 'C:\\\\Users\\\\ddora\\\\AppData\\\\Local\\\\Microsoft\\\\Windows\\\\Fonts\\\\NanumSquareR.ttf',\n",
       " 'C:\\\\WINDOWS\\\\Fonts\\\\NanumBarunGothic-YetHangul.ttf',\n",
       " 'C:\\\\WINDOWS\\\\Fonts\\\\comic.ttf',\n",
       " 'C:\\\\Windows\\\\Fonts\\\\JUMJA.TTF',\n",
       " 'C:\\\\Windows\\\\Fonts\\\\meiryo.ttc',\n",
       " 'C:\\\\Windows\\\\Fonts\\\\HMFMMUEX.TTC',\n",
       " 'C:\\\\WINDOWS\\\\Fonts\\\\cambriab.ttf',\n",
       " 'C:\\\\Windows\\\\Fonts\\\\taile.ttf',\n",
       " 'C:\\\\WINDOWS\\\\Fonts\\\\ANTQUABI.TTF',\n",
       " 'C:\\\\WINDOWS\\\\Fonts\\\\LG PC.ttf',\n",
       " 'C:\\\\Windows\\\\Fonts\\\\corbelz.ttf',\n",
       " 'C:\\\\WINDOWS\\\\Fonts\\\\KHNPHDBold.ttf',\n",
       " 'C:\\\\WINDOWS\\\\Fonts\\\\NanumGothicBold.ttf',\n",
       " 'C:\\\\Windows\\\\Fonts\\\\comic.ttf',\n",
       " 'C:\\\\Windows\\\\Fonts\\\\Nirmala.ttf',\n",
       " 'C:\\\\WINDOWS\\\\Fonts\\\\seguihis.ttf',\n",
       " 'C:\\\\WINDOWS\\\\Fonts\\\\comicz.ttf',\n",
       " 'C:\\\\WINDOWS\\\\Fonts\\\\NanumGothicLight.ttf',\n",
       " 'C:\\\\WINDOWS\\\\Fonts\\\\NanumSquareL.ttf',\n",
       " 'C:\\\\Windows\\\\Fonts\\\\simsun.ttc',\n",
       " 'C:\\\\Windows\\\\Fonts\\\\segoepr.ttf',\n",
       " 'C:\\\\Windows\\\\Fonts\\\\ariali.ttf',\n",
       " 'C:\\\\WINDOWS\\\\Fonts\\\\NanumPen.ttf',\n",
       " 'C:\\\\WINDOWS\\\\Fonts\\\\NGULIM.TTF',\n",
       " 'C:\\\\Windows\\\\Fonts\\\\ARIALNI.TTF',\n",
       " 'C:\\\\Windows\\\\Fonts\\\\verdanaz.ttf',\n",
       " 'C:\\\\Windows\\\\Fonts\\\\segoeprb.ttf',\n",
       " 'C:\\\\WINDOWS\\\\Fonts\\\\NanumMyeongjoEcoR.ttf',\n",
       " 'C:\\\\WINDOWS\\\\Fonts\\\\UDDigiKyokashoN-B.ttc',\n",
       " 'C:\\\\WINDOWS\\\\Fonts\\\\constanz.ttf',\n",
       " 'C:\\\\WINDOWS\\\\Fonts\\\\ARIALNBI.TTF',\n",
       " 'C:\\\\WINDOWS\\\\Fonts\\\\webdings.ttf',\n",
       " 'C:\\\\Windows\\\\Fonts\\\\constanz.ttf',\n",
       " 'C:\\\\Windows\\\\Fonts\\\\georgiai.ttf',\n",
       " 'C:\\\\Windows\\\\Fonts\\\\tahoma.ttf',\n",
       " 'C:\\\\Users\\\\ddora\\\\AppData\\\\Local\\\\Microsoft\\\\Windows\\\\Fonts\\\\NanumPen.ttf',\n",
       " 'C:\\\\Users\\\\ddora\\\\AppData\\\\Local\\\\Microsoft\\\\Windows\\\\Fonts\\\\NanumSquareRoundEB.ttf',\n",
       " 'C:\\\\WINDOWS\\\\Fonts\\\\calibrili.ttf',\n",
       " 'C:\\\\Users\\\\ddora\\\\AppData\\\\Local\\\\Microsoft\\\\Windows\\\\Fonts\\\\NanumMyeongjoEcoR.ttf',\n",
       " 'C:\\\\Windows\\\\Fonts\\\\UDDigiKyokashoN-R.ttc',\n",
       " 'C:\\\\Windows\\\\Fonts\\\\himalaya.ttf',\n",
       " 'C:\\\\WINDOWS\\\\Fonts\\\\NanumGothicCoding.ttf',\n",
       " 'C:\\\\WINDOWS\\\\Fonts\\\\constan.ttf',\n",
       " 'C:\\\\Windows\\\\Fonts\\\\calibri.ttf',\n",
       " 'C:\\\\Windows\\\\Fonts\\\\trebucbi.ttf',\n",
       " 'C:\\\\WINDOWS\\\\Fonts\\\\CENTURY.TTF',\n",
       " 'C:\\\\WINDOWS\\\\Fonts\\\\YuGothB.ttc',\n",
       " 'C:\\\\WINDOWS\\\\Fonts\\\\MSUIGHUB.TTF',\n",
       " 'C:\\\\Windows\\\\Fonts\\\\FRSCRIPT.TTF',\n",
       " 'C:\\\\Windows\\\\Fonts\\\\calibril.ttf',\n",
       " 'C:\\\\WINDOWS\\\\Fonts\\\\WINGDNG2.TTF',\n",
       " 'C:\\\\Windows\\\\Fonts\\\\Candarab.ttf',\n",
       " 'C:\\\\Windows\\\\Fonts\\\\corbeli.ttf',\n",
       " 'C:\\\\WINDOWS\\\\Fonts\\\\ARIALNI.TTF',\n",
       " 'C:\\\\WINDOWS\\\\Fonts\\\\trebucbd.ttf',\n",
       " 'C:\\\\WINDOWS\\\\Fonts\\\\BOOKOSBI.TTF',\n",
       " 'C:\\\\WINDOWS\\\\Fonts\\\\JUMJA.TTF',\n",
       " 'C:\\\\WINDOWS\\\\Fonts\\\\UDDigiKyokashoN-R.ttc',\n",
       " 'C:\\\\Windows\\\\Fonts\\\\YuGothM.ttc',\n",
       " 'C:\\\\WINDOWS\\\\Fonts\\\\phagspa.ttf',\n",
       " 'C:\\\\WINDOWS\\\\Fonts\\\\mmrtextb.ttf',\n",
       " 'C:\\\\Users\\\\ddora\\\\AppData\\\\Local\\\\Microsoft\\\\Windows\\\\Fonts\\\\NanumSquareRoundB.ttf',\n",
       " 'C:\\\\WINDOWS\\\\Fonts\\\\FREESCPT.TTF',\n",
       " 'C:\\\\WINDOWS\\\\Fonts\\\\GOTHIC.TTF',\n",
       " 'C:\\\\WINDOWS\\\\Fonts\\\\ntailub.ttf',\n",
       " 'C:\\\\Windows\\\\Fonts\\\\seguili.ttf',\n",
       " 'C:\\\\WINDOWS\\\\Fonts\\\\courbd.ttf',\n",
       " 'C:\\\\Windows\\\\Fonts\\\\NanumSquareL.ttf',\n",
       " 'C:\\\\Windows\\\\Fonts\\\\HANBatangExtBB.ttf',\n",
       " 'C:\\\\Windows\\\\Fonts\\\\trebucbd.ttf',\n",
       " 'C:\\\\Windows\\\\Fonts\\\\NanumSquareB.ttf',\n",
       " 'C:\\\\WINDOWS\\\\Fonts\\\\NanumBarunGothicLight.ttf',\n",
       " 'C:\\\\Windows\\\\Fonts\\\\msjh.ttc',\n",
       " 'C:\\\\Windows\\\\Fonts\\\\malgun.ttf',\n",
       " 'C:\\\\WINDOWS\\\\Fonts\\\\BOOKOSB.TTF',\n",
       " 'C:\\\\WINDOWS\\\\Fonts\\\\MTEXTRA.TTF',\n",
       " 'C:\\\\Windows\\\\Fonts\\\\KHNPHDBold.ttf',\n",
       " 'C:\\\\Users\\\\ddora\\\\AppData\\\\Local\\\\Microsoft\\\\Windows\\\\Fonts\\\\210 맨발의청춘L.ttf',\n",
       " 'C:\\\\WINDOWS\\\\Fonts\\\\BIZ-UDMinchoM.ttc',\n",
       " 'C:\\\\Windows\\\\Fonts\\\\BIZ-UDGothicB.ttc',\n",
       " 'C:\\\\Users\\\\ddora\\\\AppData\\\\Local\\\\Microsoft\\\\Windows\\\\Fonts\\\\a파도소리.ttf',\n",
       " 'C:\\\\Users\\\\ddora\\\\AppData\\\\Local\\\\Microsoft\\\\Windows\\\\Fonts\\\\NanumGothicEcoR.ttf',\n",
       " 'C:\\\\WINDOWS\\\\Fonts\\\\trebucit.ttf',\n",
       " 'C:\\\\WINDOWS\\\\Fonts\\\\ANTQUAB.TTF',\n",
       " 'C:\\\\WINDOWS\\\\Fonts\\\\Gabriola.ttf',\n",
       " 'C:\\\\Windows\\\\Fonts\\\\NanumSquareR.ttf',\n",
       " 'C:\\\\Windows\\\\Fonts\\\\seguisli.ttf',\n",
       " 'C:\\\\WINDOWS\\\\Fonts\\\\mingliub.ttc',\n",
       " 'C:\\\\Windows\\\\Fonts\\\\corbel.ttf',\n",
       " 'C:\\\\WINDOWS\\\\Fonts\\\\courbi.ttf',\n",
       " 'C:\\\\WINDOWS\\\\Fonts\\\\ebrimabd.ttf',\n",
       " 'C:\\\\Windows\\\\Fonts\\\\courbi.ttf',\n",
       " 'C:\\\\Windows\\\\Fonts\\\\segoeuil.ttf',\n",
       " 'C:\\\\WINDOWS\\\\Fonts\\\\taileb.ttf',\n",
       " 'C:\\\\WINDOWS\\\\Fonts\\\\georgiaz.ttf',\n",
       " 'C:\\\\WINDOWS\\\\Fonts\\\\ANTQUAI.TTF',\n",
       " 'C:\\\\WINDOWS\\\\Fonts\\\\micross.ttf',\n",
       " 'C:\\\\Windows\\\\Fonts\\\\NanumMyeongjoBold.ttf',\n",
       " 'C:\\\\Windows\\\\Fonts\\\\framdit.ttf',\n",
       " 'C:\\\\Windows\\\\Fonts\\\\HANWing2.ttf',\n",
       " 'C:\\\\WINDOWS\\\\Fonts\\\\NanumSquareR.ttf',\n",
       " 'C:\\\\WINDOWS\\\\Fonts\\\\segoeuii.ttf',\n",
       " 'C:\\\\Windows\\\\Fonts\\\\BSSYM7.TTF',\n",
       " 'C:\\\\Windows\\\\Fonts\\\\calibrili.ttf',\n",
       " 'C:\\\\Windows\\\\Fonts\\\\NanumSquareRoundB.ttf',\n",
       " 'C:\\\\WINDOWS\\\\Fonts\\\\msmincho.ttc',\n",
       " 'C:\\\\WINDOWS\\\\Fonts\\\\SitkaI.ttc',\n",
       " 'C:\\\\WINDOWS\\\\Fonts\\\\FRSCRIPT.TTF',\n",
       " 'C:\\\\Windows\\\\Fonts\\\\msyi.ttf',\n",
       " 'C:\\\\Windows\\\\Fonts\\\\MTEXTRA.TTF',\n",
       " 'C:\\\\Windows\\\\Fonts\\\\mvboli.ttf',\n",
       " 'C:\\\\WINDOWS\\\\Fonts\\\\YuGothM.ttc',\n",
       " 'C:\\\\Windows\\\\Fonts\\\\cambriai.ttf',\n",
       " 'C:\\\\WINDOWS\\\\Fonts\\\\gadugi.ttf',\n",
       " 'C:\\\\WINDOWS\\\\Fonts\\\\NanumBarunGothicUltraLight.ttf',\n",
       " 'C:\\\\WINDOWS\\\\Fonts\\\\seguibl.ttf',\n",
       " 'C:\\\\Windows\\\\Fonts\\\\cambriaz.ttf',\n",
       " 'C:\\\\Windows\\\\Fonts\\\\ebrima.ttf',\n",
       " 'C:\\\\Windows\\\\Fonts\\\\segoeuiz.ttf',\n",
       " 'C:\\\\WINDOWS\\\\Fonts\\\\meiryob.ttc',\n",
       " 'C:\\\\Windows\\\\Fonts\\\\sylfaen.ttf',\n",
       " 'C:\\\\WINDOWS\\\\Fonts\\\\ebrima.ttf',\n",
       " 'C:\\\\Users\\\\ddora\\\\AppData\\\\Local\\\\Microsoft\\\\Windows\\\\Fonts\\\\윤고딕350.ttf',\n",
       " 'C:\\\\Windows\\\\Fonts\\\\TEMPSITC.TTF',\n",
       " 'C:\\\\Windows\\\\Fonts\\\\verdanab.ttf',\n",
       " 'C:\\\\Windows\\\\Fonts\\\\lucon.ttf',\n",
       " 'C:\\\\Users\\\\ddora\\\\AppData\\\\Local\\\\Microsoft\\\\Windows\\\\Fonts\\\\210 맨발의청춘B.ttf',\n",
       " 'C:\\\\WINDOWS\\\\Fonts\\\\NanumBarunpenB.ttf',\n",
       " 'C:\\\\Windows\\\\Fonts\\\\HANBatangB.ttf',\n",
       " 'C:\\\\Users\\\\ddora\\\\AppData\\\\Local\\\\Microsoft\\\\Windows\\\\Fonts\\\\NanumMyeongjoExtraBold.ttf',\n",
       " 'C:\\\\WINDOWS\\\\Fonts\\\\HANBatangExt.ttf',\n",
       " 'C:\\\\Windows\\\\Fonts\\\\YuGothB.ttc',\n",
       " 'C:\\\\Windows\\\\Fonts\\\\NanumMyeongjoEcoR.ttf',\n",
       " 'C:\\\\Windows\\\\Fonts\\\\corbell.ttf',\n",
       " 'C:\\\\Users\\\\ddora\\\\AppData\\\\Local\\\\Microsoft\\\\Windows\\\\Fonts\\\\NanumSquare_0.ttf',\n",
       " 'C:\\\\Windows\\\\Fonts\\\\WINGDNG3.TTF',\n",
       " 'C:\\\\Users\\\\ddora\\\\AppData\\\\Local\\\\Microsoft\\\\Windows\\\\Fonts\\\\NanumMyeongjoBold.ttf',\n",
       " 'C:\\\\WINDOWS\\\\Fonts\\\\framd.ttf',\n",
       " 'C:\\\\WINDOWS\\\\Fonts\\\\HANBatang.ttf',\n",
       " 'C:\\\\WINDOWS\\\\Fonts\\\\seguili.ttf',\n",
       " 'C:\\\\WINDOWS\\\\Fonts\\\\Candarab.ttf',\n",
       " 'C:\\\\Windows\\\\Fonts\\\\HMFMOLD.TTF',\n",
       " 'C:\\\\WINDOWS\\\\Fonts\\\\mvboli.ttf',\n",
       " 'C:\\\\Windows\\\\Fonts\\\\yumin.ttf',\n",
       " 'C:\\\\Windows\\\\Fonts\\\\msyhbd.ttc',\n",
       " 'C:\\\\WINDOWS\\\\Fonts\\\\consolaz.ttf',\n",
       " 'C:\\\\WINDOWS\\\\Fonts\\\\ARIALNB.TTF',\n",
       " 'C:\\\\WINDOWS\\\\Fonts\\\\HANWing2.ttf',\n",
       " 'C:\\\\WINDOWS\\\\Fonts\\\\comici.ttf',\n",
       " 'C:\\\\WINDOWS\\\\Fonts\\\\marlett.ttf',\n",
       " 'C:\\\\Windows\\\\Fonts\\\\NanumSquare_0.ttf',\n",
       " 'C:\\\\WINDOWS\\\\Fonts\\\\calibril.ttf',\n",
       " 'C:\\\\Windows\\\\Fonts\\\\consolai.ttf',\n",
       " 'C:\\\\Windows\\\\Fonts\\\\NanumMyeongjo-YetHangul.ttf',\n",
       " 'C:\\\\WINDOWS\\\\Fonts\\\\constani.ttf',\n",
       " 'C:\\\\Windows\\\\Fonts\\\\ARIALNBI.TTF',\n",
       " 'C:\\\\WINDOWS\\\\Fonts\\\\verdanab.ttf',\n",
       " 'C:\\\\Windows\\\\Fonts\\\\verdana.ttf',\n",
       " 'C:\\\\Windows\\\\Fonts\\\\comici.ttf',\n",
       " 'C:\\\\WINDOWS\\\\Fonts\\\\GOTHICBI.TTF',\n",
       " 'C:\\\\WINDOWS\\\\Fonts\\\\MTCORSVA.TTF',\n",
       " 'C:\\\\WINDOWS\\\\Fonts\\\\timesi.ttf',\n",
       " 'C:\\\\Users\\\\ddora\\\\AppData\\\\Local\\\\Microsoft\\\\Windows\\\\Fonts\\\\NanumSquareRoundR.ttf',\n",
       " 'C:\\\\Windows\\\\Fonts\\\\NanumBarunGothicBold.ttf',\n",
       " 'C:\\\\WINDOWS\\\\Fonts\\\\MSUIGHUR.TTF',\n",
       " 'C:\\\\Windows\\\\Fonts\\\\NanumBarunGothicUltraLight.ttf',\n",
       " 'C:\\\\Windows\\\\Fonts\\\\YuGothL.ttc',\n",
       " 'C:\\\\WINDOWS\\\\Fonts\\\\Sitka.ttc',\n",
       " 'C:\\\\WINDOWS\\\\Fonts\\\\LEELAWDB.TTF',\n",
       " 'C:\\\\WINDOWS\\\\Fonts\\\\Nirmala.ttf',\n",
       " 'C:\\\\Windows\\\\Fonts\\\\javatext.ttf',\n",
       " 'C:\\\\Windows\\\\Fonts\\\\ntailub.ttf',\n",
       " 'C:\\\\Windows\\\\Fonts\\\\BIZ-UDMinchoM.ttc',\n",
       " 'C:\\\\Windows\\\\Fonts\\\\comicbd.ttf',\n",
       " 'C:\\\\WINDOWS\\\\Fonts\\\\H2PORL.TTF',\n",
       " 'C:\\\\WINDOWS\\\\Fonts\\\\GOTHICI.TTF',\n",
       " 'C:\\\\Windows\\\\Fonts\\\\ntailu.ttf',\n",
       " 'C:\\\\Windows\\\\Fonts\\\\Hancom Gothic Bold.ttf',\n",
       " 'C:\\\\Windows\\\\Fonts\\\\ITCKRIST.TTF',\n",
       " 'C:\\\\Windows\\\\Fonts\\\\calibriz.ttf',\n",
       " 'C:\\\\Windows\\\\Fonts\\\\NanumGothicEcoR.ttf',\n",
       " 'C:\\\\WINDOWS\\\\Fonts\\\\NanumBarunGothicBold.ttf',\n",
       " 'C:\\\\Windows\\\\Fonts\\\\NanumMyeongjoExtraBold.ttf',\n",
       " 'C:\\\\Windows\\\\Fonts\\\\msjhl.ttc',\n",
       " 'C:\\\\WINDOWS\\\\Fonts\\\\corbel.ttf',\n",
       " 'C:\\\\Windows\\\\Fonts\\\\H2PORL.TTF',\n",
       " 'C:\\\\WINDOWS\\\\Fonts\\\\Candarai.ttf',\n",
       " 'C:\\\\WINDOWS\\\\Fonts\\\\times.ttf',\n",
       " 'C:\\\\WINDOWS\\\\Fonts\\\\NirmalaS.ttf',\n",
       " 'C:\\\\WINDOWS\\\\Fonts\\\\HMKMAMI.TTF',\n",
       " 'C:\\\\Windows\\\\Fonts\\\\pala.ttf',\n",
       " 'C:\\\\Windows\\\\Fonts\\\\HANDotumExt.ttf',\n",
       " 'C:\\\\WINDOWS\\\\Fonts\\\\consolai.ttf',\n",
       " 'C:\\\\WINDOWS\\\\Fonts\\\\arialbi.ttf',\n",
       " 'C:\\\\WINDOWS\\\\Fonts\\\\PRISTINA.TTF',\n",
       " 'C:\\\\Windows\\\\Fonts\\\\NirmalaS.ttf',\n",
       " 'C:\\\\Windows\\\\Fonts\\\\Inkfree.ttf',\n",
       " 'C:\\\\Users\\\\ddora\\\\AppData\\\\Local\\\\Microsoft\\\\Windows\\\\Fonts\\\\NanumBarunGothicUltraLight.ttf',\n",
       " 'C:\\\\Users\\\\ddora\\\\AppData\\\\Local\\\\Microsoft\\\\Windows\\\\Fonts\\\\NanumGothicBold.ttf',\n",
       " 'C:\\\\Windows\\\\Fonts\\\\consolab.ttf',\n",
       " 'C:\\\\WINDOWS\\\\Fonts\\\\H2GTRE.TTF',\n",
       " 'C:\\\\Windows\\\\Fonts\\\\GARAIT.TTF',\n",
       " 'C:\\\\Windows\\\\Fonts\\\\KHNPHURegular.ttf',\n",
       " 'C:\\\\WINDOWS\\\\Fonts\\\\HMFMPYUN.TTF',\n",
       " 'C:\\\\Users\\\\ddora\\\\AppData\\\\Local\\\\Microsoft\\\\Windows\\\\Fonts\\\\NanumGothicCodingBold.ttf',\n",
       " 'C:\\\\Users\\\\ddora\\\\AppData\\\\Local\\\\Microsoft\\\\Windows\\\\Fonts\\\\윤고딕320.ttf',\n",
       " 'C:\\\\WINDOWS\\\\Fonts\\\\ARIALN.TTF',\n",
       " 'C:\\\\Windows\\\\Fonts\\\\ANTQUAI.TTF',\n",
       " 'C:\\\\Windows\\\\Fonts\\\\msyh.ttc',\n",
       " 'C:\\\\WINDOWS\\\\Fonts\\\\trebucbi.ttf',\n",
       " 'C:\\\\Windows\\\\Fonts\\\\CENTURY.TTF',\n",
       " 'C:\\\\WINDOWS\\\\Fonts\\\\Hancom Gothic Bold.ttf',\n",
       " 'C:\\\\WINDOWS\\\\Fonts\\\\seguisb.ttf',\n",
       " 'C:\\\\Users\\\\ddora\\\\AppData\\\\Local\\\\Microsoft\\\\Windows\\\\Fonts\\\\NanumMyeongjo.ttf',\n",
       " 'C:\\\\Windows\\\\Fonts\\\\framd.ttf',\n",
       " 'C:\\\\Users\\\\ddora\\\\AppData\\\\Local\\\\Microsoft\\\\Windows\\\\Fonts\\\\210 맨발의청춘R.ttf',\n",
       " 'C:\\\\WINDOWS\\\\Fonts\\\\H2MJSM.TTF',\n",
       " 'C:\\\\WINDOWS\\\\Fonts\\\\KHNPHURegular.ttf',\n",
       " 'C:\\\\Windows\\\\Fonts\\\\segoeuisl.ttf',\n",
       " 'C:\\\\Windows\\\\Fonts\\\\HYHWPEQ.TTF',\n",
       " 'C:\\\\Users\\\\ddora\\\\AppData\\\\Local\\\\Microsoft\\\\Windows\\\\Fonts\\\\NanumSquare_acR.ttf',\n",
       " 'C:\\\\Windows\\\\Fonts\\\\segoeui.ttf',\n",
       " 'C:\\\\WINDOWS\\\\Fonts\\\\Candaraz.ttf',\n",
       " 'C:\\\\Users\\\\ddora\\\\AppData\\\\Local\\\\Microsoft\\\\Windows\\\\Fonts\\\\NanumBarunpenB.ttf',\n",
       " 'C:\\\\Windows\\\\Fonts\\\\ebrimabd.ttf',\n",
       " 'C:\\\\WINDOWS\\\\Fonts\\\\georgiai.ttf',\n",
       " 'C:\\\\Windows\\\\Fonts\\\\segmdl2.ttf',\n",
       " 'C:\\\\Windows\\\\Fonts\\\\HANBatangExt.ttf',\n",
       " 'C:\\\\Windows\\\\Fonts\\\\seguiemj.ttf',\n",
       " 'C:\\\\WINDOWS\\\\Fonts\\\\YuGothR.ttc',\n",
       " 'C:\\\\WINDOWS\\\\Fonts\\\\ariblk.ttf',\n",
       " 'C:\\\\Windows\\\\Fonts\\\\MISTRAL.TTF',\n",
       " 'C:\\\\Windows\\\\Fonts\\\\H2MJSM.TTF',\n",
       " 'C:\\\\Windows\\\\Fonts\\\\MTCORSVA.TTF',\n",
       " 'C:\\\\Windows\\\\Fonts\\\\GARABD.TTF',\n",
       " 'C:\\\\WINDOWS\\\\Fonts\\\\BIZ-UDGothicB.ttc',\n",
       " 'C:\\\\WINDOWS\\\\Fonts\\\\H2GSRB.TTF',\n",
       " 'C:\\\\Windows\\\\Fonts\\\\NanumBarunpenB.ttf',\n",
       " 'C:\\\\Users\\\\ddora\\\\AppData\\\\Local\\\\Microsoft\\\\Windows\\\\Fonts\\\\한수원_한돋음_R.ttf',\n",
       " 'C:\\\\Users\\\\ddora\\\\AppData\\\\Local\\\\Microsoft\\\\Windows\\\\Fonts\\\\KHNPHUotfR.otf',\n",
       " 'C:\\\\Windows\\\\Fonts\\\\meiryob.ttc',\n",
       " 'C:\\\\Users\\\\ddora\\\\AppData\\\\Local\\\\Microsoft\\\\Windows\\\\Fonts\\\\NanumSquareL.ttf',\n",
       " 'C:\\\\WINDOWS\\\\Fonts\\\\msyhl.ttc',\n",
       " 'C:\\\\Windows\\\\Fonts\\\\GOTHICI.TTF',\n",
       " 'C:\\\\WINDOWS\\\\Fonts\\\\Candaral.ttf',\n",
       " 'C:\\\\WINDOWS\\\\Fonts\\\\segmdl2.ttf',\n",
       " 'C:\\\\WINDOWS\\\\Fonts\\\\NanumMyeongjo.ttf',\n",
       " 'C:\\\\WINDOWS\\\\Fonts\\\\corbelb.ttf',\n",
       " 'C:\\\\Windows\\\\Fonts\\\\H2MKPB.TTF',\n",
       " 'C:\\\\Windows\\\\Fonts\\\\SitkaZ.ttc',\n",
       " 'C:\\\\Windows\\\\Fonts\\\\phagspab.ttf',\n",
       " 'C:\\\\WINDOWS\\\\Fonts\\\\tahomabd.ttf',\n",
       " 'C:\\\\WINDOWS\\\\Fonts\\\\lucon.ttf',\n",
       " 'C:\\\\Windows\\\\Fonts\\\\HANDotumB.ttf',\n",
       " 'C:\\\\Users\\\\ddora\\\\AppData\\\\Local\\\\Microsoft\\\\Windows\\\\Fonts\\\\NanumGothicExtraBold.ttf',\n",
       " 'C:\\\\Windows\\\\Fonts\\\\times.ttf',\n",
       " 'C:\\\\Windows\\\\Fonts\\\\HANDotum.ttf',\n",
       " 'C:\\\\Windows\\\\Fonts\\\\taileb.ttf',\n",
       " 'C:\\\\WINDOWS\\\\Fonts\\\\yuminl.ttf',\n",
       " 'C:\\\\Users\\\\ddora\\\\AppData\\\\Local\\\\Microsoft\\\\Windows\\\\Fonts\\\\NanumBarunpenR.ttf',\n",
       " 'C:\\\\WINDOWS\\\\Fonts\\\\H2MJRE.TTF',\n",
       " 'C:\\\\Windows\\\\Fonts\\\\symbol.ttf',\n",
       " 'C:\\\\WINDOWS\\\\Fonts\\\\calibri.ttf',\n",
       " 'C:\\\\Windows\\\\Fonts\\\\cour.ttf',\n",
       " 'C:\\\\Windows\\\\Fonts\\\\ANTQUAB.TTF',\n",
       " 'C:\\\\WINDOWS\\\\Fonts\\\\monbaiti.ttf',\n",
       " 'C:\\\\WINDOWS\\\\Fonts\\\\KHNPHDRegular.ttf',\n",
       " 'C:\\\\Windows\\\\Fonts\\\\cambria.ttc',\n",
       " 'C:\\\\WINDOWS\\\\Fonts\\\\HancomEQN.ttf',\n",
       " 'C:\\\\WINDOWS\\\\Fonts\\\\segoeprb.ttf',\n",
       " 'C:\\\\WINDOWS\\\\Fonts\\\\segoeuisl.ttf',\n",
       " 'C:\\\\WINDOWS\\\\Fonts\\\\LeelaUIb.ttf',\n",
       " 'C:\\\\Windows\\\\Fonts\\\\yuminl.ttf',\n",
       " 'C:\\\\Windows\\\\Fonts\\\\NanumBarunGothicLight.ttf',\n",
       " 'C:\\\\Windows\\\\Fonts\\\\NanumBarunpenR.ttf',\n",
       " 'C:\\\\WINDOWS\\\\Fonts\\\\batang.ttc',\n",
       " 'C:\\\\WINDOWS\\\\Fonts\\\\H2GTRM.TTF',\n",
       " 'C:\\\\Windows\\\\Fonts\\\\yumindb.ttf',\n",
       " 'C:\\\\Windows\\\\Fonts\\\\SitkaI.ttc',\n",
       " 'C:\\\\Windows\\\\Fonts\\\\NanumBarunGothic.ttf',\n",
       " 'C:\\\\WINDOWS\\\\Fonts\\\\BSSYM7.TTF',\n",
       " 'C:\\\\Windows\\\\Fonts\\\\NGULIM.TTF',\n",
       " 'C:\\\\Windows\\\\Fonts\\\\trebucit.ttf',\n",
       " 'C:\\\\WINDOWS\\\\Fonts\\\\comicbd.ttf',\n",
       " 'C:\\\\Windows\\\\Fonts\\\\consolaz.ttf',\n",
       " 'C:\\\\Windows\\\\Fonts\\\\GOTHICBI.TTF',\n",
       " 'C:\\\\Windows\\\\Fonts\\\\palab.ttf',\n",
       " 'C:\\\\Windows\\\\Fonts\\\\LeelaUIb.ttf',\n",
       " 'C:\\\\WINDOWS\\\\Fonts\\\\HMKMMAG.TTF',\n",
       " 'C:\\\\WINDOWS\\\\Fonts\\\\NanumGothicCodingBold.ttf',\n",
       " 'C:\\\\WINDOWS\\\\Fonts\\\\NanumSquare_0.ttf',\n",
       " 'C:\\\\Windows\\\\Fonts\\\\corbelb.ttf',\n",
       " 'C:\\\\WINDOWS\\\\Fonts\\\\msyh.ttc',\n",
       " 'C:\\\\WINDOWS\\\\Fonts\\\\HYHWPEQ.TTF',\n",
       " 'C:\\\\WINDOWS\\\\Fonts\\\\seguisli.ttf',\n",
       " 'C:\\\\Windows\\\\Fonts\\\\HANBatang.ttf',\n",
       " 'C:\\\\Windows\\\\Fonts\\\\impact.ttf',\n",
       " 'C:\\\\WINDOWS\\\\Fonts\\\\msyi.ttf',\n",
       " 'C:\\\\Windows\\\\Fonts\\\\NanumSquare_acL.ttf',\n",
       " 'C:\\\\WINDOWS\\\\Fonts\\\\msyhbd.ttc',\n",
       " 'C:\\\\Windows\\\\Fonts\\\\gadugib.ttf',\n",
       " 'C:\\\\Windows\\\\Fonts\\\\NanumSquare_acR.ttf',\n",
       " 'C:\\\\WINDOWS\\\\Fonts\\\\cambriai.ttf',\n",
       " 'C:\\\\WINDOWS\\\\Fonts\\\\NanumGothicExtraBold.ttf',\n",
       " 'C:\\\\Windows\\\\Fonts\\\\gadugi.ttf',\n",
       " 'C:\\\\Windows\\\\Fonts\\\\phagspa.ttf',\n",
       " 'C:\\\\Windows\\\\Fonts\\\\seguihis.ttf',\n",
       " 'C:\\\\WINDOWS\\\\Fonts\\\\NanumGothicEcoR.ttf',\n",
       " 'C:\\\\WINDOWS\\\\Fonts\\\\timesbd.ttf',\n",
       " 'C:\\\\WINDOWS\\\\Fonts\\\\seguiemj.ttf',\n",
       " 'C:\\\\Windows\\\\Fonts\\\\mingliub.ttc',\n",
       " 'C:\\\\WINDOWS\\\\Fonts\\\\seguibli.ttf',\n",
       " 'C:\\\\Windows\\\\Fonts\\\\H2HDRM.TTF',\n",
       " 'C:\\\\Windows\\\\Fonts\\\\H2GSRB.TTF',\n",
       " 'C:\\\\Windows\\\\Fonts\\\\LeelawUI.ttf',\n",
       " 'C:\\\\Windows\\\\Fonts\\\\malgunbd.ttf',\n",
       " 'C:\\\\WINDOWS\\\\Fonts\\\\HanSantteutDotum-Bold.ttf',\n",
       " 'C:\\\\Users\\\\ddora\\\\AppData\\\\Local\\\\Microsoft\\\\Windows\\\\Fonts\\\\NanumSquareRoundL.ttf',\n",
       " 'C:\\\\WINDOWS\\\\Fonts\\\\BOOKOS.TTF',\n",
       " 'C:\\\\WINDOWS\\\\Fonts\\\\corbeli.ttf',\n",
       " 'C:\\\\WINDOWS\\\\Fonts\\\\verdana.ttf',\n",
       " 'C:\\\\WINDOWS\\\\Fonts\\\\corbell.ttf',\n",
       " 'C:\\\\Users\\\\ddora\\\\AppData\\\\Local\\\\Microsoft\\\\Windows\\\\Fonts\\\\NanumSquare_acL.ttf',\n",
       " 'C:\\\\Users\\\\ddora\\\\AppData\\\\Local\\\\Microsoft\\\\Windows\\\\Fonts\\\\NanumMyeongjo-YetHangul.ttf',\n",
       " 'C:\\\\Windows\\\\Fonts\\\\georgiab.ttf',\n",
       " 'C:\\\\WINDOWS\\\\Fonts\\\\NanumGothic.ttf',\n",
       " 'C:\\\\WINDOWS\\\\Fonts\\\\NanumMyeongjoExtraBold.ttf',\n",
       " 'C:\\\\Windows\\\\Fonts\\\\msmincho.ttc',\n",
       " 'C:\\\\Windows\\\\Fonts\\\\HANBatangExtB.ttf',\n",
       " 'C:\\\\Windows\\\\Fonts\\\\JUICE___.TTF',\n",
       " 'C:\\\\Windows\\\\Fonts\\\\ARIALN.TTF',\n",
       " 'C:\\\\WINDOWS\\\\Fonts\\\\JUICE___.TTF',\n",
       " 'C:\\\\WINDOWS\\\\Fonts\\\\holomdl2.ttf',\n",
       " 'C:\\\\WINDOWS\\\\Fonts\\\\cour.ttf',\n",
       " 'C:\\\\WINDOWS\\\\Fonts\\\\Hancom Gothic Regular.ttf',\n",
       " 'C:\\\\WINDOWS\\\\Fonts\\\\NanumSquare_acL.ttf',\n",
       " 'C:\\\\WINDOWS\\\\Fonts\\\\consolab.ttf',\n",
       " 'C:\\\\WINDOWS\\\\Fonts\\\\msjhl.ttc',\n",
       " 'C:\\\\Windows\\\\Fonts\\\\NanumSquareRoundEB.ttf',\n",
       " 'C:\\\\Windows\\\\Fonts\\\\H2MJRE.TTF',\n",
       " 'C:\\\\WINDOWS\\\\Fonts\\\\GARAIT.TTF',\n",
       " 'C:\\\\Windows\\\\Fonts\\\\timesi.ttf',\n",
       " 'C:\\\\WINDOWS\\\\Fonts\\\\HANBatangExtBB.ttf',\n",
       " 'C:\\\\WINDOWS\\\\Fonts\\\\calibriz.ttf',\n",
       " 'C:\\\\Windows\\\\Fonts\\\\HancomEQN.ttf',\n",
       " 'C:\\\\Windows\\\\Fonts\\\\msgothic.ttc',\n",
       " 'C:\\\\WINDOWS\\\\Fonts\\\\NanumSquareRoundL.ttf',\n",
       " 'C:\\\\Windows\\\\Fonts\\\\webdings.ttf',\n",
       " 'C:\\\\Windows\\\\Fonts\\\\GARA.TTF',\n",
       " 'C:\\\\Windows\\\\Fonts\\\\mmrtextb.ttf',\n",
       " 'C:\\\\Windows\\\\Fonts\\\\georgia.ttf',\n",
       " 'C:\\\\WINDOWS\\\\Fonts\\\\corbelli.ttf',\n",
       " 'C:\\\\Windows\\\\Fonts\\\\GOTHIC.TTF',\n",
       " 'C:\\\\Windows\\\\Fonts\\\\Sitka.ttc',\n",
       " 'C:\\\\WINDOWS\\\\Fonts\\\\HANDotumExt.ttf',\n",
       " 'C:\\\\Windows\\\\Fonts\\\\segoeuib.ttf',\n",
       " 'C:\\\\Windows\\\\Fonts\\\\consola.ttf',\n",
       " 'C:\\\\Windows\\\\Fonts\\\\NirmalaB.ttf',\n",
       " 'C:\\\\Windows\\\\Fonts\\\\HanSantteutDotum-Regular.ttf',\n",
       " 'C:\\\\Windows\\\\Fonts\\\\BOOKOSBI.TTF',\n",
       " 'C:\\\\Windows\\\\Fonts\\\\palabi.ttf',\n",
       " 'C:\\\\Windows\\\\Fonts\\\\bahnschrift.ttf',\n",
       " 'C:\\\\WINDOWS\\\\Fonts\\\\H2SA1M.TTF',\n",
       " 'C:\\\\Windows\\\\Fonts\\\\LeelUIsl.ttf',\n",
       " 'C:\\\\WINDOWS\\\\Fonts\\\\TEMPSITC.TTF',\n",
       " 'C:\\\\Users\\\\ddora\\\\AppData\\\\Local\\\\Microsoft\\\\Windows\\\\Fonts\\\\NanumGothicCoding.ttf',\n",
       " 'C:\\\\Windows\\\\Fonts\\\\PRISTINA.TTF',\n",
       " 'C:\\\\WINDOWS\\\\Fonts\\\\segoesc.ttf',\n",
       " 'C:\\\\Windows\\\\Fonts\\\\calibrib.ttf',\n",
       " 'C:\\\\WINDOWS\\\\Fonts\\\\HANDotumB.ttf',\n",
       " 'C:\\\\Windows\\\\Fonts\\\\arialbd.ttf',\n",
       " 'C:\\\\Windows\\\\Fonts\\\\constan.ttf',\n",
       " 'C:\\\\Users\\\\ddora\\\\AppData\\\\Local\\\\Microsoft\\\\Windows\\\\Fonts\\\\KHNPHDotfB.otf',\n",
       " 'C:\\\\Windows\\\\Fonts\\\\holomdl2.ttf',\n",
       " 'C:\\\\Windows\\\\Fonts\\\\ariblk.ttf',\n",
       " 'C:\\\\WINDOWS\\\\Fonts\\\\NanumSquareRoundR.ttf',\n",
       " 'C:\\\\Windows\\\\Fonts\\\\REFSAN.TTF',\n",
       " 'C:\\\\WINDOWS\\\\Fonts\\\\H2PORM.TTF',\n",
       " 'C:\\\\Windows\\\\Fonts\\\\msyhl.ttc',\n",
       " 'C:\\\\WINDOWS\\\\Fonts\\\\palabi.ttf',\n",
       " 'C:\\\\WINDOWS\\\\Fonts\\\\verdanaz.ttf',\n",
       " 'C:\\\\Windows\\\\Fonts\\\\YuGothR.ttc',\n",
       " 'C:\\\\WINDOWS\\\\Fonts\\\\timesbi.ttf',\n",
       " 'C:\\\\WINDOWS\\\\Fonts\\\\yumin.ttf',\n",
       " 'C:\\\\WINDOWS\\\\Fonts\\\\msjhbd.ttc',\n",
       " 'C:\\\\WINDOWS\\\\Fonts\\\\H2HDRM.TTF',\n",
       " 'C:\\\\Users\\\\ddora\\\\AppData\\\\Local\\\\Microsoft\\\\Windows\\\\Fonts\\\\NanumSquareEB.ttf',\n",
       " 'C:\\\\WINDOWS\\\\Fonts\\\\trebuc.ttf',\n",
       " 'C:\\\\WINDOWS\\\\Fonts\\\\LeelUIsl.ttf',\n",
       " 'C:\\\\WINDOWS\\\\Fonts\\\\meiryo.ttc',\n",
       " 'C:\\\\Windows\\\\Fonts\\\\Hancom Gothic Regular.ttf',\n",
       " 'C:\\\\WINDOWS\\\\Fonts\\\\bahnschrift.ttf',\n",
       " 'C:\\\\Windows\\\\Fonts\\\\micross.ttf',\n",
       " 'C:\\\\WINDOWS\\\\Fonts\\\\segoeuib.ttf',\n",
       " 'C:\\\\Windows\\\\Fonts\\\\H2SA1M.TTF',\n",
       " 'C:\\\\Windows\\\\Fonts\\\\comicz.ttf',\n",
       " 'C:\\\\WINDOWS\\\\Fonts\\\\Candara.ttf',\n",
       " 'C:\\\\WINDOWS\\\\Fonts\\\\seguisbi.ttf',\n",
       " 'C:\\\\Windows\\\\Fonts\\\\seguibl.ttf',\n",
       " 'C:\\\\Users\\\\ddora\\\\AppData\\\\Local\\\\Microsoft\\\\Windows\\\\Fonts\\\\한수원_한돋음.ttf',\n",
       " 'C:\\\\Users\\\\ddora\\\\AppData\\\\Local\\\\Microsoft\\\\Windows\\\\Fonts\\\\NanumBarunGothic.ttf',\n",
       " 'C:\\\\Windows\\\\Fonts\\\\simsunb.ttf',\n",
       " 'C:\\\\Windows\\\\Fonts\\\\BRADHITC.TTF',\n",
       " 'C:\\\\Users\\\\ddora\\\\AppData\\\\Local\\\\Microsoft\\\\Windows\\\\Fonts\\\\NanumBarunGothic-YetHangul.ttf',\n",
       " 'C:\\\\Windows\\\\Fonts\\\\Candarai.ttf',\n",
       " 'C:\\\\WINDOWS\\\\Fonts\\\\WINGDNG3.TTF',\n",
       " 'C:\\\\Windows\\\\Fonts\\\\cambriab.ttf',\n",
       " 'C:\\\\WINDOWS\\\\Fonts\\\\ITCKRIST.TTF',\n",
       " 'C:\\\\Users\\\\ddora\\\\AppData\\\\Local\\\\Microsoft\\\\Windows\\\\Fonts\\\\a장미다방.otf',\n",
       " 'C:\\\\WINDOWS\\\\Fonts\\\\GARA.TTF',\n",
       " 'C:\\\\Windows\\\\Fonts\\\\segoescb.ttf',\n",
       " 'C:\\\\WINDOWS\\\\Fonts\\\\simsunb.ttf',\n",
       " 'C:\\\\WINDOWS\\\\Fonts\\\\msgothic.ttc',\n",
       " 'C:\\\\WINDOWS\\\\Fonts\\\\sylfaen.ttf',\n",
       " 'C:\\\\Windows\\\\Fonts\\\\SitkaB.ttc',\n",
       " 'C:\\\\WINDOWS\\\\Fonts\\\\NanumSquare_acR.ttf',\n",
       " 'C:\\\\Windows\\\\Fonts\\\\PAPYRUS.TTF',\n",
       " 'C:\\\\Windows\\\\Fonts\\\\H2GPRM.TTF',\n",
       " 'C:\\\\Windows\\\\Fonts\\\\arial.ttf',\n",
       " 'C:\\\\WINDOWS\\\\Fonts\\\\malgunbd.ttf']"
      ]
     },
     "execution_count": 1,
     "metadata": {},
     "output_type": "execute_result"
    }
   ],
   "source": [
    "import matplotlib as mpl\n",
    "import matplotlib.pyplot as plt\n",
    "import matplotlib.font_manager as fm\n",
    "font_list = fm.findSystemFonts(fontpaths = None, fontext = 'ttf')\n",
    "font_list[:]"
   ]
  },
  {
   "cell_type": "code",
   "execution_count": 2,
   "metadata": {},
   "outputs": [
    {
     "data": {
      "text/plain": [
       "'C:\\\\ProgramData\\\\Anaconda3\\\\lib\\\\site-packages\\\\matplotlib\\\\mpl-data\\\\matplotlibrc'"
      ]
     },
     "execution_count": 2,
     "metadata": {},
     "output_type": "execute_result"
    }
   ],
   "source": [
    "import matplotlib\n",
    "matplotlib.matplotlib_fname()"
   ]
  },
  {
   "cell_type": "code",
   "execution_count": 3,
   "metadata": {},
   "outputs": [
    {
     "name": "stdout",
     "output_type": "stream",
     "text": [
      "C:\\ProgramData\\Anaconda3\\lib\\site-packages\\matplotlib\\mpl-data\\matplotlibrc\n"
     ]
    }
   ],
   "source": [
    "print (mpl.matplotlib_fname())"
   ]
  },
  {
   "cell_type": "code",
   "execution_count": 4,
   "metadata": {},
   "outputs": [],
   "source": [
    "# 그래프를 노트북 안에 그리기 위해 설정\n",
    "%matplotlib inline\n",
    "\n",
    "# 필요한 패키지와 라이브러리를 가져옴\n",
    "import matplotlib as mpl\n",
    "import matplotlib.pyplot as plt\n",
    "import matplotlib.font_manager as fm\n",
    "\n",
    "# 그래프에서 마이너스 폰트 깨지는 문제에 대한 대처\n",
    "mpl.rcParams['axes.unicode_minus'] = False"
   ]
  },
  {
   "cell_type": "code",
   "execution_count": 5,
   "metadata": {},
   "outputs": [
    {
     "data": {
      "text/plain": [
       "array([  42,  -34,  -92, -122, -168, -268, -198, -278, -290, -310, -344,\n",
       "       -296, -254, -340, -265, -317, -240, -240, -302, -313, -217, -277,\n",
       "       -215, -265, -186, -191, -211, -183, -174, -272, -297, -389, -389,\n",
       "       -395, -490, -445, -356, -319, -281, -229, -149,  -73, -111,  -49,\n",
       "        -78, -114,  -28,  -64, -121,  -52], dtype=int32)"
      ]
     },
     "execution_count": 5,
     "metadata": {},
     "output_type": "execute_result"
    }
   ],
   "source": [
    "import numpy as np\n",
    "\n",
    "data = np.random.randint(-100, 100, 50).cumsum()\n",
    "data"
   ]
  },
  {
   "cell_type": "code",
   "execution_count": 6,
   "metadata": {},
   "outputs": [
    {
     "data": {
      "text/plain": [
       "Text(0.5, 0, '시간(분)')"
      ]
     },
     "execution_count": 6,
     "metadata": {},
     "output_type": "execute_result"
    },
    {
     "name": "stderr",
     "output_type": "stream",
     "text": [
      "C:\\ProgramData\\Anaconda3\\lib\\site-packages\\matplotlib\\backends\\backend_agg.py:211: RuntimeWarning: Glyph 49884 missing from current font.\n",
      "  font.set_text(s, 0.0, flags=flags)\n",
      "C:\\ProgramData\\Anaconda3\\lib\\site-packages\\matplotlib\\backends\\backend_agg.py:211: RuntimeWarning: Glyph 44036 missing from current font.\n",
      "  font.set_text(s, 0.0, flags=flags)\n",
      "C:\\ProgramData\\Anaconda3\\lib\\site-packages\\matplotlib\\backends\\backend_agg.py:211: RuntimeWarning: Glyph 48324 missing from current font.\n",
      "  font.set_text(s, 0.0, flags=flags)\n",
      "C:\\ProgramData\\Anaconda3\\lib\\site-packages\\matplotlib\\backends\\backend_agg.py:211: RuntimeWarning: Glyph 44032 missing from current font.\n",
      "  font.set_text(s, 0.0, flags=flags)\n",
      "C:\\ProgramData\\Anaconda3\\lib\\site-packages\\matplotlib\\backends\\backend_agg.py:211: RuntimeWarning: Glyph 44201 missing from current font.\n",
      "  font.set_text(s, 0.0, flags=flags)\n",
      "C:\\ProgramData\\Anaconda3\\lib\\site-packages\\matplotlib\\backends\\backend_agg.py:211: RuntimeWarning: Glyph 52628 missing from current font.\n",
      "  font.set_text(s, 0.0, flags=flags)\n",
      "C:\\ProgramData\\Anaconda3\\lib\\site-packages\\matplotlib\\backends\\backend_agg.py:211: RuntimeWarning: Glyph 51060 missing from current font.\n",
      "  font.set_text(s, 0.0, flags=flags)\n",
      "C:\\ProgramData\\Anaconda3\\lib\\site-packages\\matplotlib\\backends\\backend_agg.py:211: RuntimeWarning: Glyph 48516 missing from current font.\n",
      "  font.set_text(s, 0.0, flags=flags)\n",
      "C:\\ProgramData\\Anaconda3\\lib\\site-packages\\matplotlib\\backends\\backend_agg.py:180: RuntimeWarning: Glyph 49884 missing from current font.\n",
      "  font.set_text(s, 0, flags=flags)\n",
      "C:\\ProgramData\\Anaconda3\\lib\\site-packages\\matplotlib\\backends\\backend_agg.py:180: RuntimeWarning: Glyph 44036 missing from current font.\n",
      "  font.set_text(s, 0, flags=flags)\n",
      "C:\\ProgramData\\Anaconda3\\lib\\site-packages\\matplotlib\\backends\\backend_agg.py:180: RuntimeWarning: Glyph 48516 missing from current font.\n",
      "  font.set_text(s, 0, flags=flags)\n",
      "C:\\ProgramData\\Anaconda3\\lib\\site-packages\\matplotlib\\backends\\backend_agg.py:211: RuntimeWarning: Glyph 51452 missing from current font.\n",
      "  font.set_text(s, 0.0, flags=flags)\n",
      "C:\\ProgramData\\Anaconda3\\lib\\site-packages\\matplotlib\\backends\\backend_agg.py:211: RuntimeWarning: Glyph 49885 missing from current font.\n",
      "  font.set_text(s, 0.0, flags=flags)\n",
      "C:\\ProgramData\\Anaconda3\\lib\\site-packages\\matplotlib\\backends\\backend_agg.py:180: RuntimeWarning: Glyph 51452 missing from current font.\n",
      "  font.set_text(s, 0, flags=flags)\n",
      "C:\\ProgramData\\Anaconda3\\lib\\site-packages\\matplotlib\\backends\\backend_agg.py:180: RuntimeWarning: Glyph 49885 missing from current font.\n",
      "  font.set_text(s, 0, flags=flags)\n",
      "C:\\ProgramData\\Anaconda3\\lib\\site-packages\\matplotlib\\backends\\backend_agg.py:180: RuntimeWarning: Glyph 44032 missing from current font.\n",
      "  font.set_text(s, 0, flags=flags)\n",
      "C:\\ProgramData\\Anaconda3\\lib\\site-packages\\matplotlib\\backends\\backend_agg.py:180: RuntimeWarning: Glyph 44201 missing from current font.\n",
      "  font.set_text(s, 0, flags=flags)\n",
      "C:\\ProgramData\\Anaconda3\\lib\\site-packages\\matplotlib\\backends\\backend_agg.py:180: RuntimeWarning: Glyph 48324 missing from current font.\n",
      "  font.set_text(s, 0, flags=flags)\n",
      "C:\\ProgramData\\Anaconda3\\lib\\site-packages\\matplotlib\\backends\\backend_agg.py:180: RuntimeWarning: Glyph 52628 missing from current font.\n",
      "  font.set_text(s, 0, flags=flags)\n",
      "C:\\ProgramData\\Anaconda3\\lib\\site-packages\\matplotlib\\backends\\backend_agg.py:180: RuntimeWarning: Glyph 51060 missing from current font.\n",
      "  font.set_text(s, 0, flags=flags)\n"
     ]
    },
    {
     "data": {
      "image/png": "[encoded data removed]",
      "text/plain": [
       "<Figure size 432x288 with 1 Axes>"
      ]
     },
     "metadata": {
      "needs_background": "light"
     },
     "output_type": "display_data"
    }
   ],
   "source": [
    "plt.plot(range(50), data, 'r')\n",
    "mpl.rcParams['axes.unicode_minus'] = False\n",
    "plt.title('시간별 가격 추이')\n",
    "plt.ylabel('주식 가격')\n",
    "plt.xlabel('시간(분)')"
   ]
  },
  {
   "cell_type": "code",
   "execution_count": 7,
   "metadata": {},
   "outputs": [
    {
     "name": "stdout",
     "output_type": "stream",
     "text": [
      "버전:  3.1.3\n",
      "설치 위치:  C:\\ProgramData\\Anaconda3\\lib\\site-packages\\matplotlib\\__init__.py\n",
      "설정 위치:  C:\\Users\\ddora\\.matplotlib\n",
      "캐시 위치:  C:\\Users\\ddora\\.matplotlib\n"
     ]
    }
   ],
   "source": [
    "print ('버전: ', mpl.__version__)\n",
    "print ('설치 위치: ', mpl.__file__)\n",
    "print ('설정 위치: ', mpl.get_configdir())\n",
    "print ('캐시 위치: ', mpl.get_cachedir())"
   ]
  },
  {
   "cell_type": "code",
   "execution_count": 8,
   "metadata": {},
   "outputs": [
    {
     "name": "stdout",
     "output_type": "stream",
     "text": [
      "설정파일 위치:  C:\\ProgramData\\Anaconda3\\lib\\site-packages\\matplotlib\\mpl-data\\matplotlibrc\n"
     ]
    }
   ],
   "source": [
    "print ('설정파일 위치: ', mpl.matplotlib_fname())"
   ]
  },
  {
   "cell_type": "code",
   "execution_count": 9,
   "metadata": {},
   "outputs": [
    {
     "name": "stdout",
     "output_type": "stream",
     "text": [
      "590\n"
     ]
    }
   ],
   "source": [
    "font_list = fm.findSystemFonts(fontpaths=None, fontext='ttf')\n",
    "\n",
    "# ttf 폰트 전체갯수\n",
    "print(len(font_list)) \n"
   ]
  },
  {
   "cell_type": "code",
   "execution_count": 10,
   "metadata": {},
   "outputs": [
    {
     "data": {
      "text/plain": [
       "['C:\\\\Windows\\\\Fonts\\\\ARIALUNI.TTF',\n",
       " 'C:\\\\WINDOWS\\\\Fonts\\\\consola.ttf',\n",
       " 'C:\\\\Users\\\\ddora\\\\AppData\\\\Local\\\\Microsoft\\\\Windows\\\\Fonts\\\\a엄마의편지M.ttf',\n",
       " 'C:\\\\Users\\\\ddora\\\\AppData\\\\Local\\\\Microsoft\\\\Windows\\\\Fonts\\\\NanumBarunGothicBold.ttf',\n",
       " 'C:\\\\WINDOWS\\\\Fonts\\\\cambriaz.ttf',\n",
       " 'C:\\\\WINDOWS\\\\Fonts\\\\segoescb.ttf',\n",
       " 'C:\\\\Windows\\\\Fonts\\\\gulim.ttc',\n",
       " 'C:\\\\Windows\\\\Fonts\\\\BOOKOS.TTF',\n",
       " 'C:\\\\WINDOWS\\\\Fonts\\\\MISTRAL.TTF',\n",
       " 'C:\\\\WINDOWS\\\\Fonts\\\\NanumBarunpenR.ttf']"
      ]
     },
     "execution_count": 10,
     "metadata": {},
     "output_type": "execute_result"
    }
   ],
   "source": [
    "font_list = fm.findSystemFonts(fontpaths = None, fontext = 'ttf')\n",
    "font_list[:10]"
   ]
  },
  {
   "cell_type": "code",
   "execution_count": 11,
   "metadata": {},
   "outputs": [
    {
     "data": {
      "text/plain": [
       "[]"
      ]
     },
     "execution_count": 11,
     "metadata": {},
     "output_type": "execute_result"
    }
   ],
   "source": [
    "[(f.name, f.fname) for f in fm.fontManager.ttflist if 'Nanum' in f.name]"
   ]
  },
  {
   "cell_type": "code",
   "execution_count": 12,
   "metadata": {},
   "outputs": [
    {
     "data": {
      "text/plain": [
       "[<Font 'STIXNonUnicode' (STIXNonUniIta.ttf) italic normal 400 normal>,\n",
       " <Font 'STIXSizeFourSym' (STIXSizFourSymBol.ttf) normal normal bold normal>,\n",
       " <Font 'STIXGeneral' (STIXGeneralItalic.ttf) italic normal 400 normal>,\n",
       " <Font 'STIXSizeFourSym' (STIXSizFourSymReg.ttf) normal normal regular normal>,\n",
       " <Font 'cmr10' (cmr10.ttf) normal normal 400 normal>,\n",
       " <Font 'DejaVu Sans Mono' (DejaVuSansMono-BoldOblique.ttf) oblique normal bold normal>,\n",
       " <Font 'STIXGeneral' (STIXGeneralBolIta.ttf) italic normal bold normal>,\n",
       " <Font 'STIXSizeOneSym' (STIXSizOneSymBol.ttf) normal normal bold normal>,\n",
       " <Font 'STIXNonUnicode' (STIXNonUniBolIta.ttf) italic normal bold normal>,\n",
       " <Font 'DejaVu Sans Mono' (DejaVuSansMono-Bold.ttf) normal normal bold normal>,\n",
       " <Font 'DejaVu Sans Display' (DejaVuSansDisplay.ttf) normal normal 400 normal>,\n",
       " <Font 'STIXSizeFiveSym' (STIXSizFiveSymReg.ttf) normal normal regular normal>,\n",
       " <Font 'DejaVu Serif' (DejaVuSerif-BoldItalic.ttf) italic normal bold normal>,\n",
       " <Font 'DejaVu Serif' (DejaVuSerif-Italic.ttf) italic normal 400 normal>,\n",
       " <Font 'STIXNonUnicode' (STIXNonUni.ttf) normal normal regular normal>,\n",
       " <Font 'STIXSizeOneSym' (STIXSizOneSymReg.ttf) normal normal regular normal>,\n",
       " <Font 'DejaVu Serif' (DejaVuSerif.ttf) normal normal 400 normal>,\n",
       " <Font 'cmmi10' (cmmi10.ttf) normal normal 400 normal>,\n",
       " <Font 'DejaVu Sans' (DejaVuSans-BoldOblique.ttf) oblique normal bold normal>,\n",
       " <Font 'DejaVu Sans Mono' (DejaVuSansMono.ttf) normal normal 400 normal>,\n",
       " <Font 'cmex10' (cmex10.ttf) normal normal 400 normal>,\n",
       " <Font 'STIXSizeTwoSym' (STIXSizTwoSymReg.ttf) normal normal regular normal>,\n",
       " <Font 'cmb10' (cmb10.ttf) normal normal 400 normal>,\n",
       " <Font 'STIXGeneral' (STIXGeneralBol.ttf) normal normal bold normal>,\n",
       " <Font 'cmtt10' (cmtt10.ttf) normal normal 400 normal>,\n",
       " <Font 'STIXNonUnicode' (STIXNonUniBol.ttf) normal normal bold normal>,\n",
       " <Font 'STIXSizeTwoSym' (STIXSizTwoSymBol.ttf) normal normal bold normal>,\n",
       " <Font 'STIXSizeThreeSym' (STIXSizThreeSymBol.ttf) normal normal bold normal>,\n",
       " <Font 'DejaVu Sans' (DejaVuSans-Bold.ttf) normal normal bold normal>,\n",
       " <Font 'DejaVu Sans' (DejaVuSans.ttf) normal normal 400 normal>,\n",
       " <Font 'cmss10' (cmss10.ttf) normal normal 400 normal>,\n",
       " <Font 'DejaVu Sans' (DejaVuSans-Oblique.ttf) oblique normal 400 normal>,\n",
       " <Font 'DejaVu Sans Mono' (DejaVuSansMono-Oblique.ttf) oblique normal 400 normal>,\n",
       " <Font 'cmsy10' (cmsy10.ttf) normal normal 400 normal>,\n",
       " <Font 'STIXGeneral' (STIXGeneral.ttf) normal normal regular normal>,\n",
       " <Font 'DejaVu Serif' (DejaVuSerif-Bold.ttf) normal normal bold normal>,\n",
       " <Font 'STIXSizeThreeSym' (STIXSizThreeSymReg.ttf) normal normal regular normal>,\n",
       " <Font 'DejaVu Serif Display' (DejaVuSerifDisplay.ttf) normal normal 400 normal>,\n",
       " <Font 'Lucida Console' (lucon.ttf) normal normal 400 normal>,\n",
       " <Font 'Microsoft Yi Baiti' (msyi.ttf) normal normal 400 normal>,\n",
       " <Font 'Century Gothic' (GOTHICBI.TTF) italic normal bold normal>,\n",
       " <Font 'Kristen ITC' (ITCKRIST.TTF) normal normal 400 normal>,\n",
       " <Font 'Microsoft Tai Le' (taile.ttf) normal normal 400 normal>,\n",
       " <Font 'Bookman Old Style' (BOOKOSB.TTF) normal normal book normal>,\n",
       " <Font 'BIZ UDGothic' (BIZ-UDGothicR.ttc) normal normal 400 normal>,\n",
       " <Font 'Segoe UI' (segoeuib.ttf) normal normal bold normal>,\n",
       " <Font 'Palatino Linotype' (palai.ttf) italic normal 400 normal>,\n",
       " <Font 'Leelawadee' (LEELAWAD.TTF) normal normal 400 normal>,\n",
       " <Font 'Mongolian Baiti' (monbaiti.ttf) normal normal 400 normal>,\n",
       " <Font 'Leelawadee UI' (LeelaUIb.ttf) normal normal bold normal>,\n",
       " <Font 'Arial' (arial.ttf) normal normal 400 normal>,\n",
       " <Font 'Microsoft Himalaya' (himalaya.ttf) normal normal 400 normal>,\n",
       " <Font 'Arial' (ARIALN.TTF) normal normal 400 condensed>,\n",
       " <Font 'Microsoft Uighur' (MSUIGHUR.TTF) normal normal 400 normal>,\n",
       " <Font 'MV Boli' (mvboli.ttf) normal normal 400 normal>,\n",
       " <Font 'Pyunji R' (HMFMPYUN.TTF) normal normal 400 normal>,\n",
       " <Font 'Palatino Linotype' (palabi.ttf) italic normal bold normal>,\n",
       " <Font 'Webdings' (webdings.ttf) normal normal 400 normal>,\n",
       " <Font 'Mistral' (MISTRAL.TTF) normal normal 400 normal>,\n",
       " <Font 'Tahoma' (tahoma.ttf) normal normal 400 normal>,\n",
       " <Font 'Nirmala UI' (Nirmala.ttf) normal normal 400 normal>,\n",
       " <Font 'Candara' (Candarai.ttf) italic normal 400 normal>,\n",
       " <Font 'Georgia' (georgiab.ttf) normal normal bold normal>,\n",
       " <Font 'Times New Roman' (timesi.ttf) italic normal roman normal>,\n",
       " <Font 'Segoe UI Emoji' (seguiemj.ttf) normal normal 400 normal>,\n",
       " <Font 'Calibri' (calibrili.ttf) italic normal light normal>,\n",
       " <Font 'Corbel' (corbell.ttf) normal normal light normal>,\n",
       " <Font 'Constantia' (constanb.ttf) normal normal bold normal>,\n",
       " <Font 'Comic Sans MS' (comicz.ttf) italic normal bold normal>,\n",
       " <Font 'HoloLens MDL2 Assets' (holomdl2.ttf) normal normal 400 normal>,\n",
       " <Font 'HYGraphic-Medium' (H2GPRM.TTF) normal normal medium normal>,\n",
       " <Font 'HCR Batang' (HANBatang.ttf) normal normal 400 normal>,\n",
       " <Font 'Garamond' (GARABD.TTF) normal normal bold normal>,\n",
       " <Font 'Bookman Old Style' (BOOKOSBI.TTF) italic normal book normal>,\n",
       " <Font 'Segoe Print' (segoepr.ttf) normal normal 400 normal>,\n",
       " <Font 'Yu Gothic' (YuGothL.ttc) normal normal light normal>,\n",
       " <Font 'Corbel' (corbelb.ttf) normal normal bold normal>,\n",
       " <Font 'Courier New' (couri.ttf) italic normal 400 normal>,\n",
       " <Font 'SimSun-ExtB' (simsunb.ttf) normal normal 400 normal>,\n",
       " <Font 'New Gulim' (NGULIM.TTF) normal normal 400 normal>,\n",
       " <Font 'Magic R' (HMKMMAG.TTF) normal normal 400 normal>,\n",
       " <Font 'Sitka Small' (SitkaZ.ttc) italic normal bold normal>,\n",
       " <Font 'Trebuchet MS' (trebuc.ttf) normal normal 400 normal>,\n",
       " <Font 'SimSun' (simsun.ttc) normal normal 400 normal>,\n",
       " <Font 'Meiryo' (meiryob.ttc) normal normal bold normal>,\n",
       " <Font 'Sitka Small' (SitkaI.ttc) italic normal 400 normal>,\n",
       " <Font 'Yet R' (HMFMOLD.TTF) normal normal 400 normal>,\n",
       " <Font 'Trebuchet MS' (trebucit.ttf) italic normal 400 normal>,\n",
       " <Font 'Pristina' (PRISTINA.TTF) normal normal 400 normal>,\n",
       " <Font 'Lucida Sans Unicode' (l_10646.ttf) normal normal 400 normal>,\n",
       " <Font 'Meiryo' (meiryo.ttc) normal normal 400 normal>,\n",
       " <Font 'Segoe UI' (seguisli.ttf) italic normal light normal>,\n",
       " <Font 'Palatino Linotype' (pala.ttf) normal normal 400 normal>,\n",
       " <Font 'Microsoft YaHei' (msyhbd.ttc) normal normal bold normal>,\n",
       " <Font 'Bahnschrift' (bahnschrift.ttf) normal normal 400 normal>,\n",
       " <Font 'Yu Mincho' (yumin.ttf) normal normal regular normal>,\n",
       " <Font 'Gabriola' (Gabriola.ttf) normal normal 400 normal>,\n",
       " <Font 'HYHeadLine-Medium' (H2HDRM.TTF) normal normal medium normal>,\n",
       " <Font 'Book Antiqua' (ANTQUABI.TTF) italic normal book normal>,\n",
       " <Font 'Constantia' (constan.ttf) normal normal 400 normal>,\n",
       " <Font 'Times New Roman' (timesbd.ttf) normal normal roman normal>,\n",
       " <Font 'Yu Mincho' (yumindb.ttf) normal normal demibold normal>,\n",
       " <Font 'Segoe Script' (segoescb.ttf) normal normal bold normal>,\n",
       " <Font 'Segoe UI' (segoeuii.ttf) italic normal 400 normal>,\n",
       " <Font 'Wingdings 3' (WINGDNG3.TTF) normal normal 400 normal>,\n",
       " <Font 'Ebrima' (ebrimabd.ttf) normal normal bold normal>,\n",
       " <Font 'Segoe UI' (segoeuisl.ttf) normal normal light normal>,\n",
       " <Font 'Segoe Print' (segoeprb.ttf) normal normal bold normal>,\n",
       " <Font 'Wingdings' (wingding.ttf) normal normal 400 normal>,\n",
       " <Font 'Consolas' (consola.ttf) normal normal 400 normal>,\n",
       " <Font 'Century Gothic' (GOTHIC.TTF) normal normal 400 normal>,\n",
       " <Font 'Leelawadee' (LEELAWDB.TTF) normal normal bold normal>,\n",
       " <Font 'Microsoft JhengHei' (msjhbd.ttc) normal normal bold normal>,\n",
       " <Font 'BIZ UDGothic' (BIZ-UDGothicB.ttc) normal normal bold normal>,\n",
       " <Font 'Arial' (ariali.ttf) italic normal 400 normal>,\n",
       " <Font 'Sitka Small' (SitkaB.ttc) normal normal bold normal>,\n",
       " <Font 'Arial' (ARIALNI.TTF) italic normal 400 condensed>,\n",
       " <Font 'Sylfaen' (sylfaen.ttf) normal normal 400 normal>,\n",
       " <Font 'Segoe UI' (segoeui.ttf) normal normal 400 normal>,\n",
       " <Font 'Candara' (Candaral.ttf) normal normal light normal>,\n",
       " <Font 'Wingdings 2' (WINGDNG2.TTF) normal normal 400 normal>,\n",
       " <Font 'Corbel' (corbelz.ttf) italic normal bold normal>,\n",
       " <Font 'UD Digi Kyokasho N-B' (UDDigiKyokashoN-B.ttc) normal normal 700 normal>,\n",
       " <Font 'Arial' (arialbi.ttf) italic normal bold normal>,\n",
       " <Font 'Segoe UI' (seguibli.ttf) italic normal black normal>,\n",
       " <Font 'Georgia' (georgiai.ttf) italic normal 400 normal>,\n",
       " <Font 'Malgun Gothic' (malgun.ttf) normal normal 400 normal>,\n",
       " <Font 'NewJumja' (JUMJA.TTF) normal normal 400 normal>,\n",
       " <Font 'Corbel' (corbelli.ttf) italic normal light normal>,\n",
       " <Font 'Segoe UI' (seguibl.ttf) normal normal black normal>,\n",
       " <Font 'Microsoft PhagsPa' (phagspa.ttf) normal normal 400 normal>,\n",
       " <Font 'Book Antiqua' (ANTQUAB.TTF) normal normal book normal>,\n",
       " <Font 'HYPMokGak-Bold' (H2MKPB.TTF) normal normal bold normal>,\n",
       " <Font 'Cambria' (cambriab.ttf) normal normal bold normal>,\n",
       " <Font 'Yu Mincho' (yuminl.ttf) normal normal light normal>,\n",
       " <Font 'UD Digi Kyokasho N-R' (UDDigiKyokashoN-R.ttc) normal normal 400 normal>,\n",
       " <Font 'HYShortSamul-Medium' (H2SA1M.TTF) normal normal medium normal>,\n",
       " <Font 'Microsoft New Tai Lue' (ntailub.ttf) normal normal bold normal>,\n",
       " <Font 'Myanmar Text' (mmrtext.ttf) normal normal 400 normal>,\n",
       " <Font 'Courier New' (courbd.ttf) normal normal bold normal>,\n",
       " <Font 'Calibri' (calibrib.ttf) normal normal bold normal>,\n",
       " <Font 'Segoe UI' (segoeuil.ttf) normal normal light normal>,\n",
       " <Font 'Comic Sans MS' (comicbd.ttf) normal normal bold normal>,\n",
       " <Font 'HYGothic-Medium' (H2GTRM.TTF) normal normal medium normal>,\n",
       " <Font 'Sitka Small' (Sitka.ttc) normal normal 400 normal>,\n",
       " <Font 'Consolas' (consolaz.ttf) italic normal bold normal>,\n",
       " <Font 'Constantia' (constani.ttf) italic normal 400 normal>,\n",
       " <Font 'French Script MT' (FRSCRIPT.TTF) normal normal 400 normal>,\n",
       " <Font 'Candara' (Candara.ttf) normal normal 400 normal>,\n",
       " <Font 'Gadugi' (gadugib.ttf) normal normal bold normal>,\n",
       " <Font 'MS Reference Sans Serif' (REFSAN.TTF) normal normal 400 normal>,\n",
       " <Font 'HYPost-Medium' (H2PORM.TTF) normal normal medium normal>,\n",
       " <Font 'MT Extra' (MTEXTRA.TTF) normal normal 400 normal>,\n",
       " <Font 'Microsoft JhengHei' (msjhl.ttc) normal normal light normal>,\n",
       " <Font 'Segoe MDL2 Assets' (segmdl2.ttf) normal normal 400 normal>,\n",
       " <Font 'Georgia' (georgiaz.ttf) italic normal bold normal>,\n",
       " <Font 'Yu Gothic' (YuGothR.ttc) normal normal regular normal>,\n",
       " <Font 'Ink Free' (Inkfree.ttf) normal normal 400 normal>,\n",
       " <Font 'Calibri' (calibrii.ttf) italic normal 400 normal>,\n",
       " <Font 'MS Mincho' (msmincho.ttc) normal normal 400 normal>,\n",
       " <Font 'Microsoft PhagsPa' (phagspab.ttf) normal normal bold normal>,\n",
       " <Font 'HYPost-Light' (H2PORL.TTF) normal normal light normal>,\n",
       " <Font 'Century Gothic' (GOTHICI.TTF) italic normal 400 normal>,\n",
       " <Font 'Comic Sans MS' (comic.ttf) normal normal 400 normal>,\n",
       " <Font 'Garamond' (GARA.TTF) normal normal 400 normal>,\n",
       " <Font 'HCR Dotum' (HANDotum.ttf) normal normal 400 normal>,\n",
       " <Font 'Yu Gothic' (YuGothM.ttc) normal normal medium normal>,\n",
       " <Font 'Verdana' (verdanab.ttf) normal normal bold normal>,\n",
       " <Font 'MingLiU-ExtB' (mingliub.ttc) normal normal 400 normal>,\n",
       " <Font 'Leelawadee UI' (LeelawUI.ttf) normal normal 400 normal>,\n",
       " <Font 'Verdana' (verdanaz.ttf) italic normal bold normal>,\n",
       " <Font 'HYGungSo-Bold' (H2GSRB.TTF) normal normal bold normal>,\n",
       " <Font 'Franklin Gothic Medium' (framdit.ttf) italic normal medium normal>,\n",
       " <Font 'Times New Roman' (times.ttf) normal normal roman normal>,\n",
       " <Font 'Cambria' (cambriaz.ttf) italic normal bold normal>,\n",
       " <Font 'Garamond' (GARAIT.TTF) italic normal 400 normal>,\n",
       " <Font 'Monotype Corsiva' (MTCORSVA.TTF) normal normal 400 normal>,\n",
       " <Font 'Calibri' (calibril.ttf) normal normal light normal>,\n",
       " <Font 'Segoe UI' (seguisb.ttf) normal normal semibold normal>,\n",
       " <Font 'Arial' (ARIALNB.TTF) normal normal bold condensed>,\n",
       " <Font 'Gadugi' (gadugi.ttf) normal normal 400 normal>,\n",
       " <Font 'MS Gothic' (msgothic.ttc) normal normal 400 normal>,\n",
       " <Font 'Georgia' (georgia.ttf) normal normal 400 normal>,\n",
       " <Font 'Microsoft Uighur' (MSUIGHUB.TTF) normal normal bold normal>,\n",
       " <Font 'Segoe Script' (segoesc.ttf) normal normal 400 normal>,\n",
       " <Font 'Arial Unicode MS' (ARIALUNI.TTF) normal normal 400 normal>,\n",
       " <Font 'Juice ITC' (JUICE___.TTF) normal normal 400 normal>,\n",
       " <Font 'Microsoft Sans Serif' (micross.ttf) normal normal 400 normal>,\n",
       " <Font 'Segoe UI Historic' (seguihis.ttf) normal normal 400 normal>,\n",
       " <Font 'Gulim' (gulim.ttc) normal normal 400 normal>,\n",
       " <Font 'Calibri' (calibriz.ttf) italic normal bold normal>,\n",
       " <Font 'Microsoft YaHei' (msyhl.ttc) normal normal light normal>,\n",
       " <Font 'Corbel' (corbel.ttf) normal normal 400 normal>,\n",
       " <Font 'Palatino Linotype' (palab.ttf) normal normal bold normal>,\n",
       " <Font 'Trebuchet MS' (trebucbd.ttf) normal normal bold normal>,\n",
       " <Font 'Segoe UI' (seguili.ttf) italic normal light normal>,\n",
       " <Font 'Cambria' (cambria.ttc) normal normal 400 normal>,\n",
       " <Font 'Bradley Hand ITC' (BRADHITC.TTF) normal normal 400 normal>,\n",
       " <Font 'Calibri' (calibri.ttf) normal normal 400 normal>,\n",
       " <Font 'Book Antiqua' (ANTQUAI.TTF) italic normal book normal>,\n",
       " <Font 'Nirmala UI' (NirmalaS.ttf) normal normal light normal>,\n",
       " <Font 'Consolas' (consolab.ttf) normal normal bold normal>,\n",
       " <Font 'Bookman Old Style' (BOOKOS.TTF) normal normal book normal>,\n",
       " <Font 'Verdana' (verdana.ttf) normal normal 400 normal>,\n",
       " <Font 'Tahoma' (tahomabd.ttf) normal normal bold normal>,\n",
       " <Font 'Comic Sans MS' (comici.ttf) italic normal 400 normal>,\n",
       " <Font 'Cambria' (cambriai.ttf) italic normal 400 normal>,\n",
       " <Font 'LG PC' (LG PC.ttf) normal normal 400 normal>,\n",
       " <Font 'Impact' (impact.ttf) normal normal 400 normal>,\n",
       " <Font 'Lucida Handwriting' (LHANDW.TTF) italic normal 400 normal>,\n",
       " <Font 'MoeumT R' (HMFMMUEX.TTC) normal normal 400 normal>,\n",
       " <Font 'Batang' (batang.ttc) normal normal 400 normal>,\n",
       " <Font 'Microsoft Tai Le' (taileb.ttf) normal normal bold normal>,\n",
       " <Font 'Arial' (ARIALNBI.TTF) italic normal bold condensed>,\n",
       " <Font 'HYSinMyeongJo-Medium' (H2MJSM.TTF) normal normal medium normal>,\n",
       " <Font 'HYMyeongJo-Extra' (H2MJRE.TTF) normal normal 400 normal>,\n",
       " <Font 'Malgun Gothic' (malgunsl.ttf) normal normal light normal>,\n",
       " <Font 'Courier New' (cour.ttf) normal normal 400 normal>,\n",
       " <Font 'Verdana' (verdanai.ttf) italic normal 400 normal>,\n",
       " <Font 'Candara' (Candarali.ttf) italic normal light normal>,\n",
       " <Font 'Constantia' (constanz.ttf) italic normal bold normal>,\n",
       " <Font 'Yu Gothic' (YuGothB.ttc) normal normal bold normal>,\n",
       " <Font 'HyhwpEQ' (HYHWPEQ.TTF) normal normal 400 normal>,\n",
       " <Font 'Malgun Gothic' (malgunbd.ttf) normal normal bold normal>,\n",
       " <Font 'Headline R' (HMKMRHD.TTF) normal normal 400 normal>,\n",
       " <Font 'Candara' (Candarab.ttf) normal normal bold normal>,\n",
       " <Font 'Segoe UI' (seguisbi.ttf) italic normal semibold normal>,\n",
       " <Font 'Times New Roman' (timesbi.ttf) italic normal roman normal>,\n",
       " <Font 'Freestyle Script' (FREESCPT.TTF) normal normal 400 normal>,\n",
       " <Font 'Segoe UI' (segoeuiz.ttf) italic normal bold normal>,\n",
       " <Font 'Tempus Sans ITC' (TEMPSITC.TTF) normal normal 400 normal>,\n",
       " <Font 'Javanese Text' (javatext.ttf) normal normal 400 normal>,\n",
       " <Font 'Trebuchet MS' (trebucbi.ttf) italic normal bold normal>,\n",
       " <Font 'Century Gothic' (GOTHICB.TTF) normal normal bold normal>,\n",
       " <Font 'Corbel' (corbeli.ttf) italic normal 400 normal>,\n",
       " <Font 'Ami R' (HMKMAMI.TTF) normal normal 400 normal>,\n",
       " <Font 'Courier New' (courbi.ttf) italic normal bold normal>,\n",
       " <Font 'BIZ UDMincho' (BIZ-UDMinchoM.ttc) normal normal medium normal>,\n",
       " <Font 'Marlett' (marlett.ttf) normal normal 400 normal>,\n",
       " <Font 'Microsoft YaHei' (msyh.ttc) normal normal 400 normal>,\n",
       " <Font 'Century' (CENTURY.TTF) normal normal 400 normal>,\n",
       " <Font 'MS Reference Specialty' (REFSPCL.TTF) normal normal 400 normal>,\n",
       " <Font 'Ebrima' (ebrima.ttf) normal normal 400 normal>,\n",
       " <Font 'Candara' (Candaraz.ttf) italic normal bold normal>,\n",
       " <Font 'Nirmala UI' (NirmalaB.ttf) normal normal bold normal>,\n",
       " <Font 'Microsoft New Tai Lue' (ntailu.ttf) normal normal 400 normal>,\n",
       " <Font 'Consolas' (consolai.ttf) italic normal 400 normal>,\n",
       " <Font 'Franklin Gothic Medium' (framd.ttf) normal normal medium normal>,\n",
       " <Font 'Papyrus' (PAPYRUS.TTF) normal normal 400 normal>,\n",
       " <Font 'Bookman Old Style' (BOOKOSI.TTF) italic normal book normal>,\n",
       " <Font 'Leelawadee UI' (LeelUIsl.ttf) normal normal light normal>,\n",
       " <Font 'Arial' (arialbd.ttf) normal normal bold normal>,\n",
       " <Font 'Book Antiqua' (BKANT.TTF) normal normal book normal>,\n",
       " <Font 'Bookshelf Symbol 7' (BSSYM7.TTF) normal normal book normal>,\n",
       " <Font 'Arial' (ariblk.ttf) normal normal black normal>,\n",
       " <Font 'Symbol' (symbol.ttf) normal normal 400 normal>,\n",
       " <Font 'Myanmar Text' (mmrtextb.ttf) normal normal bold normal>,\n",
       " <Font 'Segoe UI Symbol' (seguisym.ttf) normal normal 400 normal>,\n",
       " <Font 'Microsoft JhengHei' (msjh.ttc) normal normal 400 normal>,\n",
       " <Font 'HYGothic-Extra' (H2GTRE.TTF) normal normal 400 normal>]"
      ]
     },
     "execution_count": 12,
     "metadata": {},
     "output_type": "execute_result"
    }
   ],
   "source": [
    "fm.fontManager.ttflist \n",
    "#이상하게 나눔고딕 깔았는데도 불구하고 fontmanager 내에서는 찾을수없었어요...ㅠㅠ \n",
    "#그래서 그냥 다른 한글폰트 사용했더니 깨짐 문제는 해결되었습니다"
   ]
  },
  {
   "cell_type": "code",
   "execution_count": 13,
   "metadata": {},
   "outputs": [
    {
     "data": {
      "image/png": "[encoded data removed]",
      "text/plain": [
       "<Figure size 432x288 with 1 Axes>"
      ]
     },
     "metadata": {
      "needs_background": "light"
     },
     "output_type": "display_data"
    }
   ],
   "source": [
    "import matplotlib as mpl ; mpl.rcParams['axes.unicode_minus'] = False\n",
    "import matplotlib.pyplot as plt\n",
    "plt.rcParams['font.family'] = 'HYGothic-Medium' #HY Gothic 폰트 이용\n",
    "\n",
    "fig, ax = plt.subplots() #결과물 아웃풋이 figure 와 subclass를 지정해주어야함, 명령어 지정을 꼭 해줘야함, 불러올 때 쓴다\n",
    "plt.show() #빈도화지 만듦 \n",
    "#명령어를 넣어주는게 ----방식"
   ]
  },
  {
   "cell_type": "code",
   "execution_count": 14,
   "metadata": {},
   "outputs": [
    {
     "name": "stdout",
     "output_type": "stream",
     "text": [
      "['HYGothic-Medium']\n"
     ]
    }
   ],
   "source": [
    "print (plt.rcParams['font.family'] )"
   ]
  },
  {
   "cell_type": "code",
   "execution_count": 15,
   "metadata": {},
   "outputs": [
    {
     "data": {
      "image/png": "[encoded data removed]",
      "text/plain": [
       "<Figure size 432x288 with 1 Axes>"
      ]
     },
     "metadata": {
      "needs_background": "light"
     },
     "output_type": "display_data"
    }
   ],
   "source": [
    "plt.plot() #이렇게 호출하면 사용자 편의를 더 봐줌\n",
    "plt.show()"
   ]
  },
  {
   "cell_type": "code",
   "execution_count": 16,
   "metadata": {},
   "outputs": [
    {
     "data": {
      "image/png": "[encoded data removed]",
      "text/plain": [
       "<Figure size 504x504 with 1 Axes>"
      ]
     },
     "metadata": {
      "needs_background": "light"
     },
     "output_type": "display_data"
    }
   ],
   "source": [
    "fig, ax = plt.subplots(figsize=(7, 7)) #figsize= 가로길이 세로길이\n",
    "plt.show()"
   ]
  },
  {
   "cell_type": "code",
   "execution_count": 17,
   "metadata": {},
   "outputs": [
    {
     "data": {
      "image/png": "[encoded data removed]",
      "text/plain": [
       "<Figure size 432x288 with 1 Axes>"
      ]
     },
     "metadata": {
      "needs_background": "light"
     },
     "output_type": "display_data"
    }
   ],
   "source": [
    "fig, ax = plt.subplots()\n",
    "ax.set_xticks(range(5)) #tick 0,1,2,3,4 꼭 range 말고 꺽쇠 사용도 가능\n",
    "ax.set_yticks(range(5))\n",
    "plt.show()"
   ]
  },
  {
   "cell_type": "code",
   "execution_count": 18,
   "metadata": {},
   "outputs": [
    {
     "data": {
      "image/png": "[encoded data removed]",
      "text/plain": [
       "<Figure size 432x288 with 1 Axes>"
      ]
     },
     "metadata": {
      "needs_background": "light"
     },
     "output_type": "display_data"
    }
   ],
   "source": [
    "fig, ax = plt.subplots()\n",
    "ax.set_xticks(range(5))\n",
    "ax.set_xticklabels(['a', 'b', 'c', 'd', 'e'])\n",
    "ax.set_yticks(range(5))\n",
    "ax.set_yticklabels(['ㄱ', 'ㄴ', 'ㄷ', 'ㄹ', 'ㅁ'])\n",
    "plt.show()"
   ]
  },
  {
   "cell_type": "code",
   "execution_count": 19,
   "metadata": {},
   "outputs": [
    {
     "data": {
      "image/png": "[encoded data removed]",
      "text/plain": [
       "<Figure size 432x288 with 1 Axes>"
      ]
     },
     "metadata": {
      "needs_background": "light"
     },
     "output_type": "display_data"
    }
   ],
   "source": [
    "fig, ax = plt.subplots()\n",
    "ax.set_xticks(range(5))\n",
    "ax.set_xticklabels(['aaa', 'bbb', 'ccc', 'ddd', 'eee'], rotation=90)\n",
    "ax.set_yticks(range(5))\n",
    "ax.set_yticklabels(['ㄱ', 'ㄴ', 'ㄷ', 'ㄹ', 'ㅁ'])\n",
    "plt.show()"
   ]
  },
  {
   "cell_type": "code",
   "execution_count": 20,
   "metadata": {},
   "outputs": [
    {
     "data": {
      "image/png": "[encoded data removed]",
      "text/plain": [
       "<Figure size 432x288 with 1 Axes>"
      ]
     },
     "metadata": {
      "needs_background": "light"
     },
     "output_type": "display_data"
    }
   ],
   "source": [
    "fig, ax = plt.subplots()\n",
    "ax.set_xlim([0, 10])\n",
    "ax.set_ylim([0, 10]) #셋 지정보다 걍 구간으로 지정해서 그리려면 lilmit이 더 편할수도\n",
    "plt.show()"
   ]
  },
  {
   "cell_type": "markdown",
   "metadata": {},
   "source": [
    "그리드"
   ]
  },
  {
   "cell_type": "code",
   "execution_count": 21,
   "metadata": {},
   "outputs": [
    {
     "data": {
      "image/png": "[encoded data removed]",
      "text/plain": [
       "<Figure size 432x288 with 1 Axes>"
      ]
     },
     "metadata": {
      "needs_background": "light"
     },
     "output_type": "display_data"
    }
   ],
   "source": [
    "fig, ax = plt.subplots()\n",
    "ax.grid(True, color='gray', linestyle='--', linewidth=2) #True 지정하면 grid 지정됨, 색깔이나 점 스타일, 너비는 바꿔보기\n",
    "plt.show() \n"
   ]
  },
  {
   "cell_type": "code",
   "execution_count": 22,
   "metadata": {},
   "outputs": [
    {
     "data": {
      "image/png": "[encoded data removed]",
      "text/plain": [
       "<Figure size 432x288 with 1 Axes>"
      ]
     },
     "metadata": {
      "needs_background": "light"
     },
     "output_type": "display_data"
    }
   ],
   "source": [
    "#시계열 데이터의 경우는 격자가 필요없음\n",
    "fig, ax = plt.subplots()\n",
    "ax.grid(True, color='gray', linestyle='--', linewidth=2, axis='y')\n",
    "plt.show() #plt.show를 안치면 다른거 나옴"
   ]
  },
  {
   "cell_type": "code",
   "execution_count": 23,
   "metadata": {},
   "outputs": [
    {
     "data": {
      "image/png": "[encoded data removed]",
      "text/plain": [
       "<Figure size 432x288 with 1 Axes>"
      ]
     },
     "metadata": {
      "needs_background": "light"
     },
     "output_type": "display_data"
    }
   ],
   "source": [
    "fig, ax = plt.subplots()\n",
    "ax.set_xlabel('x축') #한글 오류가 나옴\n",
    "ax.set_ylabel('y축')\n",
    "ax.set_title('제목', fontsize=15) #폰트사이즈\n",
    "plt.show()"
   ]
  },
  {
   "cell_type": "code",
   "execution_count": 24,
   "metadata": {},
   "outputs": [
    {
     "data": {
      "image/png": "[encoded data removed]",
      "text/plain": [
       "<Figure size 432x288 with 2 Axes>"
      ]
     },
     "metadata": {
      "needs_background": "light"
     },
     "output_type": "display_data"
    }
   ],
   "source": [
    "fig, ax = plt.subplots(1, 2, sharex=True, sharey=True)\n",
    "ax[0].set_title('첫번째')\n",
    "ax[1].set_title('두번째')\n",
    "fig.suptitle('제목', fontsize=15)\n",
    "plt.show()"
   ]
  },
  {
   "cell_type": "code",
   "execution_count": 25,
   "metadata": {},
   "outputs": [
    {
     "data": {
      "image/png": "[encoded data removed]",
      "text/plain": [
       "<Figure size 432x288 with 2 Axes>"
      ]
     },
     "metadata": {
      "needs_background": "light"
     },
     "output_type": "display_data"
    }
   ],
   "source": [
    "fig, ax = plt.subplots(1, 2, sharex=True, sharey=True) #sharex x축 같은 tick 공유\n",
    "ax[0].set_title('첫번째')\n",
    "ax[1].set_title('두번째')\n",
    "fig.suptitle('제목', fontsize=15) #fig.supremetitle?\n",
    "plt.show()"
   ]
  },
  {
   "cell_type": "markdown",
   "metadata": {},
   "source": [
    "# line stile 지정"
   ]
  },
  {
   "cell_type": "code",
   "execution_count": 26,
   "metadata": {},
   "outputs": [],
   "source": [
    "import numpy as np"
   ]
  },
  {
   "cell_type": "code",
   "execution_count": 27,
   "metadata": {},
   "outputs": [],
   "source": [
    "x = np.linspace(0, 10, 100)"
   ]
  },
  {
   "cell_type": "code",
   "execution_count": 28,
   "metadata": {},
   "outputs": [
    {
     "data": {
      "image/png": "[encoded data removed]",
      "text/plain": [
       "<Figure size 432x288 with 1 Axes>"
      ]
     },
     "metadata": {
      "needs_background": "light"
     },
     "output_type": "display_data"
    }
   ],
   "source": [
    "fig, ax = plt.subplots()\n",
    "ax.plot(x, np.sin(x), linestyle='--', marker='o', color='y')\n",
    "plt.show()"
   ]
  },
  {
   "cell_type": "code",
   "execution_count": 29,
   "metadata": {},
   "outputs": [
    {
     "data": {
      "image/png": "[encoded data removed]",
      "text/plain": [
       "<Figure size 432x288 with 1 Axes>"
      ]
     },
     "metadata": {
      "needs_background": "light"
     },
     "output_type": "display_data"
    }
   ],
   "source": [
    "fig, ax = plt.subplots()\n",
    "ax.plot(x, np.sin(x), label='blue') #같은 ax안에 그림 두개그림\n",
    "ax.plot(x, np.sin(x + 1), color='r', label='red')\n",
    "ax.legend(title='Legend', loc='upper right') #loc ; 레전드 위치 조정\n",
    "plt.show()"
   ]
  },
  {
   "cell_type": "code",
   "execution_count": 30,
   "metadata": {},
   "outputs": [
    {
     "data": {
      "image/png": "[encoded data removed]",
      "text/plain": [
       "<Figure size 432x288 with 2 Axes>"
      ]
     },
     "metadata": {
      "needs_background": "light"
     },
     "output_type": "display_data"
    }
   ],
   "source": [
    "fig, ax = plt.subplots()\n",
    "ax.plot(x, np.sin(x), label='red')\n",
    "ax2 = ax.twinx() #다른 스케일을 그릴때는 새로 ax 지정해주어야?????\n",
    "ax2.plot(x, np.exp(x), color='r', label='blue')\n",
    "fig.legend(bbox_to_anchor=(1.2, 0.55)) #레전드 위치 지정; 직접 좌표 찍어서 맞는 위치 찾아야함 --> 구글 찾아볼것,\n",
    "plt.show()"
   ]
  },
  {
   "cell_type": "code",
   "execution_count": 31,
   "metadata": {},
   "outputs": [
    {
     "data": {
      "image/png": "[encoded data removed]",
      "text/plain": [
       "<Figure size 432x288 with 1 Axes>"
      ]
     },
     "metadata": {
      "needs_background": "light"
     },
     "output_type": "display_data"
    }
   ],
   "source": [
    "fig, ax = plt.subplots()\n",
    "ax.plot(x, np.sin(x))\n",
    "ax.annotate('max', xy =(1.5, 1), xytext =(2.5, 1.3), arrowprops = {'arrowstyle':'->', 'color':'black'})\n",
    "plt.show()"
   ]
  },
  {
   "cell_type": "code",
   "execution_count": 32,
   "metadata": {},
   "outputs": [
    {
     "data": {
      "image/png": "[encoded data removed]",
      "text/plain": [
       "<Figure size 432x288 with 1 Axes>"
      ]
     },
     "metadata": {
      "needs_background": "light"
     },
     "output_type": "display_data"
    }
   ],
   "source": [
    "#annotation: 화살표 넣기\n",
    "fig, ax = plt.subplots()\n",
    "ax.plot(x, np.sin(x))\n",
    "ax.annotate('max', xy =(1.5, 1), xytext =(2.5, 1.3), arrowprops = {'arrowstyle':'->', 'color':'black'})\n",
    "plt.show()"
   ]
  },
  {
   "cell_type": "markdown",
   "metadata": {},
   "source": [
    "# 실제 데이터 다루기"
   ]
  },
  {
   "cell_type": "code",
   "execution_count": 33,
   "metadata": {},
   "outputs": [],
   "source": [
    "import pandas as pd\n",
    "import requests\n",
    "from bs4 import BeautifulSoup"
   ]
  },
  {
   "cell_type": "code",
   "execution_count": 34,
   "metadata": {},
   "outputs": [],
   "source": [
    "def get_price(company_code):\n",
    "    url = \"https://fchart.stock.naver.com/sise.nhn?symbol={}&timeframe=day&count=100&requestType=0\".format(company_code)\n",
    "    get_result = requests.get(url)\n",
    "    bs_obj = BeautifulSoup(get_result.content, \"html.parser\")\n",
    "\n",
    "    inf = bs_obj.select('item')\n",
    "    columns = ['Date', 'Open' ,'High', 'Low', 'Close', 'Volume']\n",
    "    df_inf = pd.DataFrame([], columns = columns, index = range(len(inf)))\n",
    "    \n",
    "    for i in range(len(inf)):\n",
    "        df_inf.iloc[i] = str(inf[i]['data']).split('|')\n",
    "    \n",
    "    df_inf.index = pd.to_datetime(df_inf['Date'])\n",
    "    \n",
    "    return df_inf.drop('Date', axis=1).astype(float)"
   ]
  },
  {
   "cell_type": "code",
   "execution_count": 35,
   "metadata": {},
   "outputs": [],
   "source": [
    "kakao = get_price('035720')"
   ]
  },
  {
   "cell_type": "code",
   "execution_count": 36,
   "metadata": {},
   "outputs": [
    {
     "data": {
      "text/html": [
       "<div>\n",
       "<style scoped>\n",
       "    .dataframe tbody tr th:only-of-type {\n",
       "        vertical-align: middle;\n",
       "    }\n",
       "\n",
       "    .dataframe tbody tr th {\n",
       "        vertical-align: top;\n",
       "    }\n",
       "\n",
       "    .dataframe thead th {\n",
       "        text-align: right;\n",
       "    }\n",
       "</style>\n",
       "<table border=\"1\" class=\"dataframe\">\n",
       "  <thead>\n",
       "    <tr style=\"text-align: right;\">\n",
       "      <th></th>\n",
       "      <th>Open</th>\n",
       "      <th>High</th>\n",
       "      <th>Low</th>\n",
       "      <th>Close</th>\n",
       "      <th>Volume</th>\n",
       "    </tr>\n",
       "    <tr>\n",
       "      <th>Date</th>\n",
       "      <th></th>\n",
       "      <th></th>\n",
       "      <th></th>\n",
       "      <th></th>\n",
       "      <th></th>\n",
       "    </tr>\n",
       "  </thead>\n",
       "  <tbody>\n",
       "    <tr>\n",
       "      <th>2020-03-05</th>\n",
       "      <td>182500.0</td>\n",
       "      <td>183000.0</td>\n",
       "      <td>176500.0</td>\n",
       "      <td>179500.0</td>\n",
       "      <td>821744.0</td>\n",
       "    </tr>\n",
       "    <tr>\n",
       "      <th>2020-03-06</th>\n",
       "      <td>176500.0</td>\n",
       "      <td>178500.0</td>\n",
       "      <td>174000.0</td>\n",
       "      <td>175500.0</td>\n",
       "      <td>568424.0</td>\n",
       "    </tr>\n",
       "    <tr>\n",
       "      <th>2020-03-09</th>\n",
       "      <td>171000.0</td>\n",
       "      <td>171500.0</td>\n",
       "      <td>166000.0</td>\n",
       "      <td>167500.0</td>\n",
       "      <td>805638.0</td>\n",
       "    </tr>\n",
       "    <tr>\n",
       "      <th>2020-03-10</th>\n",
       "      <td>164500.0</td>\n",
       "      <td>174500.0</td>\n",
       "      <td>164000.0</td>\n",
       "      <td>173000.0</td>\n",
       "      <td>950875.0</td>\n",
       "    </tr>\n",
       "    <tr>\n",
       "      <th>2020-03-11</th>\n",
       "      <td>172000.0</td>\n",
       "      <td>174500.0</td>\n",
       "      <td>167000.0</td>\n",
       "      <td>169000.0</td>\n",
       "      <td>550227.0</td>\n",
       "    </tr>\n",
       "    <tr>\n",
       "      <th>...</th>\n",
       "      <td>...</td>\n",
       "      <td>...</td>\n",
       "      <td>...</td>\n",
       "      <td>...</td>\n",
       "      <td>...</td>\n",
       "    </tr>\n",
       "    <tr>\n",
       "      <th>2020-07-22</th>\n",
       "      <td>310500.0</td>\n",
       "      <td>321500.0</td>\n",
       "      <td>306000.0</td>\n",
       "      <td>318000.0</td>\n",
       "      <td>1159298.0</td>\n",
       "    </tr>\n",
       "    <tr>\n",
       "      <th>2020-07-23</th>\n",
       "      <td>316500.0</td>\n",
       "      <td>329500.0</td>\n",
       "      <td>315000.0</td>\n",
       "      <td>329500.0</td>\n",
       "      <td>1260435.0</td>\n",
       "    </tr>\n",
       "    <tr>\n",
       "      <th>2020-07-24</th>\n",
       "      <td>325000.0</td>\n",
       "      <td>333000.0</td>\n",
       "      <td>322000.0</td>\n",
       "      <td>324500.0</td>\n",
       "      <td>907643.0</td>\n",
       "    </tr>\n",
       "    <tr>\n",
       "      <th>2020-07-27</th>\n",
       "      <td>321000.0</td>\n",
       "      <td>329500.0</td>\n",
       "      <td>320500.0</td>\n",
       "      <td>326500.0</td>\n",
       "      <td>603322.0</td>\n",
       "    </tr>\n",
       "    <tr>\n",
       "      <th>2020-07-28</th>\n",
       "      <td>332000.0</td>\n",
       "      <td>336000.0</td>\n",
       "      <td>328500.0</td>\n",
       "      <td>329500.0</td>\n",
       "      <td>865693.0</td>\n",
       "    </tr>\n",
       "  </tbody>\n",
       "</table>\n",
       "<p>100 rows × 5 columns</p>\n",
       "</div>"
      ],
      "text/plain": [
       "                Open      High       Low     Close     Volume\n",
       "Date                                                         \n",
       "2020-03-05  182500.0  183000.0  176500.0  179500.0   821744.0\n",
       "2020-03-06  176500.0  178500.0  174000.0  175500.0   568424.0\n",
       "2020-03-09  171000.0  171500.0  166000.0  167500.0   805638.0\n",
       "2020-03-10  164500.0  174500.0  164000.0  173000.0   950875.0\n",
       "2020-03-11  172000.0  174500.0  167000.0  169000.0   550227.0\n",
       "...              ...       ...       ...       ...        ...\n",
       "2020-07-22  310500.0  321500.0  306000.0  318000.0  1159298.0\n",
       "2020-07-23  316500.0  329500.0  315000.0  329500.0  1260435.0\n",
       "2020-07-24  325000.0  333000.0  322000.0  324500.0   907643.0\n",
       "2020-07-27  321000.0  329500.0  320500.0  326500.0   603322.0\n",
       "2020-07-28  332000.0  336000.0  328500.0  329500.0   865693.0\n",
       "\n",
       "[100 rows x 5 columns]"
      ]
     },
     "execution_count": 36,
     "metadata": {},
     "output_type": "execute_result"
    }
   ],
   "source": [
    "kakao #카카오 100일 주식 가격"
   ]
  },
  {
   "cell_type": "code",
   "execution_count": 37,
   "metadata": {},
   "outputs": [
    {
     "data": {
      "image/png": "[encoded data removed]",
      "text/plain": [
       "<Figure size 432x288 with 1 Axes>"
      ]
     },
     "metadata": {
      "needs_background": "light"
     },
     "output_type": "display_data"
    }
   ],
   "source": [
    "fig, ax = plt.subplots()\n",
    "ax.plot(kakao.index, kakao['Open']) #꺾은선 그래프, x축과 y축 값 지정해주어야함,\n",
    "ax.grid(True)\n",
    "ax.set_xlabel('Date')\n",
    "ax.set_ylabel('Price')\n",
    "ax.set_title('Kakao Stock Price')\n",
    "plt.show()"
   ]
  },
  {
   "cell_type": "code",
   "execution_count": 38,
   "metadata": {},
   "outputs": [
    {
     "data": {
      "image/png": "[encoded data removed]",
      "text/plain": [
       "<Figure size 432x288 with 1 Axes>"
      ]
     },
     "metadata": {
      "needs_background": "light"
     },
     "output_type": "display_data"
    }
   ],
   "source": [
    "fig, ax = plt.subplots()\n",
    "ax.plot(kakao.index, kakao['Open'], label='Open')\n",
    "ax.plot(kakao.index, kakao['Close'], label='Close') #겹쳐그릴땐 걍 이렇게\n",
    "ax.set_xlabel('Date')\n",
    "ax.set_ylabel('Price')\n",
    "ax.set_title('Kakao Stock Price')\n",
    "ax.legend()\n",
    "plt.show()"
   ]
  },
  {
   "cell_type": "code",
   "execution_count": 39,
   "metadata": {},
   "outputs": [],
   "source": [
    "kakao_diff = kakao.diff().dropna()"
   ]
  },
  {
   "cell_type": "code",
   "execution_count": 40,
   "metadata": {},
   "outputs": [
    {
     "data": {
      "image/png": "[encoded data removed]",
      "text/plain": [
       "<Figure size 432x288 with 1 Axes>"
      ]
     },
     "metadata": {
      "needs_background": "light"
     },
     "output_type": "display_data"
    }
   ],
   "source": [
    "fig, ax = plt.subplots()\n",
    "ax.plot(kakao_diff.index, kakao_diff['Open'], marker='.') #1차 차분\n",
    "ax.set_xlabel('Date')\n",
    "ax.set_ylabel('Price')\n",
    "ax.set_title('Kakao Stock Price (diff)')\n",
    "plt.show()"
   ]
  },
  {
   "cell_type": "code",
   "execution_count": 41,
   "metadata": {},
   "outputs": [
    {
     "data": {
      "image/png": "[encoded data removed]",
      "text/plain": [
       "<Figure size 432x288 with 2 Axes>"
      ]
     },
     "metadata": {
      "needs_background": "light"
     },
     "output_type": "display_data"
    }
   ],
   "source": [
    "fig, ax = plt.subplots()\n",
    "ax.plot(kakao.index, kakao['Open'], label='default')\n",
    "ax2 = ax.twinx()\n",
    "ax2.plot(kakao_diff.index, kakao_diff['Open'], color='r', label='diff') \n",
    "#그냥 ax.plot하면 그래프가 뭉개짐, ax2.plot으로 시각화하면 뭉개지지 않고 \n",
    "ax.legend(loc='upper right')\n",
    "ax2.legend(loc='upper left')\n",
    "plt.show()"
   ]
  },
  {
   "cell_type": "code",
   "execution_count": 42,
   "metadata": {},
   "outputs": [
    {
     "data": {
      "image/png": "[encoded data removed]",
      "text/plain": [
       "<Figure size 720x360 with 4 Axes>"
      ]
     },
     "metadata": {
      "needs_background": "light"
     },
     "output_type": "display_data"
    }
   ],
   "source": [
    "fig, ax = plt.subplots(2, 2, sharex=True, sharey=True, figsize=(10,5)) #sharex와 sharey True해주면 그래프 크기가 같아짐?\n",
    "ax[0, 0].plot(kakao.index, kakao['Open'], label='Open')\n",
    "ax[0, 1].plot(kakao.index, kakao['High'], color='r', label='High')\n",
    "ax[1, 0].plot(kakao.index, kakao['Low'], color='g', label='Low')\n",
    "ax[1, 1].plot(kakao.index, kakao['Close'], color='y', label='Close')\n",
    "ax[0, 0].legend() #ax.legend로만 하면 에러 듬, 하나하나 구분해서 사용\n",
    "ax[0, 1].legend() #그게 아니라면 fig.legend사용\n",
    "ax[1, 0].legend()\n",
    "ax[1, 1].legend()\n",
    "plt.show()"
   ]
  },
  {
   "cell_type": "code",
   "execution_count": 43,
   "metadata": {},
   "outputs": [],
   "source": [
    "covid = pd.read_html('http://ncov.mohw.go.kr/bdBoardList_Real.do?brdId=1&brdGubun=13&ncvContSeq=&contSeq=&board_id=&gubun=', encoding='utf8')\n",
    "covid = covid[0]\n",
    "covid.columns = ['시도명', '합계', '해외유입', '국내발생', '확진환자', '격리중', '격리해제', '사망자', '발생률']\n",
    "covid = covid.drop([0, 18])\n",
    "covid = covid.set_index('시도명')"
   ]
  },
  {
   "cell_type": "code",
   "execution_count": 44,
   "metadata": {},
   "outputs": [
    {
     "data": {
      "text/html": [
       "<div>\n",
       "<style scoped>\n",
       "    .dataframe tbody tr th:only-of-type {\n",
       "        vertical-align: middle;\n",
       "    }\n",
       "\n",
       "    .dataframe tbody tr th {\n",
       "        vertical-align: top;\n",
       "    }\n",
       "\n",
       "    .dataframe thead th {\n",
       "        text-align: right;\n",
       "    }\n",
       "</style>\n",
       "<table border=\"1\" class=\"dataframe\">\n",
       "  <thead>\n",
       "    <tr style=\"text-align: right;\">\n",
       "      <th></th>\n",
       "      <th>합계</th>\n",
       "      <th>해외유입</th>\n",
       "      <th>국내발생</th>\n",
       "      <th>확진환자</th>\n",
       "      <th>격리중</th>\n",
       "      <th>격리해제</th>\n",
       "      <th>사망자</th>\n",
       "      <th>발생률</th>\n",
       "    </tr>\n",
       "    <tr>\n",
       "      <th>시도명</th>\n",
       "      <th></th>\n",
       "      <th></th>\n",
       "      <th></th>\n",
       "      <th></th>\n",
       "      <th></th>\n",
       "      <th></th>\n",
       "      <th></th>\n",
       "      <th></th>\n",
       "    </tr>\n",
       "  </thead>\n",
       "  <tbody>\n",
       "    <tr>\n",
       "      <th>서울</th>\n",
       "      <td>6</td>\n",
       "      <td>3</td>\n",
       "      <td>3</td>\n",
       "      <td>1580</td>\n",
       "      <td>169</td>\n",
       "      <td>1400</td>\n",
       "      <td>11</td>\n",
       "      <td>16.23</td>\n",
       "    </tr>\n",
       "    <tr>\n",
       "      <th>부산</th>\n",
       "      <td>2</td>\n",
       "      <td>1</td>\n",
       "      <td>1</td>\n",
       "      <td>170</td>\n",
       "      <td>16</td>\n",
       "      <td>151</td>\n",
       "      <td>3</td>\n",
       "      <td>4.98</td>\n",
       "    </tr>\n",
       "    <tr>\n",
       "      <th>대구</th>\n",
       "      <td>0</td>\n",
       "      <td>0</td>\n",
       "      <td>0</td>\n",
       "      <td>6939</td>\n",
       "      <td>11</td>\n",
       "      <td>6737</td>\n",
       "      <td>191</td>\n",
       "      <td>284.80</td>\n",
       "    </tr>\n",
       "    <tr>\n",
       "      <th>인천</th>\n",
       "      <td>0</td>\n",
       "      <td>0</td>\n",
       "      <td>0</td>\n",
       "      <td>380</td>\n",
       "      <td>21</td>\n",
       "      <td>357</td>\n",
       "      <td>2</td>\n",
       "      <td>12.85</td>\n",
       "    </tr>\n",
       "    <tr>\n",
       "      <th>광주</th>\n",
       "      <td>0</td>\n",
       "      <td>0</td>\n",
       "      <td>0</td>\n",
       "      <td>203</td>\n",
       "      <td>74</td>\n",
       "      <td>127</td>\n",
       "      <td>2</td>\n",
       "      <td>13.94</td>\n",
       "    </tr>\n",
       "    <tr>\n",
       "      <th>대전</th>\n",
       "      <td>0</td>\n",
       "      <td>0</td>\n",
       "      <td>0</td>\n",
       "      <td>166</td>\n",
       "      <td>13</td>\n",
       "      <td>151</td>\n",
       "      <td>2</td>\n",
       "      <td>11.26</td>\n",
       "    </tr>\n",
       "    <tr>\n",
       "      <th>울산</th>\n",
       "      <td>0</td>\n",
       "      <td>0</td>\n",
       "      <td>0</td>\n",
       "      <td>58</td>\n",
       "      <td>4</td>\n",
       "      <td>53</td>\n",
       "      <td>1</td>\n",
       "      <td>5.06</td>\n",
       "    </tr>\n",
       "    <tr>\n",
       "      <th>세종</th>\n",
       "      <td>0</td>\n",
       "      <td>0</td>\n",
       "      <td>0</td>\n",
       "      <td>50</td>\n",
       "      <td>0</td>\n",
       "      <td>50</td>\n",
       "      <td>0</td>\n",
       "      <td>14.61</td>\n",
       "    </tr>\n",
       "    <tr>\n",
       "      <th>경기</th>\n",
       "      <td>6</td>\n",
       "      <td>5</td>\n",
       "      <td>1</td>\n",
       "      <td>1520</td>\n",
       "      <td>199</td>\n",
       "      <td>1291</td>\n",
       "      <td>30</td>\n",
       "      <td>11.47</td>\n",
       "    </tr>\n",
       "    <tr>\n",
       "      <th>강원</th>\n",
       "      <td>0</td>\n",
       "      <td>0</td>\n",
       "      <td>0</td>\n",
       "      <td>72</td>\n",
       "      <td>5</td>\n",
       "      <td>64</td>\n",
       "      <td>3</td>\n",
       "      <td>4.67</td>\n",
       "    </tr>\n",
       "    <tr>\n",
       "      <th>충북</th>\n",
       "      <td>0</td>\n",
       "      <td>0</td>\n",
       "      <td>0</td>\n",
       "      <td>73</td>\n",
       "      <td>6</td>\n",
       "      <td>67</td>\n",
       "      <td>0</td>\n",
       "      <td>4.56</td>\n",
       "    </tr>\n",
       "    <tr>\n",
       "      <th>충남</th>\n",
       "      <td>1</td>\n",
       "      <td>1</td>\n",
       "      <td>0</td>\n",
       "      <td>189</td>\n",
       "      <td>5</td>\n",
       "      <td>183</td>\n",
       "      <td>1</td>\n",
       "      <td>8.90</td>\n",
       "    </tr>\n",
       "    <tr>\n",
       "      <th>전북</th>\n",
       "      <td>0</td>\n",
       "      <td>0</td>\n",
       "      <td>0</td>\n",
       "      <td>39</td>\n",
       "      <td>8</td>\n",
       "      <td>31</td>\n",
       "      <td>0</td>\n",
       "      <td>2.15</td>\n",
       "    </tr>\n",
       "    <tr>\n",
       "      <th>전남</th>\n",
       "      <td>2</td>\n",
       "      <td>2</td>\n",
       "      <td>0</td>\n",
       "      <td>38</td>\n",
       "      <td>14</td>\n",
       "      <td>24</td>\n",
       "      <td>0</td>\n",
       "      <td>2.04</td>\n",
       "    </tr>\n",
       "    <tr>\n",
       "      <th>경북</th>\n",
       "      <td>1</td>\n",
       "      <td>1</td>\n",
       "      <td>0</td>\n",
       "      <td>1397</td>\n",
       "      <td>4</td>\n",
       "      <td>1339</td>\n",
       "      <td>54</td>\n",
       "      <td>52.47</td>\n",
       "    </tr>\n",
       "    <tr>\n",
       "      <th>경남</th>\n",
       "      <td>0</td>\n",
       "      <td>0</td>\n",
       "      <td>0</td>\n",
       "      <td>158</td>\n",
       "      <td>10</td>\n",
       "      <td>148</td>\n",
       "      <td>0</td>\n",
       "      <td>4.70</td>\n",
       "    </tr>\n",
       "    <tr>\n",
       "      <th>제주</th>\n",
       "      <td>0</td>\n",
       "      <td>0</td>\n",
       "      <td>0</td>\n",
       "      <td>26</td>\n",
       "      <td>7</td>\n",
       "      <td>19</td>\n",
       "      <td>0</td>\n",
       "      <td>3.88</td>\n",
       "    </tr>\n",
       "  </tbody>\n",
       "</table>\n",
       "</div>"
      ],
      "text/plain": [
       "     합계  해외유입  국내발생  확진환자  격리중  격리해제  사망자     발생률\n",
       "시도명                                              \n",
       "서울    6     3     3  1580  169  1400   11   16.23\n",
       "부산    2     1     1   170   16   151    3    4.98\n",
       "대구    0     0     0  6939   11  6737  191  284.80\n",
       "인천    0     0     0   380   21   357    2   12.85\n",
       "광주    0     0     0   203   74   127    2   13.94\n",
       "대전    0     0     0   166   13   151    2   11.26\n",
       "울산    0     0     0    58    4    53    1    5.06\n",
       "세종    0     0     0    50    0    50    0   14.61\n",
       "경기    6     5     1  1520  199  1291   30   11.47\n",
       "강원    0     0     0    72    5    64    3    4.67\n",
       "충북    0     0     0    73    6    67    0    4.56\n",
       "충남    1     1     0   189    5   183    1    8.90\n",
       "전북    0     0     0    39    8    31    0    2.15\n",
       "전남    2     2     0    38   14    24    0    2.04\n",
       "경북    1     1     0  1397    4  1339   54   52.47\n",
       "경남    0     0     0   158   10   148    0    4.70\n",
       "제주    0     0     0    26    7    19    0    3.88"
      ]
     },
     "execution_count": 44,
     "metadata": {},
     "output_type": "execute_result"
    }
   ],
   "source": [
    "covid"
   ]
  },
  {
   "cell_type": "code",
   "execution_count": 45,
   "metadata": {},
   "outputs": [
    {
     "data": {
      "image/png": "[encoded data removed]",
      "text/plain": [
       "<Figure size 504x504 with 1 Axes>"
      ]
     },
     "metadata": {},
     "output_type": "display_data"
    }
   ],
   "source": [
    "fig, ax = plt.subplots(figsize=(7, 7))\n",
    "ax.pie(covid.iloc[:5, 3], labels=covid.index[:5], autopct='%1.1f%%', explode=(0, 0, 0.1, 0, 0))\n",
    "#label이름 지정 explode 떨어진 정도를 지정\n",
    "ax.set_title('확진환자 비율')\n",
    "plt.show()"
   ]
  },
  {
   "cell_type": "code",
   "execution_count": 46,
   "metadata": {},
   "outputs": [
    {
     "data": {
      "image/png": "[encoded data removed]",
      "text/plain": [
       "<Figure size 432x288 with 1 Axes>"
      ]
     },
     "metadata": {
      "needs_background": "light"
     },
     "output_type": "display_data"
    }
   ],
   "source": [
    "fig, ax = plt.subplots()\n",
    "ax.bar(covid.index, covid['확진환자'])\n",
    "ax.set_xlabel('시도명') \n",
    "ax.set_ylabel('확진환자')\n",
    "ax.set_title('코로나바이러스 국내 현황')\n",
    "plt.show()"
   ]
  },
  {
   "cell_type": "code",
   "execution_count": 47,
   "metadata": {},
   "outputs": [
    {
     "data": {
      "image/png": "[encoded data removed]",
      "text/plain": [
       "<Figure size 432x288 with 1 Axes>"
      ]
     },
     "metadata": {
      "needs_background": "light"
     },
     "output_type": "display_data"
    }
   ],
   "source": [
    "fig, ax = plt.subplots()\n",
    "ax.bar(covid.index, covid['확진환자'])\n",
    "ax.set_xticklabels(covid.index, rotation=90) #rotation도시명 회전\n",
    "ax.set_xlabel('시도명')\n",
    "ax.set_ylabel('확진환자')\n",
    "ax.set_title('코로나바이러스 국내 현황')\n",
    "plt.show()"
   ]
  },
  {
   "cell_type": "code",
   "execution_count": 48,
   "metadata": {},
   "outputs": [
    {
     "data": {
      "image/png": "[encoded data removed]",
      "text/plain": [
       "<Figure size 432x288 with 1 Axes>"
      ]
     },
     "metadata": {
      "needs_background": "light"
     },
     "output_type": "display_data"
    }
   ],
   "source": [
    "#그래프 쌓아올리기\n",
    "fig, ax = plt.subplots()\n",
    "ax.bar(covid.index, covid['격리해제'], label='격리해제')\n",
    "ax.bar(covid.index, covid['격리중'], bottom=covid['격리해제'], label='격리중') #bottom막대그래프 아래에 위치, 쌓아올리기 가능\n",
    "ax.set_xticklabels(covid.index, rotation=90)\n",
    "ax.set_xlabel('시도명')\n",
    "ax.set_ylabel('확진환자')\n",
    "ax.set_title('코로나바이러스 국내 현황')\n",
    "ax.legend()\n",
    "plt.show()"
   ]
  },
  {
   "cell_type": "code",
   "execution_count": 49,
   "metadata": {},
   "outputs": [
    {
     "data": {
      "image/png": "[encoded data removed]",
      "text/plain": [
       "<Figure size 432x288 with 1 Axes>"
      ]
     },
     "metadata": {
      "needs_background": "light"
     },
     "output_type": "display_data"
    }
   ],
   "source": [
    "fig, ax = plt.subplots()\n",
    "ax.bar(covid.index, covid['격리해제'], label='격리해제')\n",
    "ax.bar(covid.index, covid['격리중'], bottom=covid['격리해제'], label='격리중')\n",
    "ax.bar(covid.index, covid['사망자'], bottom=covid['격리해제'] + covid['격리중'], label='사망자')\n",
    "ax.set_xticklabels(covid.index, rotation=90) #ax.set_xticklabels는 rotation 줄때 사용\n",
    "ax.set_xlabel('시도명')\n",
    "ax.set_ylabel('확진환자')\n",
    "ax.set_title('코로나바이러스 국내 현황')\n",
    "ax.legend()\n",
    "plt.show()"
   ]
  },
  {
   "cell_type": "code",
   "execution_count": 50,
   "metadata": {},
   "outputs": [],
   "source": [
    "from sklearn.datasets import load_iris\n",
    "load_iris = load_iris()\n",
    "iris = pd.DataFrame(data=load_iris.data, columns=load_iris.feature_names)\n",
    "iris['species'] = load_iris.target\n",
    "setosa = iris[iris['species']==0]\n",
    "versicolor = iris[iris['species']==1]\n",
    "virginica = iris[iris['species']==2]"
   ]
  },
  {
   "cell_type": "code",
   "execution_count": 51,
   "metadata": {},
   "outputs": [
    {
     "data": {
      "image/png": "[encoded data removed]",
      "text/plain": [
       "<Figure size 432x288 with 1 Axes>"
      ]
     },
     "metadata": {
      "needs_background": "light"
     },
     "output_type": "display_data"
    }
   ],
   "source": [
    "fig, ax = plt.subplots()\n",
    "ax.hist(iris['sepal length (cm)']) #데이터 하나만 넣으면 됨, hist 그릴땐 ax.hist\n",
    "ax.set_xlabel('sepal length (cm)')\n",
    "ax.set_ylabel('count')\n",
    "ax.set_title('Distribution of Sepal Length')\n",
    "plt.show()"
   ]
  },
  {
   "cell_type": "code",
   "execution_count": 52,
   "metadata": {},
   "outputs": [
    {
     "data": {
      "image/png": "[encoded data removed]",
      "text/plain": [
       "<Figure size 432x288 with 1 Axes>"
      ]
     },
     "metadata": {
      "needs_background": "light"
     },
     "output_type": "display_data"
    }
   ],
   "source": [
    "fig, ax = plt.subplots()\n",
    "ax.hist(iris['sepal length (cm)'], histtype='step', label='sepal length') \n",
    "ax.hist(iris['petal length (cm)'], histtype='step', label='petal length') #그래프 하나로 겹쳐그리기 가능 but 색깔도 겹침, hist type='step'지정\n",
    "ax.set_xlabel('sepal length & petal length (cm)')\n",
    "ax.set_ylabel('count')\n",
    "ax.set_title('Distribution of Sepal Length & Petal Length')\n",
    "ax.legend()\n",
    "plt.show()"
   ]
  },
  {
   "cell_type": "code",
   "execution_count": 53,
   "metadata": {},
   "outputs": [
    {
     "data": {
      "image/png": "[encoded data removed]",
      "text/plain": [
       "<Figure size 432x288 with 3 Axes>"
      ]
     },
     "metadata": {
      "needs_background": "light"
     },
     "output_type": "display_data"
    }
   ],
   "source": [
    "fig, ax = plt.subplots(1, 3, sharex=True, sharey=True)\n",
    "ax[0].violinplot(setosa['sepal length (cm)'])\n",
    "ax[1].violinplot(versicolor['sepal length (cm)'])\n",
    "ax[2].violinplot(virginica['sepal length (cm)'])\n",
    "fig.suptitle('Mean Value of Sepal Length')\n",
    "ax[0].set_xlabel('setosa')\n",
    "ax[1].set_xlabel('versicolor')\n",
    "ax[2].set_xlabel('virginica')\n",
    "ax[0].set_ylabel('Sepal Length')\n",
    "plt.show()"
   ]
  },
  {
   "cell_type": "code",
   "execution_count": 54,
   "metadata": {},
   "outputs": [
    {
     "data": {
      "image/png": "[encoded data removed]",
      "text/plain": [
       "<Figure size 432x288 with 1 Axes>"
      ]
     },
     "metadata": {
      "needs_background": "light"
     },
     "output_type": "display_data"
    }
   ],
   "source": [
    "fig, ax = plt.subplots()\n",
    "ax.boxplot([setosa['sepal length (cm)'], versicolor['sepal length (cm)'], virginica['sepal length (cm)']]) \n",
    "#원하는만큼의 데이터를 넣을 것\n",
    "ax.set_xticklabels(['setosa', 'versicolor', 'virginica'])\n",
    "ax.set_ylabel('sepal length (cm)')\n",
    "ax.set_title('Box-Plot of Sepal Length')\n",
    "plt.show()"
   ]
  },
  {
   "cell_type": "code",
   "execution_count": 55,
   "metadata": {},
   "outputs": [
    {
     "data": {
      "image/png": "[encoded data removed]",
      "text/plain": [
       "<Figure size 432x288 with 1 Axes>"
      ]
     },
     "metadata": {
      "needs_background": "light"
     },
     "output_type": "display_data"
    }
   ],
   "source": [
    "fig, ax = plt.subplots()\n",
    "ax.scatter(iris['sepal length (cm)'], iris['sepal width (cm)']) #x,y축 두개의 데이터 넣을 것\n",
    "ax.set_xlabel('sepal length (cm)')\n",
    "ax.set_ylabel('sepal width (cm)')\n",
    "ax.set_title('Sepal Length & Sepal Width')\n",
    "plt.show()"
   ]
  },
  {
   "cell_type": "code",
   "execution_count": 56,
   "metadata": {},
   "outputs": [
    {
     "data": {
      "image/png": "[encoded data removed]",
      "text/plain": [
       "<Figure size 432x288 with 1 Axes>"
      ]
     },
     "metadata": {
      "needs_background": "light"
     },
     "output_type": "display_data"
    }
   ],
   "source": [
    "fig, ax = plt.subplots()\n",
    "ax.scatter(iris['sepal length (cm)'], iris['sepal width (cm)'], c=iris['species'], s=iris['petal length (cm)']*10, alpha=0.3)\n",
    "#c는 컬러, s는 사이즈, alpha는 투명도를 의미; 0이면 투명, 1이면 불투명?\n",
    "ax.set_xlabel('sepal length (cm)')\n",
    "ax.set_ylabel('sepal width (cm)')\n",
    "ax.set_title('Sepal Length & Sepal Width')\n",
    "plt.show()"
   ]
  },
  {
   "cell_type": "markdown",
   "metadata": {},
   "source": [
    "# 과제"
   ]
  },
  {
   "cell_type": "markdown",
   "metadata": {},
   "source": [
    "## Quiz1"
   ]
  },
  {
   "cell_type": "code",
   "execution_count": 74,
   "metadata": {},
   "outputs": [],
   "source": [
    "import matplotlib as mpl\n",
    "import matplotlib.pyplot as plt\n",
    "import matplotlib.font_manager as fm\n",
    "import pandas as pd"
   ]
  },
  {
   "cell_type": "code",
   "execution_count": 75,
   "metadata": {},
   "outputs": [
    {
     "data": {
      "text/plain": [
       "['C:\\\\Windows\\\\Fonts\\\\ARIALUNI.TTF',\n",
       " 'C:\\\\WINDOWS\\\\Fonts\\\\consola.ttf',\n",
       " 'C:\\\\Users\\\\ddora\\\\AppData\\\\Local\\\\Microsoft\\\\Windows\\\\Fonts\\\\a엄마의편지M.ttf',\n",
       " 'C:\\\\Users\\\\ddora\\\\AppData\\\\Local\\\\Microsoft\\\\Windows\\\\Fonts\\\\NanumBarunGothicBold.ttf',\n",
       " 'C:\\\\WINDOWS\\\\Fonts\\\\cambriaz.ttf',\n",
       " 'C:\\\\WINDOWS\\\\Fonts\\\\segoescb.ttf',\n",
       " 'C:\\\\Windows\\\\Fonts\\\\gulim.ttc',\n",
       " 'C:\\\\Windows\\\\Fonts\\\\BOOKOS.TTF',\n",
       " 'C:\\\\WINDOWS\\\\Fonts\\\\MISTRAL.TTF',\n",
       " 'C:\\\\WINDOWS\\\\Fonts\\\\NanumBarunpenR.ttf',\n",
       " 'C:\\\\WINDOWS\\\\Fonts\\\\tahoma.ttf',\n",
       " 'C:\\\\WINDOWS\\\\Fonts\\\\l_10646.ttf',\n",
       " 'C:\\\\Windows\\\\Fonts\\\\courbd.ttf',\n",
       " 'C:\\\\Windows\\\\Fonts\\\\corbelli.ttf',\n",
       " 'C:\\\\Windows\\\\Fonts\\\\segoeuii.ttf',\n",
       " 'C:\\\\WINDOWS\\\\Fonts\\\\HANBatangExtB.ttf',\n",
       " 'C:\\\\WINDOWS\\\\Fonts\\\\wingding.ttf',\n",
       " 'C:\\\\Windows\\\\Fonts\\\\HMKMAMI.TTF',\n",
       " 'C:\\\\Windows\\\\Fonts\\\\ARIALNB.TTF',\n",
       " 'C:\\\\WINDOWS\\\\Fonts\\\\calibrii.ttf',\n",
       " 'C:\\\\WINDOWS\\\\Fonts\\\\gulim.ttc',\n",
       " 'C:\\\\Windows\\\\Fonts\\\\msjhbd.ttc',\n",
       " 'C:\\\\Windows\\\\Fonts\\\\trebuc.ttf',\n",
       " 'C:\\\\Windows\\\\Fonts\\\\HMFMPYUN.TTF',\n",
       " 'C:\\\\Windows\\\\Fonts\\\\UDDigiKyokashoN-B.ttc',\n",
       " 'C:\\\\Windows\\\\Fonts\\\\HMKMRHD.TTF',\n",
       " 'C:\\\\WINDOWS\\\\Fonts\\\\simsun.ttc',\n",
       " 'C:\\\\Windows\\\\Fonts\\\\HMKMMAG.TTF',\n",
       " 'C:\\\\Users\\\\ddora\\\\AppData\\\\Local\\\\Microsoft\\\\Windows\\\\Fonts\\\\NanumSquareB.ttf',\n",
       " 'C:\\\\WINDOWS\\\\Fonts\\\\HANDotum.ttf',\n",
       " 'C:\\\\WINDOWS\\\\Fonts\\\\NanumSquareB.ttf',\n",
       " 'C:\\\\WINDOWS\\\\Fonts\\\\SitkaZ.ttc',\n",
       " 'C:\\\\Windows\\\\Fonts\\\\seguisbi.ttf',\n",
       " 'C:\\\\WINDOWS\\\\Fonts\\\\georgiab.ttf',\n",
       " 'C:\\\\WINDOWS\\\\Fonts\\\\georgia.ttf',\n",
       " 'C:\\\\Windows\\\\Fonts\\\\timesbd.ttf',\n",
       " 'C:\\\\WINDOWS\\\\Fonts\\\\segoeuil.ttf',\n",
       " 'C:\\\\Users\\\\ddora\\\\AppData\\\\Local\\\\Microsoft\\\\Windows\\\\Fonts\\\\NanumGothicLight.ttf',\n",
       " 'C:\\\\Windows\\\\Fonts\\\\calibrii.ttf',\n",
       " 'C:\\\\Windows\\\\Fonts\\\\l_10646.ttf',\n",
       " 'C:\\\\Users\\\\ddora\\\\AppData\\\\Local\\\\Microsoft\\\\Windows\\\\Fonts\\\\윤고딕310.ttf',\n",
       " 'C:\\\\Windows\\\\Fonts\\\\malgunsl.ttf',\n",
       " 'C:\\\\Windows\\\\Fonts\\\\batang.ttc',\n",
       " 'C:\\\\WINDOWS\\\\Fonts\\\\mmrtext.ttf',\n",
       " 'C:\\\\WINDOWS\\\\Fonts\\\\GARABD.TTF',\n",
       " 'C:\\\\WINDOWS\\\\Fonts\\\\H2MKPB.TTF',\n",
       " 'C:\\\\WINDOWS\\\\Fonts\\\\BOOKOSI.TTF',\n",
       " 'C:\\\\WINDOWS\\\\Fonts\\\\segoeuiz.ttf',\n",
       " 'C:\\\\Windows\\\\Fonts\\\\NanumGothicLight.ttf',\n",
       " 'C:\\\\Users\\\\ddora\\\\AppData\\\\Local\\\\Microsoft\\\\Windows\\\\Fonts\\\\NanumBrush.ttf',\n",
       " 'C:\\\\WINDOWS\\\\Fonts\\\\Candarali.ttf',\n",
       " 'C:\\\\Windows\\\\Fonts\\\\Candarali.ttf',\n",
       " 'C:\\\\Windows\\\\Fonts\\\\NanumGothicExtraBold.ttf',\n",
       " 'C:\\\\WINDOWS\\\\Fonts\\\\REFSAN.TTF',\n",
       " 'C:\\\\WINDOWS\\\\Fonts\\\\ariali.ttf',\n",
       " 'C:\\\\Windows\\\\Fonts\\\\LHANDW.TTF',\n",
       " 'C:\\\\WINDOWS\\\\Fonts\\\\H2GPRM.TTF',\n",
       " 'C:\\\\WINDOWS\\\\Fonts\\\\javatext.ttf',\n",
       " 'C:\\\\Windows\\\\Fonts\\\\KHNPHDRegular.ttf',\n",
       " 'C:\\\\WINDOWS\\\\Fonts\\\\malgunsl.ttf',\n",
       " 'C:\\\\WINDOWS\\\\Fonts\\\\BRADHITC.TTF',\n",
       " 'C:\\\\Windows\\\\Fonts\\\\constani.ttf',\n",
       " 'C:\\\\WINDOWS\\\\Fonts\\\\GOTHICB.TTF',\n",
       " 'C:\\\\WINDOWS\\\\Fonts\\\\HMFMOLD.TTF',\n",
       " 'C:\\\\WINDOWS\\\\Fonts\\\\Inkfree.ttf',\n",
       " 'C:\\\\Windows\\\\Fonts\\\\LEELAWDB.TTF',\n",
       " 'C:\\\\WINDOWS\\\\Fonts\\\\gadugib.ttf',\n",
       " 'C:\\\\Windows\\\\Fonts\\\\H2GTRM.TTF',\n",
       " 'C:\\\\Windows\\\\Fonts\\\\seguibli.ttf',\n",
       " 'C:\\\\Users\\\\ddora\\\\AppData\\\\Local\\\\Microsoft\\\\Windows\\\\Fonts\\\\윤고딕330.ttf',\n",
       " 'C:\\\\WINDOWS\\\\Fonts\\\\corbelz.ttf',\n",
       " 'C:\\\\Windows\\\\Fonts\\\\tahomabd.ttf',\n",
       " 'C:\\\\Windows\\\\Fonts\\\\georgiaz.ttf',\n",
       " 'C:\\\\Windows\\\\Fonts\\\\GOTHICB.TTF',\n",
       " 'C:\\\\Windows\\\\Fonts\\\\Candara.ttf',\n",
       " 'C:\\\\WINDOWS\\\\Fonts\\\\constanb.ttf',\n",
       " 'C:\\\\WINDOWS\\\\Fonts\\\\arialbd.ttf',\n",
       " 'C:\\\\Users\\\\ddora\\\\AppData\\\\Local\\\\Microsoft\\\\Windows\\\\Fonts\\\\윤고딕340.ttf',\n",
       " 'C:\\\\Windows\\\\Fonts\\\\MSUIGHUR.TTF',\n",
       " 'C:\\\\WINDOWS\\\\Fonts\\\\NanumSquareRoundEB.ttf',\n",
       " 'C:\\\\WINDOWS\\\\Fonts\\\\yumindb.ttf',\n",
       " 'C:\\\\Windows\\\\Fonts\\\\NanumMyeongjo.ttf',\n",
       " 'C:\\\\Windows\\\\Fonts\\\\FREESCPT.TTF',\n",
       " 'C:\\\\WINDOWS\\\\Fonts\\\\NanumSquare.ttf',\n",
       " 'C:\\\\WINDOWS\\\\Fonts\\\\himalaya.ttf',\n",
       " 'C:\\\\Windows\\\\Fonts\\\\ANTQUABI.TTF',\n",
       " 'C:\\\\Users\\\\ddora\\\\AppData\\\\Local\\\\Microsoft\\\\Windows\\\\Fonts\\\\KHNPHDotfR.otf',\n",
       " 'C:\\\\WINDOWS\\\\Fonts\\\\NanumMyeongjo-YetHangul.ttf',\n",
       " 'C:\\\\WINDOWS\\\\Fonts\\\\LeelawUI.ttf',\n",
       " 'C:\\\\Windows\\\\Fonts\\\\wingding.ttf',\n",
       " 'C:\\\\WINDOWS\\\\Fonts\\\\REFSPCL.TTF',\n",
       " 'C:\\\\Users\\\\ddora\\\\AppData\\\\Local\\\\Microsoft\\\\Windows\\\\Fonts\\\\윤고딕360.ttf',\n",
       " 'C:\\\\Windows\\\\Fonts\\\\NanumPen.ttf',\n",
       " 'C:\\\\Windows\\\\Fonts\\\\NanumSquareRoundL.ttf',\n",
       " 'C:\\\\Windows\\\\Fonts\\\\WINGDNG2.TTF',\n",
       " 'C:\\\\Windows\\\\Fonts\\\\REFSPCL.TTF',\n",
       " 'C:\\\\Windows\\\\Fonts\\\\NanumBarunGothic-YetHangul.ttf',\n",
       " 'C:\\\\WINDOWS\\\\Fonts\\\\calibrib.ttf',\n",
       " 'C:\\\\WINDOWS\\\\Fonts\\\\LHANDW.TTF',\n",
       " 'C:\\\\WINDOWS\\\\Fonts\\\\msjh.ttc',\n",
       " 'C:\\\\WINDOWS\\\\Fonts\\\\couri.ttf',\n",
       " 'C:\\\\Windows\\\\Fonts\\\\H2PORM.TTF',\n",
       " 'C:\\\\Windows\\\\Fonts\\\\NanumGothicBold.ttf',\n",
       " 'C:\\\\Windows\\\\Fonts\\\\BIZ-UDGothicR.ttc',\n",
       " 'C:\\\\Users\\\\ddora\\\\AppData\\\\Local\\\\Microsoft\\\\Windows\\\\Fonts\\\\210 Chungchunsidae R.ttf',\n",
       " 'C:\\\\WINDOWS\\\\Fonts\\\\NirmalaB.ttf',\n",
       " 'C:\\\\WINDOWS\\\\Fonts\\\\palab.ttf',\n",
       " 'C:\\\\WINDOWS\\\\Fonts\\\\malgun.ttf',\n",
       " 'C:\\\\WINDOWS\\\\Fonts\\\\ntailu.ttf',\n",
       " 'C:\\\\Windows\\\\Fonts\\\\timesbi.ttf',\n",
       " 'C:\\\\Users\\\\ddora\\\\AppData\\\\Local\\\\Microsoft\\\\Windows\\\\Fonts\\\\NanumGothic.ttf',\n",
       " 'C:\\\\WINDOWS\\\\Fonts\\\\symbol.ttf',\n",
       " 'C:\\\\WINDOWS\\\\Fonts\\\\HANBatangB.ttf',\n",
       " 'C:\\\\Windows\\\\Fonts\\\\Candaral.ttf',\n",
       " 'C:\\\\Windows\\\\Fonts\\\\NanumSquareRoundR.ttf',\n",
       " 'C:\\\\WINDOWS\\\\Fonts\\\\PAPYRUS.TTF',\n",
       " 'C:\\\\WINDOWS\\\\Fonts\\\\HanSantteutDotum-Regular.ttf',\n",
       " 'C:\\\\Windows\\\\Fonts\\\\MSUIGHUB.TTF',\n",
       " 'C:\\\\WINDOWS\\\\Fonts\\\\NanumSquareEB.ttf',\n",
       " 'C:\\\\WINDOWS\\\\Fonts\\\\phagspab.ttf',\n",
       " 'C:\\\\Windows\\\\Fonts\\\\seguisym.ttf',\n",
       " 'C:\\\\Windows\\\\Fonts\\\\Gabriola.ttf',\n",
       " 'C:\\\\Windows\\\\Fonts\\\\NanumGothicCoding.ttf',\n",
       " 'C:\\\\WINDOWS\\\\Fonts\\\\BKANT.TTF',\n",
       " 'C:\\\\WINDOWS\\\\Fonts\\\\verdanai.ttf',\n",
       " 'C:\\\\WINDOWS\\\\Fonts\\\\taile.ttf',\n",
       " 'C:\\\\WINDOWS\\\\Fonts\\\\HMFMMUEX.TTC',\n",
       " 'C:\\\\Windows\\\\Fonts\\\\BKANT.TTF',\n",
       " 'C:\\\\WINDOWS\\\\Fonts\\\\YuGothL.ttc',\n",
       " 'C:\\\\WINDOWS\\\\Fonts\\\\NanumBarunGothic.ttf',\n",
       " 'C:\\\\WINDOWS\\\\Fonts\\\\palai.ttf',\n",
       " 'C:\\\\Windows\\\\Fonts\\\\verdanai.ttf',\n",
       " 'C:\\\\WINDOWS\\\\Fonts\\\\ARIALUNI.TTF',\n",
       " 'C:\\\\Windows\\\\Fonts\\\\BOOKOSB.TTF',\n",
       " 'C:\\\\WINDOWS\\\\Fonts\\\\impact.ttf',\n",
       " 'C:\\\\Windows\\\\Fonts\\\\NanumGothicCodingBold.ttf',\n",
       " 'C:\\\\WINDOWS\\\\Fonts\\\\cambria.ttc',\n",
       " 'C:\\\\Windows\\\\Fonts\\\\seguisb.ttf',\n",
       " 'C:\\\\Windows\\\\Fonts\\\\couri.ttf',\n",
       " 'C:\\\\Windows\\\\Fonts\\\\NanumSquare.ttf',\n",
       " 'C:\\\\Windows\\\\Fonts\\\\mmrtext.ttf',\n",
       " 'C:\\\\WINDOWS\\\\Fonts\\\\seguisym.ttf',\n",
       " 'C:\\\\Users\\\\ddora\\\\AppData\\\\Local\\\\Microsoft\\\\Windows\\\\Fonts\\\\NanumSquare.ttf',\n",
       " 'C:\\\\Windows\\\\Fonts\\\\HanSantteutDotum-Bold.ttf',\n",
       " 'C:\\\\WINDOWS\\\\Fonts\\\\arial.ttf',\n",
       " 'C:\\\\WINDOWS\\\\Fonts\\\\segoeui.ttf',\n",
       " 'C:\\\\Windows\\\\Fonts\\\\H2GTRE.TTF',\n",
       " 'C:\\\\Windows\\\\Fonts\\\\NanumGothic.ttf',\n",
       " 'C:\\\\Users\\\\ddora\\\\AppData\\\\Local\\\\Microsoft\\\\Windows\\\\Fonts\\\\NanumBarunGothicLight.ttf',\n",
       " 'C:\\\\Windows\\\\Fonts\\\\palai.ttf',\n",
       " 'C:\\\\Windows\\\\Fonts\\\\LG PC.ttf',\n",
       " 'C:\\\\WINDOWS\\\\Fonts\\\\pala.ttf',\n",
       " 'C:\\\\Windows\\\\Fonts\\\\arialbi.ttf',\n",
       " 'C:\\\\Windows\\\\Fonts\\\\monbaiti.ttf',\n",
       " 'C:\\\\Windows\\\\Fonts\\\\NanumSquareEB.ttf',\n",
       " 'C:\\\\Windows\\\\Fonts\\\\Candaraz.ttf',\n",
       " 'C:\\\\WINDOWS\\\\Fonts\\\\NanumBrush.ttf',\n",
       " 'C:\\\\WINDOWS\\\\Fonts\\\\NanumSquareRoundB.ttf',\n",
       " 'C:\\\\Windows\\\\Fonts\\\\segoesc.ttf',\n",
       " 'C:\\\\WINDOWS\\\\Fonts\\\\framdit.ttf',\n",
       " 'C:\\\\WINDOWS\\\\Fonts\\\\BIZ-UDGothicR.ttc',\n",
       " 'C:\\\\Windows\\\\Fonts\\\\NanumBrush.ttf',\n",
       " 'C:\\\\WINDOWS\\\\Fonts\\\\SitkaB.ttc',\n",
       " 'C:\\\\WINDOWS\\\\Fonts\\\\LEELAWAD.TTF',\n",
       " 'C:\\\\WINDOWS\\\\Fonts\\\\segoepr.ttf',\n",
       " 'C:\\\\WINDOWS\\\\Fonts\\\\HMKMRHD.TTF',\n",
       " 'C:\\\\WINDOWS\\\\Fonts\\\\NanumMyeongjoBold.ttf',\n",
       " 'C:\\\\Windows\\\\Fonts\\\\LEELAWAD.TTF',\n",
       " 'C:\\\\Windows\\\\Fonts\\\\constanb.ttf',\n",
       " 'C:\\\\Windows\\\\Fonts\\\\BOOKOSI.TTF',\n",
       " 'C:\\\\Users\\\\ddora\\\\AppData\\\\Local\\\\Microsoft\\\\Windows\\\\Fonts\\\\NanumSquareR.ttf',\n",
       " 'C:\\\\WINDOWS\\\\Fonts\\\\NanumBarunGothic-YetHangul.ttf',\n",
       " 'C:\\\\WINDOWS\\\\Fonts\\\\comic.ttf',\n",
       " 'C:\\\\Windows\\\\Fonts\\\\JUMJA.TTF',\n",
       " 'C:\\\\Windows\\\\Fonts\\\\meiryo.ttc',\n",
       " 'C:\\\\Windows\\\\Fonts\\\\HMFMMUEX.TTC',\n",
       " 'C:\\\\WINDOWS\\\\Fonts\\\\cambriab.ttf',\n",
       " 'C:\\\\Windows\\\\Fonts\\\\taile.ttf',\n",
       " 'C:\\\\WINDOWS\\\\Fonts\\\\ANTQUABI.TTF',\n",
       " 'C:\\\\WINDOWS\\\\Fonts\\\\LG PC.ttf',\n",
       " 'C:\\\\Windows\\\\Fonts\\\\corbelz.ttf',\n",
       " 'C:\\\\WINDOWS\\\\Fonts\\\\KHNPHDBold.ttf',\n",
       " 'C:\\\\WINDOWS\\\\Fonts\\\\NanumGothicBold.ttf',\n",
       " 'C:\\\\Windows\\\\Fonts\\\\comic.ttf',\n",
       " 'C:\\\\Windows\\\\Fonts\\\\Nirmala.ttf',\n",
       " 'C:\\\\WINDOWS\\\\Fonts\\\\seguihis.ttf',\n",
       " 'C:\\\\WINDOWS\\\\Fonts\\\\comicz.ttf',\n",
       " 'C:\\\\WINDOWS\\\\Fonts\\\\NanumGothicLight.ttf',\n",
       " 'C:\\\\WINDOWS\\\\Fonts\\\\NanumSquareL.ttf',\n",
       " 'C:\\\\Windows\\\\Fonts\\\\simsun.ttc',\n",
       " 'C:\\\\Windows\\\\Fonts\\\\segoepr.ttf',\n",
       " 'C:\\\\Windows\\\\Fonts\\\\ariali.ttf',\n",
       " 'C:\\\\WINDOWS\\\\Fonts\\\\NanumPen.ttf',\n",
       " 'C:\\\\WINDOWS\\\\Fonts\\\\NGULIM.TTF',\n",
       " 'C:\\\\Windows\\\\Fonts\\\\ARIALNI.TTF',\n",
       " 'C:\\\\Windows\\\\Fonts\\\\verdanaz.ttf',\n",
       " 'C:\\\\Windows\\\\Fonts\\\\segoeprb.ttf',\n",
       " 'C:\\\\WINDOWS\\\\Fonts\\\\NanumMyeongjoEcoR.ttf',\n",
       " 'C:\\\\WINDOWS\\\\Fonts\\\\UDDigiKyokashoN-B.ttc',\n",
       " 'C:\\\\WINDOWS\\\\Fonts\\\\constanz.ttf',\n",
       " 'C:\\\\WINDOWS\\\\Fonts\\\\ARIALNBI.TTF',\n",
       " 'C:\\\\WINDOWS\\\\Fonts\\\\webdings.ttf',\n",
       " 'C:\\\\Windows\\\\Fonts\\\\constanz.ttf',\n",
       " 'C:\\\\Windows\\\\Fonts\\\\georgiai.ttf',\n",
       " 'C:\\\\Windows\\\\Fonts\\\\tahoma.ttf',\n",
       " 'C:\\\\Users\\\\ddora\\\\AppData\\\\Local\\\\Microsoft\\\\Windows\\\\Fonts\\\\NanumPen.ttf',\n",
       " 'C:\\\\Users\\\\ddora\\\\AppData\\\\Local\\\\Microsoft\\\\Windows\\\\Fonts\\\\NanumSquareRoundEB.ttf',\n",
       " 'C:\\\\WINDOWS\\\\Fonts\\\\calibrili.ttf',\n",
       " 'C:\\\\Users\\\\ddora\\\\AppData\\\\Local\\\\Microsoft\\\\Windows\\\\Fonts\\\\NanumMyeongjoEcoR.ttf',\n",
       " 'C:\\\\Windows\\\\Fonts\\\\UDDigiKyokashoN-R.ttc',\n",
       " 'C:\\\\Windows\\\\Fonts\\\\himalaya.ttf',\n",
       " 'C:\\\\WINDOWS\\\\Fonts\\\\NanumGothicCoding.ttf',\n",
       " 'C:\\\\WINDOWS\\\\Fonts\\\\constan.ttf',\n",
       " 'C:\\\\Windows\\\\Fonts\\\\calibri.ttf',\n",
       " 'C:\\\\Windows\\\\Fonts\\\\trebucbi.ttf',\n",
       " 'C:\\\\WINDOWS\\\\Fonts\\\\CENTURY.TTF',\n",
       " 'C:\\\\WINDOWS\\\\Fonts\\\\YuGothB.ttc',\n",
       " 'C:\\\\WINDOWS\\\\Fonts\\\\MSUIGHUB.TTF',\n",
       " 'C:\\\\Windows\\\\Fonts\\\\FRSCRIPT.TTF',\n",
       " 'C:\\\\Windows\\\\Fonts\\\\calibril.ttf',\n",
       " 'C:\\\\WINDOWS\\\\Fonts\\\\WINGDNG2.TTF',\n",
       " 'C:\\\\Windows\\\\Fonts\\\\Candarab.ttf',\n",
       " 'C:\\\\Windows\\\\Fonts\\\\corbeli.ttf',\n",
       " 'C:\\\\WINDOWS\\\\Fonts\\\\ARIALNI.TTF',\n",
       " 'C:\\\\WINDOWS\\\\Fonts\\\\trebucbd.ttf',\n",
       " 'C:\\\\WINDOWS\\\\Fonts\\\\BOOKOSBI.TTF',\n",
       " 'C:\\\\WINDOWS\\\\Fonts\\\\JUMJA.TTF',\n",
       " 'C:\\\\WINDOWS\\\\Fonts\\\\UDDigiKyokashoN-R.ttc',\n",
       " 'C:\\\\Windows\\\\Fonts\\\\YuGothM.ttc',\n",
       " 'C:\\\\WINDOWS\\\\Fonts\\\\phagspa.ttf',\n",
       " 'C:\\\\WINDOWS\\\\Fonts\\\\mmrtextb.ttf',\n",
       " 'C:\\\\Users\\\\ddora\\\\AppData\\\\Local\\\\Microsoft\\\\Windows\\\\Fonts\\\\NanumSquareRoundB.ttf',\n",
       " 'C:\\\\WINDOWS\\\\Fonts\\\\FREESCPT.TTF',\n",
       " 'C:\\\\WINDOWS\\\\Fonts\\\\GOTHIC.TTF',\n",
       " 'C:\\\\WINDOWS\\\\Fonts\\\\ntailub.ttf',\n",
       " 'C:\\\\Windows\\\\Fonts\\\\seguili.ttf',\n",
       " 'C:\\\\WINDOWS\\\\Fonts\\\\courbd.ttf',\n",
       " 'C:\\\\Windows\\\\Fonts\\\\NanumSquareL.ttf',\n",
       " 'C:\\\\Windows\\\\Fonts\\\\HANBatangExtBB.ttf',\n",
       " 'C:\\\\Windows\\\\Fonts\\\\trebucbd.ttf',\n",
       " 'C:\\\\Windows\\\\Fonts\\\\NanumSquareB.ttf',\n",
       " 'C:\\\\WINDOWS\\\\Fonts\\\\NanumBarunGothicLight.ttf',\n",
       " 'C:\\\\Windows\\\\Fonts\\\\msjh.ttc',\n",
       " 'C:\\\\Windows\\\\Fonts\\\\malgun.ttf',\n",
       " 'C:\\\\WINDOWS\\\\Fonts\\\\BOOKOSB.TTF',\n",
       " 'C:\\\\WINDOWS\\\\Fonts\\\\MTEXTRA.TTF',\n",
       " 'C:\\\\Windows\\\\Fonts\\\\KHNPHDBold.ttf',\n",
       " 'C:\\\\Users\\\\ddora\\\\AppData\\\\Local\\\\Microsoft\\\\Windows\\\\Fonts\\\\210 맨발의청춘L.ttf',\n",
       " 'C:\\\\WINDOWS\\\\Fonts\\\\BIZ-UDMinchoM.ttc',\n",
       " 'C:\\\\Windows\\\\Fonts\\\\BIZ-UDGothicB.ttc',\n",
       " 'C:\\\\Users\\\\ddora\\\\AppData\\\\Local\\\\Microsoft\\\\Windows\\\\Fonts\\\\a파도소리.ttf',\n",
       " 'C:\\\\Users\\\\ddora\\\\AppData\\\\Local\\\\Microsoft\\\\Windows\\\\Fonts\\\\NanumGothicEcoR.ttf',\n",
       " 'C:\\\\WINDOWS\\\\Fonts\\\\trebucit.ttf',\n",
       " 'C:\\\\WINDOWS\\\\Fonts\\\\ANTQUAB.TTF',\n",
       " 'C:\\\\WINDOWS\\\\Fonts\\\\Gabriola.ttf',\n",
       " 'C:\\\\Windows\\\\Fonts\\\\NanumSquareR.ttf',\n",
       " 'C:\\\\Windows\\\\Fonts\\\\seguisli.ttf',\n",
       " 'C:\\\\WINDOWS\\\\Fonts\\\\mingliub.ttc',\n",
       " 'C:\\\\Windows\\\\Fonts\\\\corbel.ttf',\n",
       " 'C:\\\\WINDOWS\\\\Fonts\\\\courbi.ttf',\n",
       " 'C:\\\\WINDOWS\\\\Fonts\\\\ebrimabd.ttf',\n",
       " 'C:\\\\Windows\\\\Fonts\\\\courbi.ttf',\n",
       " 'C:\\\\Windows\\\\Fonts\\\\segoeuil.ttf',\n",
       " 'C:\\\\WINDOWS\\\\Fonts\\\\taileb.ttf',\n",
       " 'C:\\\\WINDOWS\\\\Fonts\\\\georgiaz.ttf',\n",
       " 'C:\\\\WINDOWS\\\\Fonts\\\\ANTQUAI.TTF',\n",
       " 'C:\\\\WINDOWS\\\\Fonts\\\\micross.ttf',\n",
       " 'C:\\\\Windows\\\\Fonts\\\\NanumMyeongjoBold.ttf',\n",
       " 'C:\\\\Windows\\\\Fonts\\\\framdit.ttf',\n",
       " 'C:\\\\Windows\\\\Fonts\\\\HANWing2.ttf',\n",
       " 'C:\\\\WINDOWS\\\\Fonts\\\\NanumSquareR.ttf',\n",
       " 'C:\\\\WINDOWS\\\\Fonts\\\\segoeuii.ttf',\n",
       " 'C:\\\\Windows\\\\Fonts\\\\BSSYM7.TTF',\n",
       " 'C:\\\\Windows\\\\Fonts\\\\calibrili.ttf',\n",
       " 'C:\\\\Windows\\\\Fonts\\\\NanumSquareRoundB.ttf',\n",
       " 'C:\\\\WINDOWS\\\\Fonts\\\\msmincho.ttc',\n",
       " 'C:\\\\WINDOWS\\\\Fonts\\\\SitkaI.ttc',\n",
       " 'C:\\\\WINDOWS\\\\Fonts\\\\FRSCRIPT.TTF',\n",
       " 'C:\\\\Windows\\\\Fonts\\\\msyi.ttf',\n",
       " 'C:\\\\Windows\\\\Fonts\\\\MTEXTRA.TTF',\n",
       " 'C:\\\\Windows\\\\Fonts\\\\mvboli.ttf',\n",
       " 'C:\\\\WINDOWS\\\\Fonts\\\\YuGothM.ttc',\n",
       " 'C:\\\\Windows\\\\Fonts\\\\cambriai.ttf',\n",
       " 'C:\\\\WINDOWS\\\\Fonts\\\\gadugi.ttf',\n",
       " 'C:\\\\WINDOWS\\\\Fonts\\\\NanumBarunGothicUltraLight.ttf',\n",
       " 'C:\\\\WINDOWS\\\\Fonts\\\\seguibl.ttf',\n",
       " 'C:\\\\Windows\\\\Fonts\\\\cambriaz.ttf',\n",
       " 'C:\\\\Windows\\\\Fonts\\\\ebrima.ttf',\n",
       " 'C:\\\\Windows\\\\Fonts\\\\segoeuiz.ttf',\n",
       " 'C:\\\\WINDOWS\\\\Fonts\\\\meiryob.ttc',\n",
       " 'C:\\\\Windows\\\\Fonts\\\\sylfaen.ttf',\n",
       " 'C:\\\\WINDOWS\\\\Fonts\\\\ebrima.ttf',\n",
       " 'C:\\\\Users\\\\ddora\\\\AppData\\\\Local\\\\Microsoft\\\\Windows\\\\Fonts\\\\윤고딕350.ttf',\n",
       " 'C:\\\\Windows\\\\Fonts\\\\TEMPSITC.TTF',\n",
       " 'C:\\\\Windows\\\\Fonts\\\\verdanab.ttf',\n",
       " 'C:\\\\Windows\\\\Fonts\\\\lucon.ttf',\n",
       " 'C:\\\\Users\\\\ddora\\\\AppData\\\\Local\\\\Microsoft\\\\Windows\\\\Fonts\\\\210 맨발의청춘B.ttf',\n",
       " 'C:\\\\WINDOWS\\\\Fonts\\\\NanumBarunpenB.ttf',\n",
       " 'C:\\\\Windows\\\\Fonts\\\\HANBatangB.ttf',\n",
       " 'C:\\\\Users\\\\ddora\\\\AppData\\\\Local\\\\Microsoft\\\\Windows\\\\Fonts\\\\NanumMyeongjoExtraBold.ttf',\n",
       " 'C:\\\\WINDOWS\\\\Fonts\\\\HANBatangExt.ttf',\n",
       " 'C:\\\\Windows\\\\Fonts\\\\YuGothB.ttc',\n",
       " 'C:\\\\Windows\\\\Fonts\\\\NanumMyeongjoEcoR.ttf',\n",
       " 'C:\\\\Windows\\\\Fonts\\\\corbell.ttf',\n",
       " 'C:\\\\Users\\\\ddora\\\\AppData\\\\Local\\\\Microsoft\\\\Windows\\\\Fonts\\\\NanumSquare_0.ttf',\n",
       " 'C:\\\\Windows\\\\Fonts\\\\WINGDNG3.TTF',\n",
       " 'C:\\\\Users\\\\ddora\\\\AppData\\\\Local\\\\Microsoft\\\\Windows\\\\Fonts\\\\NanumMyeongjoBold.ttf',\n",
       " 'C:\\\\WINDOWS\\\\Fonts\\\\framd.ttf',\n",
       " 'C:\\\\WINDOWS\\\\Fonts\\\\HANBatang.ttf',\n",
       " 'C:\\\\WINDOWS\\\\Fonts\\\\seguili.ttf',\n",
       " 'C:\\\\WINDOWS\\\\Fonts\\\\Candarab.ttf',\n",
       " 'C:\\\\Windows\\\\Fonts\\\\HMFMOLD.TTF',\n",
       " 'C:\\\\WINDOWS\\\\Fonts\\\\mvboli.ttf',\n",
       " 'C:\\\\Windows\\\\Fonts\\\\yumin.ttf',\n",
       " 'C:\\\\Windows\\\\Fonts\\\\msyhbd.ttc',\n",
       " 'C:\\\\WINDOWS\\\\Fonts\\\\consolaz.ttf',\n",
       " 'C:\\\\WINDOWS\\\\Fonts\\\\ARIALNB.TTF',\n",
       " 'C:\\\\WINDOWS\\\\Fonts\\\\HANWing2.ttf',\n",
       " 'C:\\\\WINDOWS\\\\Fonts\\\\comici.ttf',\n",
       " 'C:\\\\WINDOWS\\\\Fonts\\\\marlett.ttf',\n",
       " 'C:\\\\Windows\\\\Fonts\\\\NanumSquare_0.ttf',\n",
       " 'C:\\\\WINDOWS\\\\Fonts\\\\calibril.ttf',\n",
       " 'C:\\\\Windows\\\\Fonts\\\\consolai.ttf',\n",
       " 'C:\\\\Windows\\\\Fonts\\\\NanumMyeongjo-YetHangul.ttf',\n",
       " 'C:\\\\WINDOWS\\\\Fonts\\\\constani.ttf',\n",
       " 'C:\\\\Windows\\\\Fonts\\\\ARIALNBI.TTF',\n",
       " 'C:\\\\WINDOWS\\\\Fonts\\\\verdanab.ttf',\n",
       " 'C:\\\\Windows\\\\Fonts\\\\verdana.ttf',\n",
       " 'C:\\\\Windows\\\\Fonts\\\\comici.ttf',\n",
       " 'C:\\\\WINDOWS\\\\Fonts\\\\GOTHICBI.TTF',\n",
       " 'C:\\\\WINDOWS\\\\Fonts\\\\MTCORSVA.TTF',\n",
       " 'C:\\\\WINDOWS\\\\Fonts\\\\timesi.ttf',\n",
       " 'C:\\\\Users\\\\ddora\\\\AppData\\\\Local\\\\Microsoft\\\\Windows\\\\Fonts\\\\NanumSquareRoundR.ttf',\n",
       " 'C:\\\\Windows\\\\Fonts\\\\NanumBarunGothicBold.ttf',\n",
       " 'C:\\\\WINDOWS\\\\Fonts\\\\MSUIGHUR.TTF',\n",
       " 'C:\\\\Windows\\\\Fonts\\\\NanumBarunGothicUltraLight.ttf',\n",
       " 'C:\\\\Windows\\\\Fonts\\\\YuGothL.ttc',\n",
       " 'C:\\\\WINDOWS\\\\Fonts\\\\Sitka.ttc',\n",
       " 'C:\\\\WINDOWS\\\\Fonts\\\\LEELAWDB.TTF',\n",
       " 'C:\\\\WINDOWS\\\\Fonts\\\\Nirmala.ttf',\n",
       " 'C:\\\\Windows\\\\Fonts\\\\javatext.ttf',\n",
       " 'C:\\\\Windows\\\\Fonts\\\\ntailub.ttf',\n",
       " 'C:\\\\Windows\\\\Fonts\\\\BIZ-UDMinchoM.ttc',\n",
       " 'C:\\\\Windows\\\\Fonts\\\\comicbd.ttf',\n",
       " 'C:\\\\WINDOWS\\\\Fonts\\\\H2PORL.TTF',\n",
       " 'C:\\\\WINDOWS\\\\Fonts\\\\GOTHICI.TTF',\n",
       " 'C:\\\\Windows\\\\Fonts\\\\ntailu.ttf',\n",
       " 'C:\\\\Windows\\\\Fonts\\\\Hancom Gothic Bold.ttf',\n",
       " 'C:\\\\Windows\\\\Fonts\\\\ITCKRIST.TTF',\n",
       " 'C:\\\\Windows\\\\Fonts\\\\calibriz.ttf',\n",
       " 'C:\\\\Windows\\\\Fonts\\\\NanumGothicEcoR.ttf',\n",
       " 'C:\\\\WINDOWS\\\\Fonts\\\\NanumBarunGothicBold.ttf',\n",
       " 'C:\\\\Windows\\\\Fonts\\\\NanumMyeongjoExtraBold.ttf',\n",
       " 'C:\\\\Windows\\\\Fonts\\\\msjhl.ttc',\n",
       " 'C:\\\\WINDOWS\\\\Fonts\\\\corbel.ttf',\n",
       " 'C:\\\\Windows\\\\Fonts\\\\H2PORL.TTF',\n",
       " 'C:\\\\WINDOWS\\\\Fonts\\\\Candarai.ttf',\n",
       " 'C:\\\\WINDOWS\\\\Fonts\\\\times.ttf',\n",
       " 'C:\\\\WINDOWS\\\\Fonts\\\\NirmalaS.ttf',\n",
       " 'C:\\\\WINDOWS\\\\Fonts\\\\HMKMAMI.TTF',\n",
       " 'C:\\\\Windows\\\\Fonts\\\\pala.ttf',\n",
       " 'C:\\\\Windows\\\\Fonts\\\\HANDotumExt.ttf',\n",
       " 'C:\\\\WINDOWS\\\\Fonts\\\\consolai.ttf',\n",
       " 'C:\\\\WINDOWS\\\\Fonts\\\\arialbi.ttf',\n",
       " 'C:\\\\WINDOWS\\\\Fonts\\\\PRISTINA.TTF',\n",
       " 'C:\\\\Windows\\\\Fonts\\\\NirmalaS.ttf',\n",
       " 'C:\\\\Windows\\\\Fonts\\\\Inkfree.ttf',\n",
       " 'C:\\\\Users\\\\ddora\\\\AppData\\\\Local\\\\Microsoft\\\\Windows\\\\Fonts\\\\NanumBarunGothicUltraLight.ttf',\n",
       " 'C:\\\\Users\\\\ddora\\\\AppData\\\\Local\\\\Microsoft\\\\Windows\\\\Fonts\\\\NanumGothicBold.ttf',\n",
       " 'C:\\\\Windows\\\\Fonts\\\\consolab.ttf',\n",
       " 'C:\\\\WINDOWS\\\\Fonts\\\\H2GTRE.TTF',\n",
       " 'C:\\\\Windows\\\\Fonts\\\\GARAIT.TTF',\n",
       " 'C:\\\\Windows\\\\Fonts\\\\KHNPHURegular.ttf',\n",
       " 'C:\\\\WINDOWS\\\\Fonts\\\\HMFMPYUN.TTF',\n",
       " 'C:\\\\Users\\\\ddora\\\\AppData\\\\Local\\\\Microsoft\\\\Windows\\\\Fonts\\\\NanumGothicCodingBold.ttf',\n",
       " 'C:\\\\Users\\\\ddora\\\\AppData\\\\Local\\\\Microsoft\\\\Windows\\\\Fonts\\\\윤고딕320.ttf',\n",
       " 'C:\\\\WINDOWS\\\\Fonts\\\\ARIALN.TTF',\n",
       " 'C:\\\\Windows\\\\Fonts\\\\ANTQUAI.TTF',\n",
       " 'C:\\\\Windows\\\\Fonts\\\\msyh.ttc',\n",
       " 'C:\\\\WINDOWS\\\\Fonts\\\\trebucbi.ttf',\n",
       " 'C:\\\\Windows\\\\Fonts\\\\CENTURY.TTF',\n",
       " 'C:\\\\WINDOWS\\\\Fonts\\\\Hancom Gothic Bold.ttf',\n",
       " 'C:\\\\WINDOWS\\\\Fonts\\\\seguisb.ttf',\n",
       " 'C:\\\\Users\\\\ddora\\\\AppData\\\\Local\\\\Microsoft\\\\Windows\\\\Fonts\\\\NanumMyeongjo.ttf',\n",
       " 'C:\\\\Windows\\\\Fonts\\\\framd.ttf',\n",
       " 'C:\\\\Users\\\\ddora\\\\AppData\\\\Local\\\\Microsoft\\\\Windows\\\\Fonts\\\\210 맨발의청춘R.ttf',\n",
       " 'C:\\\\WINDOWS\\\\Fonts\\\\H2MJSM.TTF',\n",
       " 'C:\\\\WINDOWS\\\\Fonts\\\\KHNPHURegular.ttf',\n",
       " 'C:\\\\Windows\\\\Fonts\\\\segoeuisl.ttf',\n",
       " 'C:\\\\Windows\\\\Fonts\\\\HYHWPEQ.TTF',\n",
       " 'C:\\\\Users\\\\ddora\\\\AppData\\\\Local\\\\Microsoft\\\\Windows\\\\Fonts\\\\NanumSquare_acR.ttf',\n",
       " 'C:\\\\Windows\\\\Fonts\\\\segoeui.ttf',\n",
       " 'C:\\\\WINDOWS\\\\Fonts\\\\Candaraz.ttf',\n",
       " 'C:\\\\Users\\\\ddora\\\\AppData\\\\Local\\\\Microsoft\\\\Windows\\\\Fonts\\\\NanumBarunpenB.ttf',\n",
       " 'C:\\\\Windows\\\\Fonts\\\\ebrimabd.ttf',\n",
       " 'C:\\\\WINDOWS\\\\Fonts\\\\georgiai.ttf',\n",
       " 'C:\\\\Windows\\\\Fonts\\\\segmdl2.ttf',\n",
       " 'C:\\\\Windows\\\\Fonts\\\\HANBatangExt.ttf',\n",
       " 'C:\\\\Windows\\\\Fonts\\\\seguiemj.ttf',\n",
       " 'C:\\\\WINDOWS\\\\Fonts\\\\YuGothR.ttc',\n",
       " 'C:\\\\WINDOWS\\\\Fonts\\\\ariblk.ttf',\n",
       " 'C:\\\\Windows\\\\Fonts\\\\MISTRAL.TTF',\n",
       " 'C:\\\\Windows\\\\Fonts\\\\H2MJSM.TTF',\n",
       " 'C:\\\\Windows\\\\Fonts\\\\MTCORSVA.TTF',\n",
       " 'C:\\\\Windows\\\\Fonts\\\\GARABD.TTF',\n",
       " 'C:\\\\WINDOWS\\\\Fonts\\\\BIZ-UDGothicB.ttc',\n",
       " 'C:\\\\WINDOWS\\\\Fonts\\\\H2GSRB.TTF',\n",
       " 'C:\\\\Windows\\\\Fonts\\\\NanumBarunpenB.ttf',\n",
       " 'C:\\\\Users\\\\ddora\\\\AppData\\\\Local\\\\Microsoft\\\\Windows\\\\Fonts\\\\한수원_한돋음_R.ttf',\n",
       " 'C:\\\\Users\\\\ddora\\\\AppData\\\\Local\\\\Microsoft\\\\Windows\\\\Fonts\\\\KHNPHUotfR.otf',\n",
       " 'C:\\\\Windows\\\\Fonts\\\\meiryob.ttc',\n",
       " 'C:\\\\Users\\\\ddora\\\\AppData\\\\Local\\\\Microsoft\\\\Windows\\\\Fonts\\\\NanumSquareL.ttf',\n",
       " 'C:\\\\WINDOWS\\\\Fonts\\\\msyhl.ttc',\n",
       " 'C:\\\\Windows\\\\Fonts\\\\GOTHICI.TTF',\n",
       " 'C:\\\\WINDOWS\\\\Fonts\\\\Candaral.ttf',\n",
       " 'C:\\\\WINDOWS\\\\Fonts\\\\segmdl2.ttf',\n",
       " 'C:\\\\WINDOWS\\\\Fonts\\\\NanumMyeongjo.ttf',\n",
       " 'C:\\\\WINDOWS\\\\Fonts\\\\corbelb.ttf',\n",
       " 'C:\\\\Windows\\\\Fonts\\\\H2MKPB.TTF',\n",
       " 'C:\\\\Windows\\\\Fonts\\\\SitkaZ.ttc',\n",
       " 'C:\\\\Windows\\\\Fonts\\\\phagspab.ttf',\n",
       " 'C:\\\\WINDOWS\\\\Fonts\\\\tahomabd.ttf',\n",
       " 'C:\\\\WINDOWS\\\\Fonts\\\\lucon.ttf',\n",
       " 'C:\\\\Windows\\\\Fonts\\\\HANDotumB.ttf',\n",
       " 'C:\\\\Users\\\\ddora\\\\AppData\\\\Local\\\\Microsoft\\\\Windows\\\\Fonts\\\\NanumGothicExtraBold.ttf',\n",
       " 'C:\\\\Windows\\\\Fonts\\\\times.ttf',\n",
       " 'C:\\\\Windows\\\\Fonts\\\\HANDotum.ttf',\n",
       " 'C:\\\\Windows\\\\Fonts\\\\taileb.ttf',\n",
       " 'C:\\\\WINDOWS\\\\Fonts\\\\yuminl.ttf',\n",
       " 'C:\\\\Users\\\\ddora\\\\AppData\\\\Local\\\\Microsoft\\\\Windows\\\\Fonts\\\\NanumBarunpenR.ttf',\n",
       " 'C:\\\\WINDOWS\\\\Fonts\\\\H2MJRE.TTF',\n",
       " 'C:\\\\Windows\\\\Fonts\\\\symbol.ttf',\n",
       " 'C:\\\\WINDOWS\\\\Fonts\\\\calibri.ttf',\n",
       " 'C:\\\\Windows\\\\Fonts\\\\cour.ttf',\n",
       " 'C:\\\\Windows\\\\Fonts\\\\ANTQUAB.TTF',\n",
       " 'C:\\\\WINDOWS\\\\Fonts\\\\monbaiti.ttf',\n",
       " 'C:\\\\WINDOWS\\\\Fonts\\\\KHNPHDRegular.ttf',\n",
       " 'C:\\\\Windows\\\\Fonts\\\\cambria.ttc',\n",
       " 'C:\\\\WINDOWS\\\\Fonts\\\\HancomEQN.ttf',\n",
       " 'C:\\\\WINDOWS\\\\Fonts\\\\segoeprb.ttf',\n",
       " 'C:\\\\WINDOWS\\\\Fonts\\\\segoeuisl.ttf',\n",
       " 'C:\\\\WINDOWS\\\\Fonts\\\\LeelaUIb.ttf',\n",
       " 'C:\\\\Windows\\\\Fonts\\\\yuminl.ttf',\n",
       " 'C:\\\\Windows\\\\Fonts\\\\NanumBarunGothicLight.ttf',\n",
       " 'C:\\\\Windows\\\\Fonts\\\\NanumBarunpenR.ttf',\n",
       " 'C:\\\\WINDOWS\\\\Fonts\\\\batang.ttc',\n",
       " 'C:\\\\WINDOWS\\\\Fonts\\\\H2GTRM.TTF',\n",
       " 'C:\\\\Windows\\\\Fonts\\\\yumindb.ttf',\n",
       " 'C:\\\\Windows\\\\Fonts\\\\SitkaI.ttc',\n",
       " 'C:\\\\Windows\\\\Fonts\\\\NanumBarunGothic.ttf',\n",
       " 'C:\\\\WINDOWS\\\\Fonts\\\\BSSYM7.TTF',\n",
       " 'C:\\\\Windows\\\\Fonts\\\\NGULIM.TTF',\n",
       " 'C:\\\\Windows\\\\Fonts\\\\trebucit.ttf',\n",
       " 'C:\\\\WINDOWS\\\\Fonts\\\\comicbd.ttf',\n",
       " 'C:\\\\Windows\\\\Fonts\\\\consolaz.ttf',\n",
       " 'C:\\\\Windows\\\\Fonts\\\\GOTHICBI.TTF',\n",
       " 'C:\\\\Windows\\\\Fonts\\\\palab.ttf',\n",
       " 'C:\\\\Windows\\\\Fonts\\\\LeelaUIb.ttf',\n",
       " 'C:\\\\WINDOWS\\\\Fonts\\\\HMKMMAG.TTF',\n",
       " 'C:\\\\WINDOWS\\\\Fonts\\\\NanumGothicCodingBold.ttf',\n",
       " 'C:\\\\WINDOWS\\\\Fonts\\\\NanumSquare_0.ttf',\n",
       " 'C:\\\\Windows\\\\Fonts\\\\corbelb.ttf',\n",
       " 'C:\\\\WINDOWS\\\\Fonts\\\\msyh.ttc',\n",
       " 'C:\\\\WINDOWS\\\\Fonts\\\\HYHWPEQ.TTF',\n",
       " 'C:\\\\WINDOWS\\\\Fonts\\\\seguisli.ttf',\n",
       " 'C:\\\\Windows\\\\Fonts\\\\HANBatang.ttf',\n",
       " 'C:\\\\Windows\\\\Fonts\\\\impact.ttf',\n",
       " 'C:\\\\WINDOWS\\\\Fonts\\\\msyi.ttf',\n",
       " 'C:\\\\Windows\\\\Fonts\\\\NanumSquare_acL.ttf',\n",
       " 'C:\\\\WINDOWS\\\\Fonts\\\\msyhbd.ttc',\n",
       " 'C:\\\\Windows\\\\Fonts\\\\gadugib.ttf',\n",
       " 'C:\\\\Windows\\\\Fonts\\\\NanumSquare_acR.ttf',\n",
       " 'C:\\\\WINDOWS\\\\Fonts\\\\cambriai.ttf',\n",
       " 'C:\\\\WINDOWS\\\\Fonts\\\\NanumGothicExtraBold.ttf',\n",
       " 'C:\\\\Windows\\\\Fonts\\\\gadugi.ttf',\n",
       " 'C:\\\\Windows\\\\Fonts\\\\phagspa.ttf',\n",
       " 'C:\\\\Windows\\\\Fonts\\\\seguihis.ttf',\n",
       " 'C:\\\\WINDOWS\\\\Fonts\\\\NanumGothicEcoR.ttf',\n",
       " 'C:\\\\WINDOWS\\\\Fonts\\\\timesbd.ttf',\n",
       " 'C:\\\\WINDOWS\\\\Fonts\\\\seguiemj.ttf',\n",
       " 'C:\\\\Windows\\\\Fonts\\\\mingliub.ttc',\n",
       " 'C:\\\\WINDOWS\\\\Fonts\\\\seguibli.ttf',\n",
       " 'C:\\\\Windows\\\\Fonts\\\\H2HDRM.TTF',\n",
       " 'C:\\\\Windows\\\\Fonts\\\\H2GSRB.TTF',\n",
       " 'C:\\\\Windows\\\\Fonts\\\\LeelawUI.ttf',\n",
       " 'C:\\\\Windows\\\\Fonts\\\\malgunbd.ttf',\n",
       " 'C:\\\\WINDOWS\\\\Fonts\\\\HanSantteutDotum-Bold.ttf',\n",
       " 'C:\\\\Users\\\\ddora\\\\AppData\\\\Local\\\\Microsoft\\\\Windows\\\\Fonts\\\\NanumSquareRoundL.ttf',\n",
       " 'C:\\\\WINDOWS\\\\Fonts\\\\BOOKOS.TTF',\n",
       " 'C:\\\\WINDOWS\\\\Fonts\\\\corbeli.ttf',\n",
       " 'C:\\\\WINDOWS\\\\Fonts\\\\verdana.ttf',\n",
       " 'C:\\\\WINDOWS\\\\Fonts\\\\corbell.ttf',\n",
       " 'C:\\\\Users\\\\ddora\\\\AppData\\\\Local\\\\Microsoft\\\\Windows\\\\Fonts\\\\NanumSquare_acL.ttf',\n",
       " 'C:\\\\Users\\\\ddora\\\\AppData\\\\Local\\\\Microsoft\\\\Windows\\\\Fonts\\\\NanumMyeongjo-YetHangul.ttf',\n",
       " 'C:\\\\Windows\\\\Fonts\\\\georgiab.ttf',\n",
       " 'C:\\\\WINDOWS\\\\Fonts\\\\NanumGothic.ttf',\n",
       " 'C:\\\\WINDOWS\\\\Fonts\\\\NanumMyeongjoExtraBold.ttf',\n",
       " 'C:\\\\Windows\\\\Fonts\\\\msmincho.ttc',\n",
       " 'C:\\\\Windows\\\\Fonts\\\\HANBatangExtB.ttf',\n",
       " 'C:\\\\Windows\\\\Fonts\\\\JUICE___.TTF',\n",
       " 'C:\\\\Windows\\\\Fonts\\\\ARIALN.TTF',\n",
       " 'C:\\\\WINDOWS\\\\Fonts\\\\JUICE___.TTF',\n",
       " 'C:\\\\WINDOWS\\\\Fonts\\\\holomdl2.ttf',\n",
       " 'C:\\\\WINDOWS\\\\Fonts\\\\cour.ttf',\n",
       " 'C:\\\\WINDOWS\\\\Fonts\\\\Hancom Gothic Regular.ttf',\n",
       " 'C:\\\\WINDOWS\\\\Fonts\\\\NanumSquare_acL.ttf',\n",
       " 'C:\\\\WINDOWS\\\\Fonts\\\\consolab.ttf',\n",
       " 'C:\\\\WINDOWS\\\\Fonts\\\\msjhl.ttc',\n",
       " 'C:\\\\Windows\\\\Fonts\\\\NanumSquareRoundEB.ttf',\n",
       " 'C:\\\\Windows\\\\Fonts\\\\H2MJRE.TTF',\n",
       " 'C:\\\\WINDOWS\\\\Fonts\\\\GARAIT.TTF',\n",
       " 'C:\\\\Windows\\\\Fonts\\\\timesi.ttf',\n",
       " 'C:\\\\WINDOWS\\\\Fonts\\\\HANBatangExtBB.ttf',\n",
       " 'C:\\\\WINDOWS\\\\Fonts\\\\calibriz.ttf',\n",
       " 'C:\\\\Windows\\\\Fonts\\\\HancomEQN.ttf',\n",
       " 'C:\\\\Windows\\\\Fonts\\\\msgothic.ttc',\n",
       " 'C:\\\\WINDOWS\\\\Fonts\\\\NanumSquareRoundL.ttf',\n",
       " 'C:\\\\Windows\\\\Fonts\\\\webdings.ttf',\n",
       " 'C:\\\\Windows\\\\Fonts\\\\GARA.TTF',\n",
       " 'C:\\\\Windows\\\\Fonts\\\\mmrtextb.ttf',\n",
       " 'C:\\\\Windows\\\\Fonts\\\\georgia.ttf',\n",
       " 'C:\\\\WINDOWS\\\\Fonts\\\\corbelli.ttf',\n",
       " 'C:\\\\Windows\\\\Fonts\\\\GOTHIC.TTF',\n",
       " 'C:\\\\Windows\\\\Fonts\\\\Sitka.ttc',\n",
       " 'C:\\\\WINDOWS\\\\Fonts\\\\HANDotumExt.ttf',\n",
       " 'C:\\\\Windows\\\\Fonts\\\\segoeuib.ttf',\n",
       " 'C:\\\\Windows\\\\Fonts\\\\consola.ttf',\n",
       " 'C:\\\\Windows\\\\Fonts\\\\NirmalaB.ttf',\n",
       " 'C:\\\\Windows\\\\Fonts\\\\HanSantteutDotum-Regular.ttf',\n",
       " 'C:\\\\Windows\\\\Fonts\\\\BOOKOSBI.TTF',\n",
       " 'C:\\\\Windows\\\\Fonts\\\\palabi.ttf',\n",
       " 'C:\\\\Windows\\\\Fonts\\\\bahnschrift.ttf',\n",
       " 'C:\\\\WINDOWS\\\\Fonts\\\\H2SA1M.TTF',\n",
       " 'C:\\\\Windows\\\\Fonts\\\\LeelUIsl.ttf',\n",
       " 'C:\\\\WINDOWS\\\\Fonts\\\\TEMPSITC.TTF',\n",
       " 'C:\\\\Users\\\\ddora\\\\AppData\\\\Local\\\\Microsoft\\\\Windows\\\\Fonts\\\\NanumGothicCoding.ttf',\n",
       " 'C:\\\\Windows\\\\Fonts\\\\PRISTINA.TTF',\n",
       " 'C:\\\\WINDOWS\\\\Fonts\\\\segoesc.ttf',\n",
       " 'C:\\\\Windows\\\\Fonts\\\\calibrib.ttf',\n",
       " 'C:\\\\WINDOWS\\\\Fonts\\\\HANDotumB.ttf',\n",
       " 'C:\\\\Windows\\\\Fonts\\\\arialbd.ttf',\n",
       " 'C:\\\\Windows\\\\Fonts\\\\constan.ttf',\n",
       " 'C:\\\\Users\\\\ddora\\\\AppData\\\\Local\\\\Microsoft\\\\Windows\\\\Fonts\\\\KHNPHDotfB.otf',\n",
       " 'C:\\\\Windows\\\\Fonts\\\\holomdl2.ttf',\n",
       " 'C:\\\\Windows\\\\Fonts\\\\ariblk.ttf',\n",
       " 'C:\\\\WINDOWS\\\\Fonts\\\\NanumSquareRoundR.ttf',\n",
       " 'C:\\\\Windows\\\\Fonts\\\\REFSAN.TTF',\n",
       " 'C:\\\\WINDOWS\\\\Fonts\\\\H2PORM.TTF',\n",
       " 'C:\\\\Windows\\\\Fonts\\\\msyhl.ttc',\n",
       " 'C:\\\\WINDOWS\\\\Fonts\\\\palabi.ttf',\n",
       " 'C:\\\\WINDOWS\\\\Fonts\\\\verdanaz.ttf',\n",
       " 'C:\\\\Windows\\\\Fonts\\\\YuGothR.ttc',\n",
       " 'C:\\\\WINDOWS\\\\Fonts\\\\timesbi.ttf',\n",
       " 'C:\\\\WINDOWS\\\\Fonts\\\\yumin.ttf',\n",
       " 'C:\\\\WINDOWS\\\\Fonts\\\\msjhbd.ttc',\n",
       " 'C:\\\\WINDOWS\\\\Fonts\\\\H2HDRM.TTF',\n",
       " 'C:\\\\Users\\\\ddora\\\\AppData\\\\Local\\\\Microsoft\\\\Windows\\\\Fonts\\\\NanumSquareEB.ttf',\n",
       " 'C:\\\\WINDOWS\\\\Fonts\\\\trebuc.ttf',\n",
       " 'C:\\\\WINDOWS\\\\Fonts\\\\LeelUIsl.ttf',\n",
       " 'C:\\\\WINDOWS\\\\Fonts\\\\meiryo.ttc',\n",
       " 'C:\\\\Windows\\\\Fonts\\\\Hancom Gothic Regular.ttf',\n",
       " 'C:\\\\WINDOWS\\\\Fonts\\\\bahnschrift.ttf',\n",
       " 'C:\\\\Windows\\\\Fonts\\\\micross.ttf',\n",
       " 'C:\\\\WINDOWS\\\\Fonts\\\\segoeuib.ttf',\n",
       " 'C:\\\\Windows\\\\Fonts\\\\H2SA1M.TTF',\n",
       " 'C:\\\\Windows\\\\Fonts\\\\comicz.ttf',\n",
       " 'C:\\\\WINDOWS\\\\Fonts\\\\Candara.ttf',\n",
       " 'C:\\\\WINDOWS\\\\Fonts\\\\seguisbi.ttf',\n",
       " 'C:\\\\Windows\\\\Fonts\\\\seguibl.ttf',\n",
       " 'C:\\\\Users\\\\ddora\\\\AppData\\\\Local\\\\Microsoft\\\\Windows\\\\Fonts\\\\한수원_한돋음.ttf',\n",
       " 'C:\\\\Users\\\\ddora\\\\AppData\\\\Local\\\\Microsoft\\\\Windows\\\\Fonts\\\\NanumBarunGothic.ttf',\n",
       " 'C:\\\\Windows\\\\Fonts\\\\simsunb.ttf',\n",
       " 'C:\\\\Windows\\\\Fonts\\\\BRADHITC.TTF',\n",
       " 'C:\\\\Users\\\\ddora\\\\AppData\\\\Local\\\\Microsoft\\\\Windows\\\\Fonts\\\\NanumBarunGothic-YetHangul.ttf',\n",
       " 'C:\\\\Windows\\\\Fonts\\\\Candarai.ttf',\n",
       " 'C:\\\\WINDOWS\\\\Fonts\\\\WINGDNG3.TTF',\n",
       " 'C:\\\\Windows\\\\Fonts\\\\cambriab.ttf',\n",
       " 'C:\\\\WINDOWS\\\\Fonts\\\\ITCKRIST.TTF',\n",
       " 'C:\\\\Users\\\\ddora\\\\AppData\\\\Local\\\\Microsoft\\\\Windows\\\\Fonts\\\\a장미다방.otf',\n",
       " 'C:\\\\WINDOWS\\\\Fonts\\\\GARA.TTF',\n",
       " 'C:\\\\Windows\\\\Fonts\\\\segoescb.ttf',\n",
       " 'C:\\\\WINDOWS\\\\Fonts\\\\simsunb.ttf',\n",
       " 'C:\\\\WINDOWS\\\\Fonts\\\\msgothic.ttc',\n",
       " 'C:\\\\WINDOWS\\\\Fonts\\\\sylfaen.ttf',\n",
       " 'C:\\\\Windows\\\\Fonts\\\\SitkaB.ttc',\n",
       " 'C:\\\\WINDOWS\\\\Fonts\\\\NanumSquare_acR.ttf',\n",
       " 'C:\\\\Windows\\\\Fonts\\\\PAPYRUS.TTF',\n",
       " 'C:\\\\Windows\\\\Fonts\\\\H2GPRM.TTF',\n",
       " 'C:\\\\Windows\\\\Fonts\\\\arial.ttf',\n",
       " 'C:\\\\WINDOWS\\\\Fonts\\\\malgunbd.ttf']"
      ]
     },
     "execution_count": 75,
     "metadata": {},
     "output_type": "execute_result"
    }
   ],
   "source": [
    "font_list = fm.findSystemFonts(fontpaths = None, fontext = 'ttf')\n",
    "font_list[:]"
   ]
  },
  {
   "cell_type": "code",
   "execution_count": 76,
   "metadata": {},
   "outputs": [],
   "source": [
    "import matplotlib as mpl ; mpl.rcParams['axes.unicode_minus'] = False\n",
    "import matplotlib.pyplot as plt\n",
    "plt.rcParams['font.family'] = 'HYGothic-Medium' #HY Gothic 폰트 이용"
   ]
  },
  {
   "cell_type": "code",
   "execution_count": 77,
   "metadata": {},
   "outputs": [
    {
     "data": {
      "text/html": [
       "<div>\n",
       "<style scoped>\n",
       "    .dataframe tbody tr th:only-of-type {\n",
       "        vertical-align: middle;\n",
       "    }\n",
       "\n",
       "    .dataframe tbody tr th {\n",
       "        vertical-align: top;\n",
       "    }\n",
       "\n",
       "    .dataframe thead th {\n",
       "        text-align: right;\n",
       "    }\n",
       "</style>\n",
       "<table border=\"1\" class=\"dataframe\">\n",
       "  <thead>\n",
       "    <tr style=\"text-align: right;\">\n",
       "      <th></th>\n",
       "      <th>일</th>\n",
       "      <th>해외유입</th>\n",
       "      <th>국내발생</th>\n",
       "    </tr>\n",
       "  </thead>\n",
       "  <tbody>\n",
       "    <tr>\n",
       "      <th>0</th>\n",
       "      <td>07-15</td>\n",
       "      <td>28</td>\n",
       "      <td>11</td>\n",
       "    </tr>\n",
       "    <tr>\n",
       "      <th>1</th>\n",
       "      <td>07-16</td>\n",
       "      <td>47</td>\n",
       "      <td>14</td>\n",
       "    </tr>\n",
       "    <tr>\n",
       "      <th>2</th>\n",
       "      <td>07-17</td>\n",
       "      <td>39</td>\n",
       "      <td>21</td>\n",
       "    </tr>\n",
       "    <tr>\n",
       "      <th>3</th>\n",
       "      <td>07-18</td>\n",
       "      <td>28</td>\n",
       "      <td>11</td>\n",
       "    </tr>\n",
       "    <tr>\n",
       "      <th>4</th>\n",
       "      <td>07-19</td>\n",
       "      <td>13</td>\n",
       "      <td>21</td>\n",
       "    </tr>\n",
       "    <tr>\n",
       "      <th>5</th>\n",
       "      <td>07-20</td>\n",
       "      <td>22</td>\n",
       "      <td>4</td>\n",
       "    </tr>\n",
       "    <tr>\n",
       "      <th>6</th>\n",
       "      <td>07-21</td>\n",
       "      <td>25</td>\n",
       "      <td>20</td>\n",
       "    </tr>\n",
       "  </tbody>\n",
       "</table>\n",
       "</div>"
      ],
      "text/plain": [
       "       일  해외유입  국내발생\n",
       "0  07-15    28    11\n",
       "1  07-16    47    14\n",
       "2  07-17    39    21\n",
       "3  07-18    28    11\n",
       "4  07-19    13    21\n",
       "5  07-20    22     4\n",
       "6  07-21    25    20"
      ]
     },
     "execution_count": 77,
     "metadata": {},
     "output_type": "execute_result"
    }
   ],
   "source": [
    "covid = pd.read_csv('quiz1.csv',thousands = ',')\n",
    "covid"
   ]
  },
  {
   "cell_type": "code",
   "execution_count": 78,
   "metadata": {},
   "outputs": [
    {
     "data": {
      "image/png": "[encoded data removed]",
      "text/plain": [
       "<Figure size 432x288 with 1 Axes>"
      ]
     },
     "metadata": {
      "needs_background": "light"
     },
     "output_type": "display_data"
    }
   ],
   "source": [
    "fig, ax = plt.subplots()\n",
    "ax.bar(covid['일'], covid['국내발생'])\n",
    "ax.set_xlabel('일')\n",
    "ax.set_ylabel('감염경로 구분에 따른 신규 확진자 현황')\n",
    "plt.show()"
   ]
  },
  {
   "cell_type": "code",
   "execution_count": 84,
   "metadata": {},
   "outputs": [
    {
     "data": {
      "image/png": "[encoded data removed]",
      "text/plain": [
       "<Figure size 432x288 with 1 Axes>"
      ]
     },
     "metadata": {
      "needs_background": "light"
     },
     "output_type": "display_data"
    }
   ],
   "source": [
    "fig, ax = plt.subplots()\n",
    "ax.set_ylim([0, 70])\n",
    "ax.grid(True, color='gray', linestyle='--', linewidth=1,axis='y',zorder=1)\n",
    "ax.bar(covid['일'], covid['해외유입'], label='해외유입',zorder=2, color=\"deeppink\")\n",
    "ax.bar(covid['일'], covid['국내발생'], bottom=covid['해외유입'], label='국내발생', color=\"dodgerblue\",zorder=3) \n",
    "#zorder가 클수록 앞으로 오게 설정이 되는듯 함.\n",
    "ax.set_xticklabels(covid['일'])\n",
    "ax.set_xlabel('일')\n",
    "ax.set_ylabel('확진환자')\n",
    "ax.set_title('코로나바이러스 국내 현황')\n",
    "ax.legend()\n",
    "plt.show()"
   ]
  },
  {
   "cell_type": "markdown",
   "metadata": {},
   "source": [
    "#### color name은 여기서 찾기\n",
    "https://matplotlib.org/3.1.0/gallery/color/named_colors.html"
   ]
  },
  {
   "cell_type": "markdown",
   "metadata": {},
   "source": [
    "#### colormap 나중에 여기서 찾으면 좋을 듯!\n",
    "https://matplotlib.org/tutorials/colors/colormaps.html"
   ]
  },
  {
   "cell_type": "markdown",
   "metadata": {},
   "source": [
    "## Quiz2"
   ]
  },
  {
   "cell_type": "code",
   "execution_count": 80,
   "metadata": {},
   "outputs": [
    {
     "data": {
      "text/html": [
       "<div>\n",
       "<style scoped>\n",
       "    .dataframe tbody tr th:only-of-type {\n",
       "        vertical-align: middle;\n",
       "    }\n",
       "\n",
       "    .dataframe tbody tr th {\n",
       "        vertical-align: top;\n",
       "    }\n",
       "\n",
       "    .dataframe thead th {\n",
       "        text-align: right;\n",
       "    }\n",
       "</style>\n",
       "<table border=\"1\" class=\"dataframe\">\n",
       "  <thead>\n",
       "    <tr style=\"text-align: right;\">\n",
       "      <th></th>\n",
       "      <th>일</th>\n",
       "      <th>누적 확진환자</th>\n",
       "      <th>일 확진환자</th>\n",
       "    </tr>\n",
       "  </thead>\n",
       "  <tbody>\n",
       "    <tr>\n",
       "      <th>0</th>\n",
       "      <td>07-15</td>\n",
       "      <td>13551</td>\n",
       "      <td>39</td>\n",
       "    </tr>\n",
       "    <tr>\n",
       "      <th>1</th>\n",
       "      <td>07-16</td>\n",
       "      <td>13612</td>\n",
       "      <td>61</td>\n",
       "    </tr>\n",
       "    <tr>\n",
       "      <th>2</th>\n",
       "      <td>07-17</td>\n",
       "      <td>13672</td>\n",
       "      <td>60</td>\n",
       "    </tr>\n",
       "    <tr>\n",
       "      <th>3</th>\n",
       "      <td>07-18</td>\n",
       "      <td>13711</td>\n",
       "      <td>39</td>\n",
       "    </tr>\n",
       "    <tr>\n",
       "      <th>4</th>\n",
       "      <td>07-19</td>\n",
       "      <td>13735</td>\n",
       "      <td>34</td>\n",
       "    </tr>\n",
       "    <tr>\n",
       "      <th>5</th>\n",
       "      <td>07-20</td>\n",
       "      <td>13771</td>\n",
       "      <td>26</td>\n",
       "    </tr>\n",
       "    <tr>\n",
       "      <th>6</th>\n",
       "      <td>07-21</td>\n",
       "      <td>13816</td>\n",
       "      <td>45</td>\n",
       "    </tr>\n",
       "  </tbody>\n",
       "</table>\n",
       "</div>"
      ],
      "text/plain": [
       "       일  누적 확진환자  일 확진환자\n",
       "0  07-15    13551      39\n",
       "1  07-16    13612      61\n",
       "2  07-17    13672      60\n",
       "3  07-18    13711      39\n",
       "4  07-19    13735      34\n",
       "5  07-20    13771      26\n",
       "6  07-21    13816      45"
      ]
     },
     "execution_count": 80,
     "metadata": {},
     "output_type": "execute_result"
    }
   ],
   "source": [
    "covid2 = pd.read_csv('quiz2.csv',thousands = ',')\n",
    "covid2"
   ]
  },
  {
   "cell_type": "code",
   "execution_count": 96,
   "metadata": {},
   "outputs": [
    {
     "data": {
      "image/png": "[encoded data removed]",
      "text/plain": [
       "<Figure size 432x288 with 2 Axes>"
      ]
     },
     "metadata": {
      "needs_background": "light"
     },
     "output_type": "display_data"
    }
   ],
   "source": [
    "fig, ax = plt.subplots()\n",
    "\n",
    "\n",
    "ax.set_ylim([0, 14000])\n",
    "ax.grid(True, color='gray', linestyle='--', linewidth=2, axis='y',zorder=1)\n",
    "ax.bar(covid2['일'], covid2['누적 확진환자'],label='누적 확진환자', color=\"dodgerblue\", zorder=2)\n",
    "ax2 = ax.twinx()\n",
    "ax2.set_ylim([0, 90])\n",
    "ax2.plot(covid2['일'], covid2['일 확진환자'], label='일 확진환자',marker= 'o',color='tomato',zorder=2)\n",
    "\n",
    "ax.set_xticklabels(covid2['일'])\n",
    "ax.set_xlabel('일')\n",
    "ax.set_ylabel('확진환자')\n",
    "ax.set_title('코로나바이러스 국내 현황')\n",
    "fig.legend(bbox_to_anchor=(0.55, 0.09))\n",
    "\n",
    "plt.show()"
   ]
  },
  {
   "cell_type": "code",
   "execution_count": null,
   "metadata": {},
   "outputs": [],
   "source": []
  },
  {
   "cell_type": "code",
   "execution_count": null,
   "metadata": {},
   "outputs": [],
   "source": []
  }
 ],
 "metadata": {
  "kernelspec": {
   "display_name": "Python 3",
   "language": "python",
   "name": "python3"
  },
  "language_info": {
   "codemirror_mode": {
    "name": "ipython",
    "version": 3
   },
   "file_extension": ".py",
   "mimetype": "text/x-python",
   "name": "python",
   "nbconvert_exporter": "python",
   "pygments_lexer": "ipython3",
   "version": "3.7.6"
  }
 },
 "nbformat": 4,
 "nbformat_minor": 4
}
